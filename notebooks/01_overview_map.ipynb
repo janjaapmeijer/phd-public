{
 "cells": [
  {
   "cell_type": "code",
   "execution_count": 1,
   "metadata": {},
   "outputs": [],
   "source": [
    "%run ../../_setup.py\n",
    "\n",
    "from netCDF4 import Dataset\n",
    "import xarray\n",
    "\n",
    "import numpy as np\n",
    "\n",
    "import pygmt\n",
    "# from gmt import Figure\n",
    "\n",
    "\n",
    "import matplotlib.pyplot as plt\n",
    "%matplotlib notebook\n",
    "\n",
    "from OceanPy.readwrite import readxyz\n",
    "\n",
    "from scipy.interpolate import griddata\n",
    "import cmocean as cmo"
   ]
  },
  {
   "cell_type": "markdown",
   "metadata": {},
   "source": [
    "# Bathymetry (Smith and Sandwell, 1997)"
   ]
  },
  {
   "cell_type": "code",
   "execution_count": 2,
   "metadata": {},
   "outputs": [],
   "source": [
    "# input_file = os.path.join(datadir, 'external', 'bathymetry', 'smith_and_sandwell_1997', 'bathymetry_-48_137_-58_157.nc')\n",
    "# input_file = os.path.join(datadir, 'external', 'bathymetry', 'bodc_res30sec', 'GEBCO_2014_2D_137.0_-58.0_147.0_-48.0.nc')\n",
    "input_file = os.path.join(datadir, 'external', 'bathymetry', 'gebco_2019', 'gebco_2019_n-45.0_s-60.0_w135.0_e160.0.nc')\n",
    "\n",
    "bathy = xarray.open_dataset(input_file)\n",
    "\n",
    "# boundaries\n",
    "north = -52.4\n",
    "west = 137\n",
    "south = -48\n",
    "east = 147\n",
    "\n",
    "# dep = bathy.depth.sel(longitude=slice(west, east), latitude=slice(north, south))\n",
    "dep = bathy.elevation.sel(lon=slice(west, east), lat=slice(north, south))\n",
    "depths = np.linspace(-5000, 0, 11)\n",
    "\n",
    "\n",
    "# x, y, z = readxyz(os.path.join(datadir, 'external', 'bathymetry', 'smith_and_sandwell_1997_137_-52.4_147_-48.xyz'))\n",
    "\n",
    "# # grid  1 minute\n",
    "# loni = np.linspace(137, 147, 60*(147-137)+1)\n",
    "# lati = np.linspace(-48, -52.4, int(60*(-48 + 52.4)+1))\n",
    "\n",
    "# lonlon, latlat = np.meshgrid(loni, lati)\n",
    "# elev = griddata((x, y), z, (lonlon, latlat), method='linear')\n",
    "\n",
    "# fig, ax = plt.subplots(2, 1)\n",
    "# ax[0].scatter(x, y, c=z)\n",
    "# ax[1].pcolor(lonlon, latlat, np.ma.masked_invalid(elev))\n"
   ]
  },
  {
   "cell_type": "markdown",
   "metadata": {},
   "source": [
    "# Sea surface heights and derived variables\n",
    "http://marine.copernicus.eu/services-portfolio/access-to-products/?option=com_csw&view=details&product_id=SEALEVEL_GLO_PHY_L4_REP_OBSERVATIONS_008_047\n"
   ]
  },
  {
   "cell_type": "markdown",
   "metadata": {},
   "source": [
    "TODO: open different ssh rep file and make selection of data from 136.5, such that ssh contours cover the whole figure"
   ]
  },
  {
   "cell_type": "code",
   "execution_count": 3,
   "metadata": {},
   "outputs": [],
   "source": [
    "input_file = os.path.join(datadir, 'external', 'ssh', 'rep', 'SEALEVEL_GLO_PHY_L4_REP_OBS_137_-52.4_147_-48_199801-199812.nc')\n",
    "\n",
    "# Select data over time of the voyage\n",
    "ssh = xarray.open_dataset(input_file)\n",
    "SSHvoyage = ssh.sel(time=slice('1998-03-10', '1998-03-28'))\n",
    "\n",
    "# Mean Absolute Dynamic Topography (ADT) over time of voyage\n",
    "voyagemeanadt = SSHvoyage.mean('time')['adt']\n",
    "\n",
    "# Weekly mean ADT\n",
    "weeks = np.unique(SSHvoyage.time.dt.week)\n",
    "weekmeanadt = ssh.groupby('time.week').mean('time')['adt'][weeks-1]\n"
   ]
  },
  {
   "cell_type": "markdown",
   "metadata": {},
   "source": [
    "# CTD stations SS9802 and SR3 stations AA9802"
   ]
  },
  {
   "cell_type": "code",
   "execution_count": 5,
   "metadata": {},
   "outputs": [],
   "source": [
    "input_file = os.path.join(datadir, 'ss9802', 'processed', 'ctd', 'ss9802_ctd.nc')\n",
    "ctd = Dataset(input_file)\n",
    "\n",
    "input_file = os.path.join(datadir, 'au9706', 'processed', 'au9706_ctd.nc')\n",
    "sr3 = Dataset(input_file)"
   ]
  },
  {
   "cell_type": "code",
   "execution_count": 6,
   "metadata": {},
   "outputs": [],
   "source": [
    "stations = [2, 18, 19, 21, 23, 40, 41, 44, 46, 67, 66, 65, 53, 73]\n",
    "istations = [i for i, station in enumerate(sr3['station'][:]) if station in stations]\n"
   ]
  },
  {
   "cell_type": "code",
   "execution_count": 7,
   "metadata": {},
   "outputs": [],
   "source": [
    "\n",
    "# from netCDF4 import num2date\n",
    "# # help(num2date)\n",
    "# from gsw import SA_from_SP, CT_from_t, z_from_p, grav, geo_strf_dyn_height"
   ]
  },
  {
   "cell_type": "code",
   "execution_count": 8,
   "metadata": {
    "scrolled": false
   },
   "outputs": [],
   "source": [
    "# lon = sr3['lon'][:][:, np.newaxis]\n",
    "# lat = sr3['lat'][:][:, np.newaxis]\n",
    "\n",
    "# time = num2date(sr3['time'][:], sr3['time'].units)\n",
    "\n",
    "# nplevels = sr3['Pressure_row_size'][:]\n",
    "# p_ref = 1500\n",
    "# # nstations, npmax = len(stations), max(nplevels)\n",
    "\n",
    "# t = np.ma.masked_all((len(nplevels), max(nplevels)))\n",
    "# SP, p, z = t.copy(), t.copy(), t.copy()\n",
    "# for ist, ip in enumerate(nplevels):\n",
    "#     i = np.sum(nplevels[:ist])\n",
    "#     ii = np.sum(nplevels[:ist+1])\n",
    "\n",
    "#     t[ist, :ip] = sr3['Temperature'][i:ii]\n",
    "#     SP[ist, :ip] = sr3['Salinity'][i:ii]\n",
    "#     p[ist, :ip] = sr3['Pressure'][i:ii]\n",
    "#     z[ist, :ip] = sr3['z'][i:ii]\n",
    "\n",
    "# SA = SA_from_SP(SP, p, lon, lat)\n",
    "# CT = CT_from_t(SA, t, p)\n",
    "# deltaD = np.ma.masked_invalid(geo_strf_dyn_height(SA.data, CT.data, p, p_ref=p_ref, axis=1))\n",
    "# g = grav(lat, p)\n",
    "\n",
    "# sr3_gsw = {}\n"
   ]
  },
  {
   "cell_type": "code",
   "execution_count": 9,
   "metadata": {},
   "outputs": [],
   "source": [
    "# # # find indices for pressure levels in CTD prodiles\n",
    "# # pressure_levels = {}\n",
    "# # for ip, p in enumerate(ctd['p'][:]):\n",
    "# #     pressure_levels[p] = ip\n",
    "\n",
    "# # # define reference and interest level \n",
    "# # # p_ref = 1494\n",
    "# # p_int = 2\n",
    "\n",
    "# # # get dynamic height contours\n",
    "# # D = np.array([ctd['deltaD'][profile, pressure_levels[p_int]] / \n",
    "# #               ctd['g'][profile, pressure_levels[p_int]]\n",
    "# #               for profile in range(len(ctd.dimensions['profile']))])\n",
    "\n",
    "\n",
    "# # find indices for pressure levels in CTD prodiles\n",
    "# pressure_levels = {}\n",
    "# for ip, pres in enumerate(p[1].data):\n",
    "#     pressure_levels[pres] = ip\n",
    "\n",
    "# # define reference and interest level \n",
    "# # p_ref = 1494\n",
    "# p_int = 2\n",
    "\n",
    "# # get dynamic height contours\n",
    "# D = np.array([deltaD[profile, pressure_levels[p_int]] / \n",
    "#               g[profile, pressure_levels[p_int]]\n",
    "#               for profile in range(len(nplevels))])"
   ]
  },
  {
   "cell_type": "code",
   "execution_count": 10,
   "metadata": {
    "scrolled": false
   },
   "outputs": [],
   "source": [
    "# fig, ax = plt.subplots(figsize=(12,8))\n",
    "# ax.scatter(ctd['lon'][2:,0], ctd['lat'][2:,0], facecolors='r')\n",
    "# ax.plot(sr3['longitude'][istations], sr3['latitude'][istations], 'k.-')\n",
    "# ax.scatter(sr3['longitude'][:], sr3['latitude'][:], facecolors='g')\n",
    "\n",
    "# # plt.scatter(sr3['lon'][stations], sr3['lat'][stations], facecolors='y')\n",
    "# ax.axis('equal')\n"
   ]
  },
  {
   "cell_type": "markdown",
   "metadata": {},
   "source": [
    "# Orsi et al. 1995 fronts"
   ]
  },
  {
   "cell_type": "code",
   "execution_count": 11,
   "metadata": {},
   "outputs": [],
   "source": [
    "orsi = {}\n",
    "fronts = {'stf': 'tomato', 'saf': 'skyblue', 'pf': 'royalblue'}\n",
    "for front in fronts.keys():\n",
    "    input_file = os.path.join(datadir, 'external', 'orsi', front + '.txt')\n",
    "    lon, lat = zip(*np.genfromtxt(input_file, delimiter='   ', comments='%'))\n",
    "    orsi[front] = [lon, lat]\n"
   ]
  },
  {
   "cell_type": "code",
   "execution_count": 12,
   "metadata": {},
   "outputs": [
    {
     "name": "stdout",
     "output_type": "stream",
     "text": [
      "None\n"
     ]
    }
   ],
   "source": [
    "cmap = pygmt.makecpt(C='jet', T=[-5000, -1000])\n",
    "print(cmap)"
   ]
  },
  {
   "cell_type": "code",
   "execution_count": 13,
   "metadata": {},
   "outputs": [],
   "source": [
    "import matplotlib.colors as mcolors\n",
    "def gmtColormap(cptf, name=None):\n",
    "    \"\"\"Read a GMT color map from an OPEN cpt file\n",
    "    Parameters\n",
    "    ----------\n",
    "    cptf : open file or url handle\n",
    "        path to .cpt file\n",
    "    name : str, optional\n",
    "        name for color map\n",
    "        if not provided, the file name will be used\n",
    "    \"\"\"\n",
    "    # generate cmap name\n",
    "    if name is None:\n",
    "#         name = '_'.join(os.path.basename(cptf.name).split('.')[:-1])\n",
    "        filename = os.path.basename(os.path.join(cptf))\n",
    "        name = os.path.splitext(filename)[0]\n",
    "    \n",
    "    f = open(cptf)\n",
    "    \n",
    "    # process file\n",
    "    x = []\n",
    "    r = []\n",
    "    g = []\n",
    "    b = []\n",
    "    lastls = None\n",
    "    for l in f.readlines():\n",
    "        ls = l.split()\n",
    "\n",
    "        # skip empty lines\n",
    "        if not ls:\n",
    "            continue\n",
    "\n",
    "        # parse header info\n",
    "        if ls[0] in [\"#\", b\"#\"]:\n",
    "            if ls[-1] in [\"HSV\", b\"HSV\"]:\n",
    "                colorModel = \"HSV\"\n",
    "            else:\n",
    "                colorModel = \"RGB\"\n",
    "            continue\n",
    "\n",
    "        # skip BFN info\n",
    "        if ls[0] in [\"B\", b\"B\", \"F\", b\"F\", \"N\", b\"N\"]:\n",
    "            continue\n",
    "\n",
    "        # parse color vectors\n",
    "        x.append(float(ls[0]))\n",
    "        r.append(float(ls[1]))\n",
    "        g.append(float(ls[2]))\n",
    "        b.append(float(ls[3]))\n",
    "\n",
    "        # save last row\n",
    "        lastls = ls\n",
    "\n",
    "    x.append(float(lastls[4]))\n",
    "    r.append(float(lastls[5]))\n",
    "    g.append(float(lastls[6]))\n",
    "    b.append(float(lastls[7]))\n",
    "    \n",
    "    x = np.array(x)\n",
    "    r = np.array(r)\n",
    "    g = np.array(g)\n",
    "    b = np.array(b)\n",
    "\n",
    "    if colorModel == \"HSV\":\n",
    "        for i in range(r.shape[0]):\n",
    "            # convert HSV to RGB\n",
    "            rr,gg,bb = colorsys.hsv_to_rgb(r[i]/360., g[i], b[i])\n",
    "            r[i] = rr ; g[i] = gg ; b[i] = bb\n",
    "    elif colorModel == \"RGB\":\n",
    "        r /= 255.\n",
    "        g /= 255.\n",
    "        b /= 255.\n",
    "\n",
    "    red = []\n",
    "    blue = []\n",
    "    green = []\n",
    "    xNorm = (x - x[0])/(x[-1] - x[0])\n",
    "    for i in range(len(x)):\n",
    "        red.append([xNorm[i],r[i],r[i]])\n",
    "        green.append([xNorm[i],g[i],g[i]])\n",
    "        blue.append([xNorm[i],b[i],b[i]])\n",
    "\n",
    "    # return colormap\n",
    "    cdict = dict(red=red,green=green,blue=blue)\n",
    "    return mcolors.LinearSegmentedColormap(name=name,segmentdata=cdict)\n",
    "\n",
    "def export_cmap_to_cpt(cmap, vmin=0, vmax=1, N=255, filename=\"test.cpt\",**kwargs):\n",
    "    # create string for upper, lower colors\n",
    "    b = np.array(kwargs.get(\"B\", cmap(0.)))\n",
    "    f = np.array(kwargs.get(\"F\", cmap(1.)))\n",
    "    na = np.array(kwargs.get(\"N\", (0,0,0))).astype(float)\n",
    "    ext = (np.c_[b[:3],f[:3],na[:3]].T * cmap.N).astype(int)\n",
    "    extstr = \"B {:3d} {:3d} {:3d}\\nF {:3d} {:3d} {:3d}\\nN {:3d} {:3d} {:3d}\"\n",
    "    ex = extstr.format(*list(ext.flatten()))\n",
    "    #create colormap\n",
    "    cols = (cmap(np.linspace(0.,1.,N))[:,:3]*cmap.N).astype(int)\n",
    "    vals = np.linspace(vmin, vmax, N)\n",
    "    arr = np.c_[vals[:-1],cols[:-1],vals[1:],cols[1:]]\n",
    "    # save to file\n",
    "    fmt = \"%e %3d %3d %3d %e %3d %3d %3d\"\n",
    "    np.savetxt(filename, arr, fmt=fmt, \n",
    "               header=\"# COLOR_MODEL = RGB\",\n",
    "               footer = ex, comments=\"\")\n"
   ]
  },
  {
   "cell_type": "code",
   "execution_count": 14,
   "metadata": {},
   "outputs": [
    {
     "data": {
      "text/plain": [
       "{'G': 'download'}"
      ]
     },
     "execution_count": 14,
     "metadata": {},
     "output_type": "execute_result"
    }
   ],
   "source": [
    "from pygmt import which\n",
    "which.aliases"
   ]
  },
  {
   "cell_type": "code",
   "execution_count": 24,
   "metadata": {},
   "outputs": [],
   "source": [
    "Nin = 256\n",
    "Nout = 6\n",
    "    \n",
    "# test case: create cpt file from cmocean colormap\n",
    "cmap = plt.get_cmap(cmo.cm.deep_r, cmo.cm.deep_r.N)\n",
    "# cmap = gmtColormap_openfile('cmaps/GMT_seafloor.cpt')\n",
    "# Nin = cmap.N\n",
    "\n",
    "# you may create your colormap differently, as in the question\n",
    "export_cmap_to_cpt(cmap, vmin=-5000, vmax=-1000, N=Nout, filename=\"./cmaps/cmocean_deep.cpt\")"
   ]
  },
  {
   "cell_type": "code",
   "execution_count": 25,
   "metadata": {},
   "outputs": [],
   "source": [
    "odds = [1, 2, 9, 10, 11, 12, 27, 45, 46, 47, 75, 76, 77, 78, 101]\n",
    "iodds = [istat for istat, station in enumerate(ctd['station']) if station in odds]"
   ]
  },
  {
   "cell_type": "code",
   "execution_count": 2,
   "metadata": {},
   "outputs": [
    {
     "ename": "NameError",
     "evalue": "name 'pygmt' is not defined",
     "output_type": "error",
     "traceback": [
      "\u001b[0;31m---------------------------------------------------------------------------\u001b[0m",
      "\u001b[0;31mNameError\u001b[0m                                 Traceback (most recent call last)",
      "\u001b[0;32m<ipython-input-2-1dec54fb1803>\u001b[0m in \u001b[0;36m<module>\u001b[0;34m()\u001b[0m\n\u001b[0;32m----> 1\u001b[0;31m \u001b[0mfig\u001b[0m \u001b[0;34m=\u001b[0m \u001b[0mpygmt\u001b[0m\u001b[0;34m.\u001b[0m\u001b[0mFigure\u001b[0m\u001b[0;34m(\u001b[0m\u001b[0;34m)\u001b[0m\u001b[0;34m\u001b[0m\u001b[0m\n\u001b[0m\u001b[1;32m      2\u001b[0m \u001b[0mfig\u001b[0m\u001b[0;34m.\u001b[0m\u001b[0mcoast\u001b[0m\u001b[0;34m(\u001b[0m\u001b[0mregion\u001b[0m\u001b[0;34m=\u001b[0m\u001b[0;34m[\u001b[0m\u001b[0;36m137\u001b[0m\u001b[0;34m,\u001b[0m \u001b[0;36m147\u001b[0m\u001b[0;34m,\u001b[0m \u001b[0;34m-\u001b[0m\u001b[0;36m52.4\u001b[0m\u001b[0;34m,\u001b[0m \u001b[0;34m-\u001b[0m\u001b[0;36m48\u001b[0m\u001b[0;34m]\u001b[0m\u001b[0;34m,\u001b[0m \u001b[0mprojection\u001b[0m\u001b[0;34m=\u001b[0m\u001b[0;34m'B141/-51/-50/-49/5i'\u001b[0m\u001b[0;34m,\u001b[0m \u001b[0mland\u001b[0m\u001b[0;34m=\u001b[0m\u001b[0;34m'black'\u001b[0m\u001b[0;34m,\u001b[0m \u001b[0mwater\u001b[0m\u001b[0;34m=\u001b[0m\u001b[0;34m'skyblue'\u001b[0m\u001b[0;34m,\u001b[0m \u001b[0mframe\u001b[0m\u001b[0;34m=\u001b[0m\u001b[0;32mTrue\u001b[0m\u001b[0;34m)\u001b[0m\u001b[0;34m\u001b[0m\u001b[0m\n\u001b[1;32m      3\u001b[0m \u001b[0;31m# fig.contour(lnln.flatten(), ltlt.flatten(), dep.data.flatten(), pen='1p,black')\u001b[0m\u001b[0;34m\u001b[0m\u001b[0;34m\u001b[0m\u001b[0m\n\u001b[1;32m      4\u001b[0m \u001b[0;34m\u001b[0m\u001b[0m\n\u001b[1;32m      5\u001b[0m \u001b[0;31m# -DJRM+o0.6i/0+mc -I0.3 -Bx2+lTOPO -By+lkm\u001b[0m\u001b[0;34m\u001b[0m\u001b[0;34m\u001b[0m\u001b[0m\n",
      "\u001b[0;31mNameError\u001b[0m: name 'pygmt' is not defined"
     ]
    }
   ],
   "source": [
    "fig = pygmt.Figure()\n",
    "fig.coast(region=[137, 147, -52.4, -48], projection='B141/-51/-50/-49/5i', land='black', water='skyblue', frame=True)\n",
    "# fig.contour(lnln.flatten(), ltlt.flatten(), dep.data.flatten(), pen='1p,black')\n",
    "\n",
    "# -DJRM+o0.6i/0+mc -I0.3 -Bx2+lTOPO -By+lkm\n",
    "# plot bathymetry\n",
    "fig.grdimage(dep, projection='B141/-51/-50/-49/5i', region=[137, 147, -52.4, -48], cmap='./cmaps/cmocean_deep.cpt')#, shading='+a120+nt1.5')\n",
    "fig.colorbar(\n",
    "    cmap=\"./cmaps/cmocean_deep.cpt\",\n",
    "    position=\"n0.1/-0.2+w10/0.5+h\",  # plot using paper coordinates (x) at 1.2cm,4.75cm\n",
    "    frame=[\"xaf\", \"y+lDepth\\t(m)\"], #-DJRM+o0.6i/0+e+mc\n",
    "    scale=1,\n",
    ")\n",
    "# plot SSH contours\n",
    "for i in range(weekmeanadt.shape[0]):\n",
    "    fig.grdcontour(weekmeanadt[i], interval=0.2, annotation='-', limit=[-0.2, 0.4], pen='gray')\n",
    "fig.grdcontour(voyagemeanadt, interval=0.2, annotation=0.2, label_placement='l144/52S/145/48S', limit=[-0.2, 0.4], pen='1p,gray')\n",
    "\n",
    "# plot AU9706 stations and shiptrack\n",
    "fig.plot(x=sr3['longitude'][istations], y=sr3['latitude'][istations], pen='0.7p,gold')\n",
    "fig.plot(x=sr3['longitude'][istations], y=sr3['latitude'][istations], style='s0.3c', color='gold', pen='black')\n",
    "\n",
    "# plot SS9802 stations and shiptrack\n",
    "fig.plot(x=ctd['lon'][2:,0], y=ctd['lat'][2:,0], pen='1p,white')\n",
    "fig.plot(x=ctd['lon'][2:,0], y=ctd['lat'][2:,0], style='c0.2c', color='white', pen='black')\n",
    "fig.plot(x=ctd['lon'][iodds,0], y=ctd['lat'][iodds,0], style='c0.2c', color='orange', pen='black')\n",
    "# fig.plot(x=ctd['lon'][2:,0]+0.01, y=ctd['lat'][2:,0]+0.1, text='1', style=)\n",
    "\n",
    "# plot globe subplot and mean SSH contours of fronts from Orsi et al. 1995\n",
    "fig.coast(region=\"g\", projection=\"G141/-50.1/10000/0/0/0/0/0/2i\", land=\"black\", water='white', frame='afg', X='3.8i', Y='2.2i')\n",
    "for front in fronts.keys():\n",
    "    fig.plot(orsi[front][0], orsi[front][1], pen='1p,gray') #'0.75p,%s' %fronts[front]\n",
    "#     fig.plot([140, 150], [-50, -52], text='5p'+'hello')\n",
    "\n",
    "# plot SS9802 survey area in subplot\n",
    "fig.plot([137.0, 147.0, 147.0, 137.0, 137.0], [-52.4, -52.4, -48.0, -48.0, -52.4], pen='0.5p,red')\n",
    "fig.plot(x=sr3['longitude'][istations], y=sr3['latitude'][istations], pen='0.1p,gold')\n",
    "fig.plot(x=sr3['longitude'][istations], y=sr3['latitude'][istations], style='s0.075c', color='gold', pen='gold')\n",
    "\n",
    "fig.text(x=105, y=-53, angle=25,text='PF',font='7p,black')\n",
    "fig.text(x=105, y=-48, angle=25,text='SAF',font='7p,black')\n",
    "fig.text(x=105, y=-41, angle=25,text='STF',font='7p,bold,black')\n",
    "\n",
    "\n",
    "# colorbar pygmt.makecpt\n",
    "fig.show(dpi=300, width=1000)"
   ]
  },
  {
   "cell_type": "code",
   "execution_count": 27,
   "metadata": {},
   "outputs": [
    {
     "ename": "GMTInvalidInput",
     "evalue": "Transparency unavailable for 'pdf', only for png.",
     "output_type": "error",
     "traceback": [
      "\u001b[0;31m---------------------------------------------------------------------------\u001b[0m",
      "\u001b[0;31mGMTInvalidInput\u001b[0m                           Traceback (most recent call last)",
      "\u001b[0;32m<ipython-input-27-b5db4e7b09bf>\u001b[0m in \u001b[0;36m<module>\u001b[0;34m()\u001b[0m\n\u001b[1;32m      1\u001b[0m \u001b[0mextensions\u001b[0m \u001b[0;34m=\u001b[0m \u001b[0;34m[\u001b[0m\u001b[0;34m'.png'\u001b[0m\u001b[0;34m,\u001b[0m \u001b[0;34m'.pdf'\u001b[0m\u001b[0;34m,\u001b[0m \u001b[0;34m'.eps'\u001b[0m\u001b[0;34m]\u001b[0m\u001b[0;34m\u001b[0m\u001b[0m\n\u001b[1;32m      2\u001b[0m \u001b[0;32mfor\u001b[0m \u001b[0mextension\u001b[0m \u001b[0;32min\u001b[0m \u001b[0mextensions\u001b[0m\u001b[0;34m:\u001b[0m\u001b[0;34m\u001b[0m\u001b[0m\n\u001b[0;32m----> 3\u001b[0;31m     \u001b[0mfig\u001b[0m\u001b[0;34m.\u001b[0m\u001b[0msavefig\u001b[0m\u001b[0;34m(\u001b[0m\u001b[0mos\u001b[0m\u001b[0;34m.\u001b[0m\u001b[0mpath\u001b[0m\u001b[0;34m.\u001b[0m\u001b[0mjoin\u001b[0m\u001b[0;34m(\u001b[0m\u001b[0mfigsdir\u001b[0m\u001b[0;34m,\u001b[0m \u001b[0;34m'manuscripts'\u001b[0m\u001b[0;34m,\u001b[0m \u001b[0;34m'01_manuscript'\u001b[0m\u001b[0;34m,\u001b[0m \u001b[0;34m'01_overview-map'\u001b[0m \u001b[0;34m+\u001b[0m \u001b[0mextension\u001b[0m\u001b[0;34m)\u001b[0m\u001b[0;34m,\u001b[0m \u001b[0mtransparent\u001b[0m\u001b[0;34m=\u001b[0m\u001b[0;32mTrue\u001b[0m\u001b[0;34m)\u001b[0m\u001b[0;34m\u001b[0m\u001b[0m\n\u001b[0m",
      "\u001b[0;32m~/miniconda3/envs/ocean36/lib/python3.6/site-packages/pygmt/figure.py\u001b[0m in \u001b[0;36msavefig\u001b[0;34m(self, fname, transparent, crop, anti_alias, show, **kwargs)\u001b[0m\n\u001b[1;32m    214\u001b[0m             \u001b[0;32mif\u001b[0m \u001b[0mfmt\u001b[0m \u001b[0;34m!=\u001b[0m \u001b[0;34m\"g\"\u001b[0m\u001b[0;34m:\u001b[0m\u001b[0;34m\u001b[0m\u001b[0m\n\u001b[1;32m    215\u001b[0m                 raise GMTInvalidInput(\n\u001b[0;32m--> 216\u001b[0;31m                     \u001b[0;34m\"Transparency unavailable for '{}', only for png.\"\u001b[0m\u001b[0;34m.\u001b[0m\u001b[0mformat\u001b[0m\u001b[0;34m(\u001b[0m\u001b[0mext\u001b[0m\u001b[0;34m)\u001b[0m\u001b[0;34m\u001b[0m\u001b[0m\n\u001b[0m\u001b[1;32m    217\u001b[0m                 )\n\u001b[1;32m    218\u001b[0m             \u001b[0mfmt\u001b[0m \u001b[0;34m=\u001b[0m \u001b[0mfmt\u001b[0m\u001b[0;34m.\u001b[0m\u001b[0mupper\u001b[0m\u001b[0;34m(\u001b[0m\u001b[0;34m)\u001b[0m\u001b[0;34m\u001b[0m\u001b[0m\n",
      "\u001b[0;31mGMTInvalidInput\u001b[0m: Transparency unavailable for 'pdf', only for png."
     ]
    }
   ],
   "source": [
    "extensions = ['.png', '.pdf', '.eps']\n",
    "for extension in extensions:\n",
    "    fig.savefig(os.path.join(figsdir, 'manuscripts', '01_manuscript', '01_overview-map' + extension), transparent=True)"
   ]
  },
  {
   "cell_type": "code",
   "execution_count": 36,
   "metadata": {},
   "outputs": [],
   "source": [
    "plt.rc('text', usetex=True)"
   ]
  },
  {
   "cell_type": "code",
   "execution_count": 35,
   "metadata": {},
   "outputs": [
    {
     "data": {
      "text/plain": [
       "<module 'pygmt.mathops' from '/home/janjaapmeijer/miniconda3/envs/ocean36/lib/python3.6/site-packages/pygmt/mathops.py'>"
      ]
     },
     "execution_count": 35,
     "metadata": {},
     "output_type": "execute_result"
    }
   ],
   "source": [
    "pygmt.mathops"
   ]
  },
  {
   "cell_type": "code",
   "execution_count": null,
   "metadata": {},
   "outputs": [],
   "source": [
    "fs_small=12\n",
    "fs_large = 14\n",
    "plt.rc('xtick',labelsize=fs_small)\n",
    "plt.rc('ytick',labelsize=fs_small)\n",
    "plt.rc('text', usetex=True)"
   ]
  }
 ],
 "metadata": {
  "kernelspec": {
   "display_name": "Python 3",
   "language": "python",
   "name": "python3"
  },
  "language_info": {
   "codemirror_mode": {
    "name": "ipython",
    "version": 3
   },
   "file_extension": ".py",
   "mimetype": "text/x-python",
   "name": "python",
   "nbconvert_exporter": "python",
   "pygments_lexer": "ipython3",
   "version": "3.6.6"
  }
 },
 "nbformat": 4,
 "nbformat_minor": 2
}
