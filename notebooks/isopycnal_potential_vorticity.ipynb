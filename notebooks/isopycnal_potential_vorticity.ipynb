{
 "cells": [
  {
   "cell_type": "code",
   "execution_count": 1,
   "metadata": {},
   "outputs": [],
   "source": [
    "%run ../../_setup.py\n",
    "\n",
    "import numpy as np\n",
    "from netCDF4 import Dataset\n",
    "from gsw import IPV_vs_fNsquared_ratio, f, Nsquared"
   ]
  },
  {
   "cell_type": "code",
   "execution_count": 2,
   "metadata": {},
   "outputs": [],
   "source": [
    "# load ctd and gsw data\n",
    "input_file = os.path.join(datadir, 'processed', 'ss9802', 'netcdf', 'ss9802_ctd_gsw.nc')\n",
    "ctd = Dataset(input_file, 'r')"
   ]
  },
  {
   "cell_type": "code",
   "execution_count": 3,
   "metadata": {},
   "outputs": [
    {
     "name": "stderr",
     "output_type": "stream",
     "text": [
      "/home/janjaapmeijer/miniconda3/envs/ocean36/lib/python3.6/site-packages/gsw/stability.py:93: RuntimeWarning: divide by zero encountered in true_divide\n",
      "  N2 = ((g_local**2) / (specvol_mid * db_to_pa * dp))\n",
      "/home/janjaapmeijer/miniconda3/envs/ocean36/lib/python3.6/site-packages/gsw/stability.py:94: RuntimeWarning: invalid value encountered in multiply\n",
      "  N2 *= (beta_mid*dSA - alpha_mid*dCT)\n"
     ]
    },
    {
     "data": {
      "text/plain": [
       "(array([[nan, nan, nan, ..., nan, nan, nan],\n",
       "        [nan, nan, nan, ..., nan, nan, nan],\n",
       "        [nan, nan, nan, ..., nan, nan, nan],\n",
       "        ...,\n",
       "        [nan, nan, nan, ..., nan, nan, nan],\n",
       "        [nan, nan, nan, ..., nan, nan, nan],\n",
       "        [nan, nan, nan, ..., nan, nan, nan]]),\n",
       " array([[   2.,    4.,    6., ..., 1522., 1524., 1526.],\n",
       "        [   2.,    4.,    6., ..., 1522., 1524., 1526.],\n",
       "        [   2.,    4.,    6., ..., 1522., 1524., 1526.],\n",
       "        ...,\n",
       "        [   2.,    4.,    6., ..., 1522., 1524., 1526.],\n",
       "        [   2.,    4.,    6., ..., 1522., 1524., 1526.],\n",
       "        [   2.,    4.,    6., ..., 1522., 1524., 1526.]]))"
      ]
     },
     "execution_count": 3,
     "metadata": {},
     "output_type": "execute_result"
    }
   ],
   "source": [
    "coriolis = f(ctd['lat'][:])\n",
    "\n",
    "SA = ctd['SA'][:]\n",
    "CT = ctd['CT'][:]\n",
    "p = ctd['p'][:]\n",
    "lat = ctd['lat'][:, 1]\n",
    "\n",
    "# print(SA.shape == (lat.shape + p.shape))\n",
    "\n",
    "\n",
    "# SA, CT, p = np.broadcast_arrays(SA, CT, p)\n",
    "\n",
    "# print(SA.shape == (lat.shape + p.shape))\n",
    "\n",
    "# print(SA.shape, (lat.shape + p.shape))\n",
    "# if SA.ndim == 2 and p.ndim == 1 and SA.shape == (lat.shape + p.shape) and :\n",
    "#     print(np.broadcast_arrays(SA, p))\n",
    "\n",
    "p = np.broadcast_arrays(SA, p)[1]\n",
    "lat = np.broadcast_arrays(SA, lat[:,np.newaxis])[1]\n",
    "\n",
    "# mask = SA.mask | CT.mask\n",
    "# N2 = np.ma.masked_invalid(Nsquared(SA=SA.data, CT=CT.data, p=p, lat=lat)[0])\n",
    "# N2 = Nsquared(SA=SA[0,], CT=CT[0,], p=p)\n",
    "# N2\n",
    "\n",
    "\n",
    "Nsquared(SA=SA[0,].data, CT=CT[0,].data, p=p)"
   ]
  },
  {
   "cell_type": "code",
   "execution_count": 10,
   "metadata": {},
   "outputs": [],
   "source": [
    "def Nsquared(SA, CT, p, lat=None, axis=0):\n",
    "    \"\"\"\n",
    "    Calculate the square of the buoyancy frequency.\n",
    "\n",
    "    Parameters\n",
    "    ----------\n",
    "    SA : array-like\n",
    "        Absolute Salinity, g/kg\n",
    "    CT : array-like\n",
    "        Conservative Temperature (ITS-90), degrees C\n",
    "    p : array-like\n",
    "        Sea pressure (absolute pressure minus 10.1325 dbar), dbar\n",
    "    lat : array-like, 1-D, optional\n",
    "        Latitude, degrees.\n",
    "    axis : int, optional\n",
    "        The dimension along which pressure increases.\n",
    "\n",
    "    Returns\n",
    "    -------\n",
    "    N2 : array\n",
    "        Buoyancy frequency-squared at pressure midpoints, 1/s.\n",
    "        The shape along the pressure axis dimension is one\n",
    "        less than that of the inputs.\n",
    "    p_mid : array\n",
    "        Pressure at midpoints of p, dbar.\n",
    "        The array shape matches N2.\n",
    "\n",
    "    \"\"\"\n",
    "    if lat is not None:\n",
    "        if np.any((lat < -90) | (lat > 90)):\n",
    "            raise ValueError('lat is out of range')\n",
    "        try:\n",
    "            SA, CT, p, lat = np.broadcast_arrays(SA, CT, p, lat)\n",
    "        except ValueError:\n",
    "            if SA.shape == (lat.shape + p.shape):\n",
    "                lat = lat[:, np.newaxis]\n",
    "            else:\n",
    "                p = p[:, np.newaxis]\n",
    "            SA, CT, p = np.broadcast_arrays(SA, CT, p)\n",
    "            lat = np.broadcast_arrays(SA, lat)[1]\n",
    "        g = grav(lat, p)\n",
    "    else:\n",
    "        SA, CT, p = np.broadcast_arrays(SA, CT, p)\n",
    "        g = 9.7963  # (Griffies, 2004)\n",
    "\n",
    "    db_to_pa = 1e4\n",
    "    shallow = axis_slicer(SA.ndim, slice(-1), axis)\n",
    "    deep = axis_slicer(SA.ndim, slice(1, None), axis)\n",
    "    if lat is not None:\n",
    "        g_local = 0.5 * (g[shallow] + g[deep])\n",
    "    else:\n",
    "        g_local = g\n",
    "\n",
    "    dSA = SA[deep] - SA[shallow]\n",
    "    dCT = CT[deep] - CT[shallow]\n",
    "    dp = p[deep] - p[shallow]\n",
    "    SA_mid = 0.5 * (SA[shallow] + SA[deep])\n",
    "    CT_mid = 0.5 * (CT[shallow] + CT[deep])\n",
    "    p_mid = 0.5 * (p[shallow] + p[deep])\n",
    "\n",
    "    specvol_mid, alpha_mid, beta_mid = specvol_alpha_beta(SA_mid,\n",
    "                                                          CT_mid, p_mid)\n",
    "\n",
    "    N2 = ((g_local**2) / (specvol_mid * db_to_pa * dp))\n",
    "    N2 *= (beta_mid*dSA - alpha_mid*dCT)\n",
    "\n",
    "    return N2, p_mid"
   ]
  },
  {
   "cell_type": "code",
   "execution_count": 11,
   "metadata": {},
   "outputs": [
    {
     "ename": "NameError",
     "evalue": "name 'axis_slicer' is not defined",
     "output_type": "error",
     "traceback": [
      "\u001b[0;31m---------------------------------------------------------------------------\u001b[0m",
      "\u001b[0;31mNameError\u001b[0m                                 Traceback (most recent call last)",
      "\u001b[0;32m<ipython-input-11-212612e4e297>\u001b[0m in \u001b[0;36m<module>\u001b[0;34m()\u001b[0m\n\u001b[0;32m----> 1\u001b[0;31m \u001b[0mNsquared\u001b[0m\u001b[0;34m(\u001b[0m\u001b[0mSA\u001b[0m\u001b[0;34m=\u001b[0m\u001b[0mSA\u001b[0m\u001b[0;34m[\u001b[0m\u001b[0;36m0\u001b[0m\u001b[0;34m,\u001b[0m\u001b[0;34m]\u001b[0m\u001b[0;34m.\u001b[0m\u001b[0mdata\u001b[0m\u001b[0;34m,\u001b[0m \u001b[0mCT\u001b[0m\u001b[0;34m=\u001b[0m\u001b[0mCT\u001b[0m\u001b[0;34m[\u001b[0m\u001b[0;36m0\u001b[0m\u001b[0;34m,\u001b[0m\u001b[0;34m]\u001b[0m\u001b[0;34m.\u001b[0m\u001b[0mdata\u001b[0m\u001b[0;34m,\u001b[0m \u001b[0mp\u001b[0m\u001b[0;34m=\u001b[0m\u001b[0mp\u001b[0m\u001b[0;34m)\u001b[0m\u001b[0;34m\u001b[0m\u001b[0m\n\u001b[0m",
      "\u001b[0;32m<ipython-input-10-d54841684460>\u001b[0m in \u001b[0;36mNsquared\u001b[0;34m(SA, CT, p, lat, axis)\u001b[0m\n\u001b[1;32m     45\u001b[0m \u001b[0;34m\u001b[0m\u001b[0m\n\u001b[1;32m     46\u001b[0m     \u001b[0mdb_to_pa\u001b[0m \u001b[0;34m=\u001b[0m \u001b[0;36m1e4\u001b[0m\u001b[0;34m\u001b[0m\u001b[0m\n\u001b[0;32m---> 47\u001b[0;31m     \u001b[0mshallow\u001b[0m \u001b[0;34m=\u001b[0m \u001b[0maxis_slicer\u001b[0m\u001b[0;34m(\u001b[0m\u001b[0mSA\u001b[0m\u001b[0;34m.\u001b[0m\u001b[0mndim\u001b[0m\u001b[0;34m,\u001b[0m \u001b[0mslice\u001b[0m\u001b[0;34m(\u001b[0m\u001b[0;34m-\u001b[0m\u001b[0;36m1\u001b[0m\u001b[0;34m)\u001b[0m\u001b[0;34m,\u001b[0m \u001b[0maxis\u001b[0m\u001b[0;34m)\u001b[0m\u001b[0;34m\u001b[0m\u001b[0m\n\u001b[0m\u001b[1;32m     48\u001b[0m     \u001b[0mdeep\u001b[0m \u001b[0;34m=\u001b[0m \u001b[0maxis_slicer\u001b[0m\u001b[0;34m(\u001b[0m\u001b[0mSA\u001b[0m\u001b[0;34m.\u001b[0m\u001b[0mndim\u001b[0m\u001b[0;34m,\u001b[0m \u001b[0mslice\u001b[0m\u001b[0;34m(\u001b[0m\u001b[0;36m1\u001b[0m\u001b[0;34m,\u001b[0m \u001b[0;32mNone\u001b[0m\u001b[0;34m)\u001b[0m\u001b[0;34m,\u001b[0m \u001b[0maxis\u001b[0m\u001b[0;34m)\u001b[0m\u001b[0;34m\u001b[0m\u001b[0m\n\u001b[1;32m     49\u001b[0m     \u001b[0;32mif\u001b[0m \u001b[0mlat\u001b[0m \u001b[0;32mis\u001b[0m \u001b[0;32mnot\u001b[0m \u001b[0;32mNone\u001b[0m\u001b[0;34m:\u001b[0m\u001b[0;34m\u001b[0m\u001b[0m\n",
      "\u001b[0;31mNameError\u001b[0m: name 'axis_slicer' is not defined"
     ]
    }
   ],
   "source": [
    "Nsquared(SA=SA[0,].data, CT=CT[0,].data, p=p)"
   ]
  },
  {
   "cell_type": "code",
   "execution_count": 5,
   "metadata": {},
   "outputs": [
    {
     "data": {
      "text/plain": [
       "'/home/janjaapmeijer/miniconda3/envs/ocean3/lib/python3.5/site-packages/gsw-3.2.0+1.g478eb6e-py3.5-linux-x86_64.egg/gsw/__init__.py'"
      ]
     },
     "execution_count": 5,
     "metadata": {},
     "output_type": "execute_result"
    }
   ],
   "source": [
    "from gsw"
   ]
  }
 ],
 "metadata": {
  "kernelspec": {
   "display_name": "Python 3",
   "language": "python",
   "name": "python3"
  },
  "language_info": {
   "codemirror_mode": {
    "name": "ipython",
    "version": 3
   },
   "file_extension": ".py",
   "mimetype": "text/x-python",
   "name": "python",
   "nbconvert_exporter": "python",
   "pygments_lexer": "ipython3",
   "version": "3.6.6"
  }
 },
 "nbformat": 4,
 "nbformat_minor": 2
}
