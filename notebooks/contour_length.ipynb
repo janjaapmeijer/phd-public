{
 "cells": [
  {
   "cell_type": "markdown",
   "metadata": {},
   "source": [
    "# Contour length index (CLI)"
   ]
  },
  {
   "cell_type": "code",
   "execution_count": 1,
   "metadata": {},
   "outputs": [],
   "source": [
    "from IPython.display import HTML\n",
    "\n",
    "%run ../_setup.py\n",
    "\n",
    "import numpy as np\n",
    "import datetime\n",
    "\n",
    "from netCDF4 import Dataset, num2date\n",
    "\n",
    "from OceanPy.animations import play2D\n",
    "\n",
    "import matplotlib.pyplot as plt"
   ]
  },
  {
   "cell_type": "code",
   "execution_count": 2,
   "metadata": {},
   "outputs": [],
   "source": [
    "input_file = os.path.join(datadir, 'external', 'ssh', 'SEALEVEL_GLO_PHY_L4_REP_OBS_137_-52.4_147_-48_199801-199812.nc')\n",
    "sl = Dataset(input_file)\n",
    "# sl.variables.keys()\n",
    "\n",
    "lon, lat = sl['longitude'][:], sl['latitude'][:]"
   ]
  },
  {
   "cell_type": "code",
   "execution_count": 7,
   "metadata": {
    "scrolled": false
   },
   "outputs": [
    {
     "name": "stdout",
     "output_type": "stream",
     "text": [
      "(array([6]),)\n",
      "(array([6]),)\n",
      "(array([6]),)\n",
      "(array([6]),)\n",
      "(array([5]),)\n",
      "(array([5]),)\n",
      "(array([4]),)\n",
      "(array([4]),)\n",
      "(array([4]),)\n",
      "(array([4]),)\n",
      "(array([4]),)\n",
      "(array([4]),)\n",
      "(array([3]),)\n",
      "(array([3]),)\n",
      "(array([3]),)\n",
      "(array([3]),)\n",
      "(array([3]),)\n",
      "(array([2]),)\n",
      "(array([2]),)\n",
      "(array([3]),)\n",
      "(array([3]),)\n",
      "(array([2]),)\n",
      "(array([2]),)\n",
      "(array([2]),)\n",
      "(array([2]),)\n",
      "(array([2]),)\n",
      "(array([3]),)\n",
      "(array([4]),)\n",
      "(array([4]),)\n",
      "(array([5]),)\n",
      "(array([4]),)\n",
      "(array([4]),)\n",
      "(array([4]),)\n",
      "(array([5]),)\n",
      "(array([5]),)\n",
      "(array([6]),)\n",
      "(array([7]),)\n",
      "(array([7]),)\n",
      "(array([8]),)\n",
      "(array([6]),)\n",
      "(array([5]),)\n"
     ]
    }
   ],
   "source": [
    "annualmean = np.mean(sl['adt'], axis=0)\n",
    "\n",
    "def contour_length(lon, lat, var, contour_range=(-0.1, 0.4)): #contour_center= , \n",
    "    \n",
    "    contour_center = (contour_range[1] - contour_range[0]) / 2\n",
    "            \n",
    "    lat_ct = []\n",
    "    cl = 0\n",
    "    \n",
    "    # for each longitudinal grid cell from west to east\n",
    "    for iln in range(len(lon)):\n",
    "        \n",
    "        # find latitudinal indices within contour range\n",
    "        ilt = np.where((var[:, iln] < contour_range[1]) & (var[:, iln] > contour_range[0]))[0]\n",
    "\n",
    "        # find latitudinal index of center contour, but not further than one latitudinal step away from previous\n",
    "#         iltc = (np.abs(var[:,iln] - contour_center)).argmin()\n",
    "#         iltc = np.argsort(np.abs(var[:, iln] - contour_center))\n",
    "        if iln > 0:\n",
    "            iltc = (iltc-2) + (np.abs(var[iltc-2:iltc+2,iln] - contour_center)).argmin()           \n",
    "        else:\n",
    "            iltc = (np.abs(var[:,iln] - contour_center)).argmin()\n",
    "        \n",
    "        # determine mean latitude in contour range\n",
    "        lats = lat[ilt]\n",
    "        if len(ilt) > 1:\n",
    "            print(np.where(ilt == iltc))\n",
    "            ic = np.where(ilt == iltc)[0][0]\n",
    "            trueidx = np.zeros(len(ilt), dtype=bool)\n",
    "            trueidx[ic] = True\n",
    "            \n",
    "            # find latitudinal indices that are consecutive/ contiguous from center contour\n",
    "            contiguous = iltc\n",
    "            for i in range(ic+1, len(ilt)):\n",
    "                if ilt[i] == contiguous + 1: #and not ilt[i] > iltc + 3:\n",
    "                    trueidx[i] = True\n",
    "                contiguous += 1\n",
    "            contiguous = iltc\n",
    "            for i in reversed(range(0, ic)):\n",
    "                if ilt[i] == contiguous - 1: #and not ilt[i] < iltc - 3:\n",
    "                    trueidx[i] = True\n",
    "                contiguous -= 1\n",
    "                        \n",
    "            lat_mean = np.mean(lats[trueidx])\n",
    "          \n",
    "        elif len(ilt) == 1:\n",
    "            lat_mean = lat[iltc]\n",
    "        \n",
    "        lat_ct.append(lat_mean)\n",
    "     \n",
    "#         # find latitude for prescribed contour value\n",
    "#         ilt = (np.abs(var[:,iln] - contour)).argmin()\n",
    "#         lat_ct.append(lat[ilts])\n",
    "\n",
    "        # calculate latitudinal and longitudinal increments and calculate contour length\n",
    "        if iln > 0:\n",
    "            dlon = lon[iln] - lon[iln-1]\n",
    "            dlat = lat_ct[iln] - lat_ct[iln-1]\n",
    "            \n",
    "#             print(dlon, dlat)\n",
    "\n",
    "            cl += np.sqrt(dlon*2 + dlat**2)\n",
    "        \n",
    "    return cl, lat_ct\n",
    "\n",
    "cl, lat_ct = contour_length(lon, lat, annualmean, contour_range=(-0.1, 0.4))\n",
    "\n",
    "# annualmean = np.mean(sl['adt'][60:80], axis=0)"
   ]
  },
  {
   "cell_type": "code",
   "execution_count": 4,
   "metadata": {},
   "outputs": [
    {
     "data": {
      "text/plain": [
       "<matplotlib.text.Text at 0x7f5f0cfa9208>"
      ]
     },
     "execution_count": 4,
     "metadata": {},
     "output_type": "execute_result"
    },
    {
     "data": {
      "image/png": "[encoded data removed]",
      "text/plain": [
       "<matplotlib.figure.Figure at 0x7f5f3e770da0>"
      ]
     },
     "metadata": {},
     "output_type": "display_data"
    }
   ],
   "source": [
    "plt.contour(sl['longitude'][:], sl['latitude'][:], annualmean, [-0.1, 0, 0.1, 0.2, 0.3, 0.4])\n",
    "plt.plot(lon, lat_ct, 'k.-', linewidth=4, )\n",
    "plt.title('contour length: %s' %round(cl, 2))"
   ]
  },
  {
   "cell_type": "code",
   "execution_count": 5,
   "metadata": {},
   "outputs": [],
   "source": [
    "# determine time of the voyage\n",
    "time = sl['time']\n",
    "time = num2date(time[:], time.units)\n",
    "begin = datetime.datetime(1998, 3, 10)\n",
    "end = datetime.datetime(1998, 3, 28)\n",
    "\n",
    "timevoy = np.array([begin <= t <= end for t in time])"
   ]
  },
  {
   "cell_type": "markdown",
   "metadata": {
    "scrolled": false
   },
   "source": [
    "##### fig, ax = plt.subplots(3, 4, figsize=(16, 8), sharex=True, sharey=True)\n",
    "rows, cols = ax.shape\n",
    "month = 1\n",
    "\n",
    "cli = []\n",
    "for row in range(rows):\n",
    "    for col in range(cols):\n",
    "        idx = [t.month == month for t in time]\n",
    "\n",
    "        monthlymean = np.mean(sl['adt'][idx,], axis=0)\n",
    "        cl, lat_ct = contour_length(lon[4:32], lat, monthlymean[:, 4:32], contour_range=(0, 0.3))\n",
    "        cli.append(cl)\n",
    "        ct = ax[row, col].contour(sl['longitude'][:], sl['latitude'][:], monthlymean, np.linspace(-0.1, 0.4, 5)) #[-0.1, 0, 0.1, 0.2, 0.3, 0.4]\n",
    "        ax[row, col].contour(sl['longitude'][:], sl['latitude'][:], monthlymean, [0.15], colors='r', linewidths=2)\n",
    "        ax[row, col].plot(lon[4:32], lat_ct, 'k.-', linewidth=2, markersize=5)\n",
    "        ax[row, col].set_title('%s, contour length: %s' %(month, round(cl, 2)))\n",
    "        ax[row, col].axvline(138, color='k')\n",
    "        ax[row, col].axvline(145, color='k')\n",
    "\n",
    "        month += 1"
   ]
  },
  {
   "cell_type": "code",
   "execution_count": 7,
   "metadata": {
    "scrolled": false
   },
   "outputs": [
    {
     "data": {
      "text/plain": [
       "[<matplotlib.lines.Line2D at 0x7f29dac41978>]"
      ]
     },
     "execution_count": 7,
     "metadata": {},
     "output_type": "execute_result"
    },
    {
     "data": {
      "image/png": "[encoded data removed]",
      "text/plain": [
       "<matplotlib.figure.Figure at 0x7f29db154160>"
      ]
     },
     "metadata": {},
     "output_type": "display_data"
    }
   ],
   "source": [
    "month=12\n",
    "idx = [t.month == month for t in time]\n",
    "monthlymean = np.mean(sl['adt'][idx,], axis=0)\n",
    "cl, lat_ct = contour_length(lon[4:32], lat, monthlymean[:, 4:32], contour_range=(0.0,0.3))\n",
    "\n",
    "fig, ax = plt.subplots()\n",
    "ct = ax.contour(sl['longitude'][:], sl['latitude'][:], monthlymean, [0, 0.15, 0.3])\n",
    "ax.plot(lon[4:32], lat_ct, 'k.-', linewidth=2, markersize=4)\n"
   ]
  },
  {
   "cell_type": "code",
   "execution_count": 8,
   "metadata": {},
   "outputs": [
    {
     "data": {
      "text/plain": [
       "odict_keys(['err', 'time', 'latitude', 'longitude', 'vgosa', 'vgos', 'sla', 'ugosa', 'adt', 'ugos'])"
      ]
     },
     "execution_count": 8,
     "metadata": {},
     "output_type": "execute_result"
    }
   ],
   "source": [
    "sl.variables.keys()"
   ]
  },
  {
   "cell_type": "code",
   "execution_count": 9,
   "metadata": {},
   "outputs": [
    {
     "data": {
      "text/plain": [
       "<class 'netCDF4._netCDF4.Variable'>\n",
       "int32 sla(time, latitude, longitude)\n",
       "    _FillValue: -2147483647\n",
       "    comment: The sea level anomaly is the sea surface height above mean sea surface; it is referenced to the [1993, 2012] period; see the product user manual for details\n",
       "    coordinates: time latitude longitude \n",
       "    grid_mapping: crs\n",
       "    long_name: Sea level anomaly\n",
       "    scale_factor: 0.0001\n",
       "    standard_name: sea_surface_height_above_sea_level\n",
       "    units: m\n",
       "unlimited dimensions: \n",
       "current shape = (365, 19, 41)\n",
       "filling off"
      ]
     },
     "execution_count": 9,
     "metadata": {},
     "output_type": "execute_result"
    }
   ],
   "source": [
    "sl['sla']"
   ]
  },
  {
   "cell_type": "code",
   "execution_count": 10,
   "metadata": {
    "scrolled": false
   },
   "outputs": [
    {
     "data": {
      "text/html": [
       "<div>\n",
       "<style scoped>\n",
       "    .dataframe tbody tr th:only-of-type {\n",
       "        vertical-align: middle;\n",
       "    }\n",
       "\n",
       "    .dataframe tbody tr th {\n",
       "        vertical-align: top;\n",
       "    }\n",
       "\n",
       "    .dataframe thead th {\n",
       "        text-align: right;\n",
       "    }\n",
       "</style>\n",
       "<table border=\"1\" class=\"dataframe\">\n",
       "  <thead>\n",
       "    <tr style=\"text-align: right;\">\n",
       "      <th></th>\n",
       "      <th>SAM</th>\n",
       "      <th>CLI</th>\n",
       "    </tr>\n",
       "  </thead>\n",
       "  <tbody>\n",
       "    <tr>\n",
       "      <th>1998-01</th>\n",
       "      <td>2.65</td>\n",
       "      <td>19.276341</td>\n",
       "    </tr>\n",
       "    <tr>\n",
       "      <th>1998-02</th>\n",
       "      <td>0.57</td>\n",
       "      <td>19.395019</td>\n",
       "    </tr>\n",
       "    <tr>\n",
       "      <th>1998-03</th>\n",
       "      <td>-0.05</td>\n",
       "      <td>19.469841</td>\n",
       "    </tr>\n",
       "    <tr>\n",
       "      <th>1998-04</th>\n",
       "      <td>2.89</td>\n",
       "      <td>19.326732</td>\n",
       "    </tr>\n",
       "    <tr>\n",
       "      <th>1998-05</th>\n",
       "      <td>1.11</td>\n",
       "      <td>19.392367</td>\n",
       "    </tr>\n",
       "    <tr>\n",
       "      <th>1998-06</th>\n",
       "      <td>1.31</td>\n",
       "      <td>19.329237</td>\n",
       "    </tr>\n",
       "    <tr>\n",
       "      <th>1998-07</th>\n",
       "      <td>2.13</td>\n",
       "      <td>19.276341</td>\n",
       "    </tr>\n",
       "    <tr>\n",
       "      <th>1998-08</th>\n",
       "      <td>2.66</td>\n",
       "      <td>19.308271</td>\n",
       "    </tr>\n",
       "    <tr>\n",
       "      <th>1998-09</th>\n",
       "      <td>0.74</td>\n",
       "      <td>19.470802</td>\n",
       "    </tr>\n",
       "    <tr>\n",
       "      <th>1998-10</th>\n",
       "      <td>-0.26</td>\n",
       "      <td>20.052300</td>\n",
       "    </tr>\n",
       "    <tr>\n",
       "      <th>1998-11</th>\n",
       "      <td>2.84</td>\n",
       "      <td>20.276149</td>\n",
       "    </tr>\n",
       "    <tr>\n",
       "      <th>1998-12</th>\n",
       "      <td>2.59</td>\n",
       "      <td>19.651341</td>\n",
       "    </tr>\n",
       "  </tbody>\n",
       "</table>\n",
       "</div>"
      ],
      "text/plain": [
       "          SAM        CLI\n",
       "1998-01  2.65  19.276341\n",
       "1998-02  0.57  19.395019\n",
       "1998-03 -0.05  19.469841\n",
       "1998-04  2.89  19.326732\n",
       "1998-05  1.11  19.392367\n",
       "1998-06  1.31  19.329237\n",
       "1998-07  2.13  19.276341\n",
       "1998-08  2.66  19.308271\n",
       "1998-09  0.74  19.470802\n",
       "1998-10 -0.26  20.052300\n",
       "1998-11  2.84  20.276149\n",
       "1998-12  2.59  19.651341"
      ]
     },
     "execution_count": 10,
     "metadata": {},
     "output_type": "execute_result"
    }
   ],
   "source": [
    "import pandas as pd\n",
    "pd.date_range(start='1/1/1998', periods=12, freq='M')\n",
    "\n",
    "df = pd.read_csv(os.path.join(datadir, 'external', 'sam', 'monthly_sam_1957-2007.txt'), sep='\\s+')\n",
    "df.columns = range(1, 13)\n",
    "df = df.stack()\n",
    "year = df.index.get_level_values(0).values\n",
    "month = df.index.get_level_values(1).values\n",
    "\n",
    "df.index = pd.PeriodIndex(year=year, month=month, freq='M')\n",
    "df98 = pd.DataFrame(df.loc[df.index.year == 1998], columns=['SAM'])\n",
    "df98['CLI'] = cli\n",
    "df98\n",
    "\n"
   ]
  }
 ],
 "metadata": {
  "kernelspec": {
   "display_name": "Python 3",
   "language": "python",
   "name": "python3"
  },
  "language_info": {
   "codemirror_mode": {
    "name": "ipython",
    "version": 3
   },
   "file_extension": ".py",
   "mimetype": "text/x-python",
   "name": "python",
   "nbconvert_exporter": "python",
   "pygments_lexer": "ipython3",
   "version": "3.5.4"
  }
 },
 "nbformat": 4,
 "nbformat_minor": 2
}
