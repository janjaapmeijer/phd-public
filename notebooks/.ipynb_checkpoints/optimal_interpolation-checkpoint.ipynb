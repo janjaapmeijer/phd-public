{
 "cells": [
  {
   "cell_type": "markdown",
   "metadata": {},
   "source": [
    "# Optimal Interpolation (OI) / Gauss-Markov smoothing"
   ]
  },
  {
   "cell_type": "markdown",
   "metadata": {},
   "source": [
    "## Optimal Interpolation equation\n",
    "$\\renewcommand{\\vec}[1]{\\mathbf{#1}}$\n",
    "[](http://twister.caps.ou.edu/OBAN2016/OI_partI.pdf)\n",
    "[](http://twister.caps.ou.edu/OBAN2016/OI_partII.pdf)\n",
    "[](http://twister.caps.ou.edu/OBAN2016/METR5303_Lecture14.pdf)\n",
    "[](Kalman filter)\n",
    "[](https://team.inria.fr/moise/files/2012/03/Nodet_Intro_DataAssimilation.pdf)\n",
    "[](http://scipy-cookbook.readthedocs.io/items/KalmanFiltering.html)\n",
    "[](https://stackoverflow.com/questions/13901997/kalman-2d-filter-in-python)\n",
    "$$ \\vec{x}^a = \\vec{x}^b + \\vec{W} \\left[\\vec{y}^o - \\vec{H}(\\vec{x}^b)\\right] = \\vec{x}^b + \\vec{W}\\vec{d} $$\n",
    "\n",
    "$\\vec{x}^a$ - optimum analysis of a field of model variables, ie. $\\vec{x}^a  = (T, S, u, v) $  \n",
    "$\\vec{x}^b$ - background field available at grid points  \n",
    "$\\vec{y}^0$ - set of observations available at irregularly spaced point with radius $\\vec{r}_i$ from grid point  \n",
    "$H$ - forward observational operator, converts background field into \"observed first guesses\"  \n",
    "$\\vec{d} $ - \"innovation\" or \"observational increments\" vector, defined as difference between the observation and the background mapped to the observational point via forward operator $\\vec{H}$\n",
    "\n",
    "$\\vec{x}^a$,\n",
    "$\\vec{x}^b$ - vectors of length $n$, the number of grid points times the number of model variables  \n",
    "$\\vec{y}^0$,\n",
    "$\\vec{d}$ - vectors of length $p$, the number of observations\n",
    "\n",
    "### Weight matrix\n",
    "\n",
    "$$ \\vec{W} = \\vec{B}\\vec{H}^T\\left(\\vec{R} + \\vec{H}\\vec{B}\\vec{H}^T\\right)^{-1} $$\n",
    "\n",
    "$\\vec{W}$ - weight matrix with shape ($n\\times p$)  \n",
    "$\\vec{H}$ - linear operator matrix with shape ($p\\times n$)  \n",
    "$\\vec{A}$ - analysis error covariance matrix with shape ($ n\\times n$)  \n",
    "$\\vec{B}$ - background error covariance matrix with shape ($ n\\times n$)  \n",
    "$\\vec{R}$ - observation error covariance matrix with shape ($ p\\times p$)\n",
    "\n",
    "\n",
    "\n",
    "### Error covariance matrices\n",
    "\n",
    "analysis error and background error as vectors of length $n$\n",
    "\n",
    "$$ \\vec{\\varepsilon}^a(x, y) = \\vec{x}^a(x,y) - \\vec{x}^t(x,y) $$\n",
    "$$ \\vec{\\varepsilon}^b(x, y) = \\vec{x}^b(x,y) - \\vec{x}^t(x,y) $$\n",
    "\n",
    "observational errors as vector of length $p$\n",
    "\n",
    "$$ \\vec{\\varepsilon}^o_i = \\vec{y}^o(\\vec{r}_i) - \\vec{y}^t(\\vec{r_i}) $$\n",
    "\n",
    "error covariance matrices for the analysis, background and observations\n",
    "\n",
    "$$ \\vec{A} = E\\{\\vec{\\varepsilon}^a(\\vec{\\varepsilon}^a)^T\\} $$\n",
    "$$ \\vec{B} = E\\{\\vec{\\varepsilon}^b(\\vec{\\varepsilon}^b)^T\\} $$\n",
    "$$ \\vec{R} = E\\{\\vec{\\varepsilon}^o(\\vec{\\varepsilon}^o)^T\\} $$\n",
    "\n",
    "analysis covariance matrix\n",
    "\n",
    "$$ \\vec{A} = (\\vec{I} - \\vec{W}\\vec{H})\\vec{B}$$\n",
    "\n",
    "$\\vec{I}$ - identity matrix with shape ($ n\\times n$)\n",
    "\n",
    "\n",
    "### Linear observation operator\n",
    "\n",
    "$$ \\vec{H} $$"
   ]
  },
  {
   "cell_type": "markdown",
   "metadata": {},
   "source": [
    "### For grid point $g$ influenced by $p$ observations\n",
    "\n",
    "$$ x_g^a = x_g^b + \\sum_{j=1}^{p}w_{gj}\\delta y_j $$\n",
    "\n",
    "$$ \\delta y_j = y_o - y_b = y_o - H(x_b) $$\n",
    "\n",
    "$$ b_{gk} = \\sum_{j=1}^{p}w_{gj}(b_{jk} + r_{jk}) \\quad \\text{for} \\quad k = 1,2, ..., p $$\n",
    "\n",
    "$ b, r $ - background and observation error covariances, respectively  \n",
    "$ b_{jk} $ - between observations  \n",
    "$ b_{gk} $ - between grid point and observations\n",
    "\n",
    "let b be modeled by $ b(r) = e^{-dr^2} $\n"
   ]
  },
  {
   "cell_type": "code",
   "execution_count": 6,
   "metadata": {},
   "outputs": [],
   "source": [
    "def oi(obs, gridsize=(100, 50)):\n",
    "    '''\n",
    "    :param x: analysis: x = (lon, lat, T, S, u, v)\n",
    "    :param B: background error covariance matrix\n",
    "    :param z:\n",
    "    :param order:\n",
    "    :param gridsize:\n",
    "    :return:\n",
    "    '''\n",
    "#     grid_points = grid_points.flatten()\n",
    "    \n",
    "    n = len(grid_points) * len(vars)\n",
    "    p = len(obs)\n",
    "    nns = (n, n)\n",
    "    nps = (n, p)\n",
    "    pns = (p, n)\n",
    "    pps = (p, p)\n",
    "    \n",
    "    \n",
    "    \n",
    "    # initialise background error covariance matrix\n",
    "    B = np.matrix() # nns\n",
    "    \n",
    "    varb = np.var(obs)\n",
    "    B = np.matrix(np.eye(nns))\n",
    "    \n",
    "    \n",
    "    # initialise observation error covariance matrix\n",
    "#     R = \n",
    "    \n",
    "    # linear operator matrix\n",
    "#     H = \n",
    "    \n",
    "    # analysis covariance matrix\n",
    "#     A =\n",
    "    \n",
    "    \n",
    "    \n",
    "    d = np.matrix(obs) - H * x\n",
    "    \n",
    "    S = R + H * B * H.T\n",
    "    W = B * H.T * S.I\n",
    "    \n",
    "    x = x + W * d\n",
    "    \n",
    "#     I = np.matrix(np.eye(??.shape))\n",
    "    \n",
    "\n",
    "    \n",
    "#     # initialise analysis, background and observational error covariance matrices\n",
    "#     A = \n",
    "#     B = \n",
    "#     R = \n",
    "    \n",
    "\n"
   ]
  },
  {
   "cell_type": "markdown",
   "metadata": {},
   "source": [
    "## Example: 1 grid point 3 observations"
   ]
  },
  {
   "cell_type": "code",
   "execution_count": 1,
   "metadata": {},
   "outputs": [],
   "source": [
    "import matplotlib.pyplot as plt\n",
    "from OceanPy.polynomials import polyfit1d, polyfit2d\n",
    "import numpy as np"
   ]
  },
  {
   "cell_type": "code",
   "execution_count": 19,
   "metadata": {},
   "outputs": [
    {
     "name": "stdout",
     "output_type": "stream",
     "text": [
      "distance obs to obs in matrix form [[ 0.   1.5]\n",
      " [ 1.5  0. ]]\n",
      "distance grid point to obs in matrix form [[ 2. ]\n",
      " [ 0.5]]\n",
      "H : [[ 0.33333333]\n",
      " [ 1.33333333]]\n"
     ]
    },
    {
     "data": {
      "text/plain": [
       "<matplotlib.colorbar.Colorbar at 0x7f2c51079048>"
      ]
     },
     "execution_count": 19,
     "metadata": {},
     "output_type": "execute_result"
    },
    {
     "data": {
      "image/png": "[encoded data removed]",
      "text/plain": [
       "<matplotlib.figure.Figure at 0x7f2c510fc5c0>"
      ]
     },
     "metadata": {},
     "output_type": "display_data"
    }
   ],
   "source": [
    "\n",
    "# information observations\n",
    "lono = np.array([-1, 0.5]) # np.array([-1, 0.5, 2])\n",
    "lato = np.array([0, 0]) # np.array([1, -1, 1])\n",
    "obs = np.array([2, 8]) # np.array([2, 8, 5])\n",
    "\n",
    "# information grid\n",
    "# if list and not array xg.flatten(), yg.flatten()\n",
    "long, latg = np.array([1]), np.array([0])# np.array([0, 1]), np.array([0, 0])\n",
    "\n",
    "# if no background field, average value of all observations is used\n",
    "varg = np.ones(long.shape) * np.mean(obs)\n",
    "\n",
    "\n",
    "# dimensions for vectors and matrices\n",
    "n = len(long) #len(grid_points) * len(vars)\n",
    "p = len(obs) #len(obs)\n",
    "nns = (n, n)\n",
    "nps = (n, p)\n",
    "pns = (p, n)\n",
    "pps = (p, p)\n",
    "\n",
    "# background vector\n",
    "xb = np.matrix(varg)\n",
    "# print('shape background vector', xb)\n",
    "\n",
    "# observation vector\n",
    "yo = np.matrix(obs)\n",
    "\n",
    "# linear operator matrix\n",
    "# A = np.flipud(polyfit2d(long, latg, varg, order=1)[3])\n",
    "# print(A)\n",
    "\n",
    "H = np.matrix(np.zeros(pns))\n",
    "distp = np.matrix(np.ones(pps))\n",
    "for k in range(p):\n",
    "    for j in range(p):\n",
    "        distp[k, j] = np.sqrt(abs(lono[k] - lono[j])**2 + \n",
    "                              abs(lato[k] - lato[j])**2)\n",
    "distnp = np.matrix(np.ones(pns))\n",
    "for k in range(p):\n",
    "    distnp[k] = np.sqrt(abs(lono[k] - long)**2 + \n",
    "                        abs(lato[k] - latg)**2)\n",
    "print('distance obs to obs in matrix form', distp)\n",
    "print('distance grid point to obs in matrix form', distnp)\n",
    "\n",
    "H = distp.I * distnp\n",
    "\n",
    "# dist_go = np.sqrt(abs(lono-long)**2 + abs(lato-latg)**2)\n",
    "# if n > 1:\n",
    "#     dist_gg = np.sqrt(np.diff(long)**2 + np.diff(latg)**2)\n",
    "#     print('distance grid point 1 to grid point 2: ', dist_gg)\n",
    "# print('distance grid point to obs: ', dist_go)\n",
    "\n",
    "# print(H.shape)\n",
    "# for k in range(p):\n",
    "#     for i in range(n):\n",
    "#         H[k, i] = A[0]*lon[k] + A[1]*lat[k] + A[2]\n",
    "#     xmp, ymp, zmp, Amp = polyfit2d(long, latg, varg, order=1, \n",
    "#                                    point=(lon[i], lat[i]))\n",
    "\n",
    "print('H :', H)\n",
    "\n",
    "# observation error covariance matrix\n",
    "varr = np.var(obs)\n",
    "R = np.matrix(np.eye(pps[0]))\n",
    "R = varr * R\n",
    "\n",
    "# background error covariance matrix\n",
    "varb = np.var(np.mean(obs))\n",
    "B = np.matrix(np.ones(nns[0]))\n",
    "B = varb * B\n",
    "\n",
    "xm, ym, zm, Am = polyfit2d(lono, lato, obs, order=1, gridsize=(3, 3))\n",
    "\n",
    "plt.pcolor(xm, ym, zm)\n",
    "# cmap = cm.get_cmap('jet')\n",
    "scat = plt.scatter(lono, lato, c=obs, s=100)\n",
    "plt.scatter(long, latg, facecolors='w', s=100)\n",
    "plt.axis('equal')\n",
    "plt.colorbar(scat)\n",
    "\n"
   ]
  },
  {
   "cell_type": "code",
   "execution_count": 11,
   "metadata": {},
   "outputs": [
    {
     "name": "stdout",
     "output_type": "stream",
     "text": [
      "2 1\n"
     ]
    }
   ],
   "source": [
    "print(p,n)\n"
   ]
  },
  {
   "cell_type": "markdown",
   "metadata": {},
   "source": [
    "## Example: 3 grid points, 2 observations (1-dimensional)"
   ]
  },
  {
   "cell_type": "code",
   "execution_count": 54,
   "metadata": {},
   "outputs": [
    {
     "data": {
      "text/plain": [
       "(array([ 5.3639715, -3.3639715, -0.3639715]),\n",
       " array([ 5.3639715, -3.3639715, -0.3639715]))"
      ]
     },
     "execution_count": 54,
     "metadata": {},
     "output_type": "execute_result"
    }
   ],
   "source": [
    "xg = np.array([2, 5, 8])\n",
    "xobs = np.array([4, 6.5])\n",
    "\n",
    "T = np.array([5, 3, 8])\n",
    "\n",
    "polyfit1d()"
   ]
  },
  {
   "cell_type": "markdown",
   "metadata": {},
   "source": [
    "## Example: 1 grid point, 4 observations"
   ]
  },
  {
   "cell_type": "code",
   "execution_count": 24,
   "metadata": {},
   "outputs": [
    {
     "ename": "TypeError",
     "evalue": "data type not understood",
     "output_type": "error",
     "traceback": [
      "\u001b[0;31m---------------------------------------------------------------------------\u001b[0m",
      "\u001b[0;31mTypeError\u001b[0m                                 Traceback (most recent call last)",
      "\u001b[0;32m<ipython-input-24-e6e6d22aa50f>\u001b[0m in \u001b[0;36m<module>\u001b[0;34m()\u001b[0m\n\u001b[1;32m      7\u001b[0m \u001b[0mxi\u001b[0m\u001b[0;34m,\u001b[0m \u001b[0myi\u001b[0m \u001b[0;34m=\u001b[0m \u001b[0;36m10e3\u001b[0m\u001b[0;34m,\u001b[0m \u001b[0;36m15e3\u001b[0m\u001b[0;34m\u001b[0m\u001b[0m\n\u001b[1;32m      8\u001b[0m \u001b[0;34m\u001b[0m\u001b[0m\n\u001b[0;32m----> 9\u001b[0;31m \u001b[0mdistp\u001b[0m \u001b[0;34m=\u001b[0m \u001b[0mnp\u001b[0m\u001b[0;34m.\u001b[0m\u001b[0mmatrix\u001b[0m\u001b[0;34m(\u001b[0m\u001b[0mnp\u001b[0m\u001b[0;34m.\u001b[0m\u001b[0mones\u001b[0m\u001b[0;34m(\u001b[0m\u001b[0;36m3\u001b[0m\u001b[0;34m,\u001b[0m \u001b[0;36m3\u001b[0m\u001b[0;34m)\u001b[0m\u001b[0;34m)\u001b[0m\u001b[0;34m\u001b[0m\u001b[0m\n\u001b[0m\u001b[1;32m     10\u001b[0m \u001b[0;32mfor\u001b[0m \u001b[0mk\u001b[0m \u001b[0;32min\u001b[0m \u001b[0mrange\u001b[0m\u001b[0;34m(\u001b[0m\u001b[0;36m3\u001b[0m\u001b[0;34m)\u001b[0m\u001b[0;34m:\u001b[0m\u001b[0;34m\u001b[0m\u001b[0m\n\u001b[1;32m     11\u001b[0m     \u001b[0;32mfor\u001b[0m \u001b[0mj\u001b[0m \u001b[0;32min\u001b[0m \u001b[0mrange\u001b[0m\u001b[0;34m(\u001b[0m\u001b[0;36m3\u001b[0m\u001b[0;34m)\u001b[0m\u001b[0;34m:\u001b[0m\u001b[0;34m\u001b[0m\u001b[0m\n",
      "\u001b[0;32m~/miniconda3/envs/ocean3/lib/python3.5/site-packages/numpy/core/numeric.py\u001b[0m in \u001b[0;36mones\u001b[0;34m(shape, dtype, order)\u001b[0m\n\u001b[1;32m    188\u001b[0m \u001b[0;34m\u001b[0m\u001b[0m\n\u001b[1;32m    189\u001b[0m     \"\"\"\n\u001b[0;32m--> 190\u001b[0;31m     \u001b[0ma\u001b[0m \u001b[0;34m=\u001b[0m \u001b[0mempty\u001b[0m\u001b[0;34m(\u001b[0m\u001b[0mshape\u001b[0m\u001b[0;34m,\u001b[0m \u001b[0mdtype\u001b[0m\u001b[0;34m,\u001b[0m \u001b[0morder\u001b[0m\u001b[0;34m)\u001b[0m\u001b[0;34m\u001b[0m\u001b[0m\n\u001b[0m\u001b[1;32m    191\u001b[0m     \u001b[0mmultiarray\u001b[0m\u001b[0;34m.\u001b[0m\u001b[0mcopyto\u001b[0m\u001b[0;34m(\u001b[0m\u001b[0ma\u001b[0m\u001b[0;34m,\u001b[0m \u001b[0;36m1\u001b[0m\u001b[0;34m,\u001b[0m \u001b[0mcasting\u001b[0m\u001b[0;34m=\u001b[0m\u001b[0;34m'unsafe'\u001b[0m\u001b[0;34m)\u001b[0m\u001b[0;34m\u001b[0m\u001b[0m\n\u001b[1;32m    192\u001b[0m     \u001b[0;32mreturn\u001b[0m \u001b[0ma\u001b[0m\u001b[0;34m\u001b[0m\u001b[0m\n",
      "\u001b[0;31mTypeError\u001b[0m: data type not understood"
     ]
    }
   ],
   "source": [
    "# observations and locations\n",
    "X = np.array([40e3, -45e3, 45e3]) # np.array([40e-3, -45e-3, 45e-3, -75e-3])\n",
    "Y = np.array([60e3, -30e3, -70e3]) # np.array([60e-3, -30e-3, -70e-3, 50e-3])\n",
    "temp = np.array([24.6, 26.4, 25.2]) # np.array([24.6, 26.4, 25.2, 25.9])\n",
    "\n",
    "# grid point\n",
    "xi, yi = 10e3, 15e3\n",
    "\n",
    "distp = np.matrix(np.ones(3, 3))\n",
    "for k in range(3):\n",
    "    for j in range(3):\n",
    "        distp[k, j] = np.sqrt(abs(lono[k] - lono[j])**2 + \n",
    "                              abs(lato[k] - lato[j])**2)\n",
    "distnp = np.matrix(np.ones((3,3)))\n",
    "for k in range(p):\n",
    "    distnp[k] = np.sqrt(abs(lono[k] - long)**2 + \n",
    "                        abs(lato[k] - latg)**2)\n",
    "print('distance obs to obs in matrix form', distp)\n",
    "print('distance grid point to obs in matrix form', distnp)\n",
    "\n",
    "H = distp.I * distnp\n",
    "\n",
    "# plot observations\n",
    "scat = plt.scatter(X, Y, c=temp, s=100)\n",
    "# plot grid point\n",
    "plt.scatter(xi, yi,facecolors='none', s=100)\n",
    "plt.axis('equal')\n",
    "# plt.xlim([-0.1, 0.1])\n",
    "# plt.ylim([-0.1, 0.1])\n",
    "plt.colorbar(scat)"
   ]
  },
  {
   "cell_type": "code",
   "execution_count": 23,
   "metadata": {},
   "outputs": [
    {
     "name": "stdout",
     "output_type": "stream",
     "text": [
      "distance obs to obs in matrix form [[0 1]]\n"
     ]
    }
   ],
   "source": [
    "print('distance obs to obs in matrix form', distp)"
   ]
  }
 ],
 "metadata": {
  "kernelspec": {
   "display_name": "Python 3",
   "language": "python",
   "name": "python3"
  },
  "language_info": {
   "codemirror_mode": {
    "name": "ipython",
    "version": 3
   },
   "file_extension": ".py",
   "mimetype": "text/x-python",
   "name": "python",
   "nbconvert_exporter": "python",
   "pygments_lexer": "ipython3",
   "version": "3.5.4"
  }
 },
 "nbformat": 4,
 "nbformat_minor": 2
}
