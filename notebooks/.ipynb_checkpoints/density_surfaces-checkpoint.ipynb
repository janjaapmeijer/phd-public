{
 "cells": [
  {
   "cell_type": "markdown",
   "metadata": {},
   "source": [
    "# Density surfaces"
   ]
  },
  {
   "cell_type": "code",
   "execution_count": 1,
   "metadata": {},
   "outputs": [],
   "source": [
    "%run ../_setup.py\n",
    "\n",
    "import numpy as np\n",
    "from netCDF4 import Dataset\n",
    "from mayavi import mlab\n",
    "from tvtk.api import tvtk\n"
   ]
  },
  {
   "cell_type": "code",
   "execution_count": 2,
   "metadata": {},
   "outputs": [],
   "source": [
    "# load bathymetry (1 arc-minute resolution)\n",
    "bathy = Dataset(os.path.join(datadir, 'external', 'bathymetry', 'bodc_res1min', \n",
    "                             'GRIDONE_2D_137.0_-52.2_145.0_-48.0.nc'))\n",
    "\n",
    "# load ctd and gsw data\n",
    "input_file = os.path.join(datadir, 'processed', 'ss9802', 'netcdf', 'ss9802_ctd_gsw.nc')\n",
    "ctd = Dataset(input_file, 'r')\n",
    "\n",
    "# neglect first 2 stations\n",
    "lon = ctd['lon'][2:, 0]\n",
    "lat = ctd['lat'][2:, 0]\n",
    "z = ctd['z'][2:, :]\n",
    "sigma0, mask = ctd['sigma0'][2:, :].data, ctd['sigma0'][2:, :].mask\n",
    "sigma0[mask] = np.nan\n",
    "\n",
    "# reformat data to use in mayavi\n",
    "lon_flat = np.tile(lon, z.shape[1])\n",
    "lat_flat = np.tile(lat, z.shape[1])\n",
    "z_flat, sigma0_flat = np.array([]), np.array([])\n",
    "for i in range(z.shape[1]):\n",
    "    z_flat = np.append(z_flat, z[:, i])\n",
    "    sigma0_flat = np.append(sigma0_flat, sigma0[:, i])\n",
    "\n",
    "# plot ctd locations at the surface level\n",
    "loc = np.zeros(lon.shape)\n",
    "\n",
    "points = np.array((lon_flat, lat_flat, z_flat, sigma0_flat)).T\n"
   ]
  },
  {
   "cell_type": "code",
   "execution_count": 3,
   "metadata": {},
   "outputs": [],
   "source": [
    "# plot stations\n",
    "stations = mlab.points3d(lon, lat, loc, scale_factor=0.1, color=(0,0,0))\n",
    "\n",
    "# plot density surfaces on an unstructured grid\n",
    "ug = tvtk.UnstructuredGrid(points=points[:, :3])\n",
    "ug.point_data.scalars = points[:, -1]\n",
    "ug.point_data.scalars.name = \"density\"\n",
    "ds = mlab.pipeline.add_dataset(ug)\n",
    "mesh = mlab.pipeline.delaunay3d(ds)\n",
    "iso = mlab.pipeline.iso_surface(mesh)\n",
    "iso.actor.property.opacity = 0.5\n",
    "iso.contour.number_of_contours = 10\n",
    "iso.actor.actor.scale = (1, 1, 1e-3)\n",
    "mlab.axes(xlabel='longitude', ylabel='latitude', zlabel='z')\n",
    "# mlab.outline()\n",
    "\n",
    "mlab.show()"
   ]
  }
 ],
 "metadata": {
  "kernelspec": {
   "display_name": "Python 3",
   "language": "python",
   "name": "python3"
  },
  "language_info": {
   "codemirror_mode": {
    "name": "ipython",
    "version": 3
   },
   "file_extension": ".py",
   "mimetype": "text/x-python",
   "name": "python",
   "nbconvert_exporter": "python",
   "pygments_lexer": "ipython3",
   "version": "3.5.4"
  }
 },
 "nbformat": 4,
 "nbformat_minor": 2
}
