{
 "cells": [
  {
   "cell_type": "markdown",
   "id": "2d51f053-a20a-4a42-aff0-ae97abf8ffaa",
   "metadata": {
    "tags": []
   },
   "source": [
    "# Calculate gradient wind balance"
   ]
  },
  {
   "cell_type": "code",
   "execution_count": 1,
   "id": "8ecff14d-cd06-4e52-98b3-e163ae722c31",
   "metadata": {},
   "outputs": [],
   "source": [
    "import os\n",
    "\n",
    "import cosima_cookbook as cc\n",
    "from dask.distributed import Client\n",
    "\n",
    "import numpy as np\n",
    "import xarray as xr\n",
    "\n",
    "import xgcm\n",
    "from oceanpy import gradient_wind_from_ssh, define_grid, horizontal_divergence, horizontal_strain, relative_vorticity\n",
    "\n",
    "from numbers import Number"
   ]
  },
  {
   "cell_type": "code",
   "execution_count": 2,
   "id": "e52c226b-20bc-4d66-aeab-4630d8fb855b",
   "metadata": {},
   "outputs": [],
   "source": [
    "outdir = os.path.join(os.sep, 'g', 'data', 'v45', 'jm6603', 'checkouts', 'phd', 'src', 'cosima', '02_manuscript', 'output')\n",
    "if not os.path.exists(outdir):\n",
    "    os.makedirs(outdir)"
   ]
  },
  {
   "cell_type": "code",
   "execution_count": 3,
   "id": "751a3f37-5099-47e0-b24a-a4e566b6a531",
   "metadata": {},
   "outputs": [],
   "source": [
    "from numbers import Number\n",
    "def to_netcdf(ds, file_name):\n",
    "\n",
    "    valid_types = (str, Number, np.ndarray, np.number, list, tuple)\n",
    "    try:\n",
    "        ds.to_netcdf(file_name)\n",
    "    except TypeError as e:\n",
    "        print(e.__class__.__name__, e)\n",
    "        for variable in ds.variables.values():\n",
    "            for k, v in variable.attrs.items():\n",
    "                if not isinstance(v, valid_types) or isinstance(v, bool):\n",
    "                    variable.attrs[k] = str(v)\n",
    "        ds.to_netcdf(file_name)"
   ]
  },
  {
   "cell_type": "markdown",
   "id": "9b92e3c8-4125-4e0c-baa8-5ffa5fb82611",
   "metadata": {},
   "source": [
    "## Load data"
   ]
  },
  {
   "cell_type": "code",
   "execution_count": 4,
   "id": "29405194-30ab-40ae-bf6b-6f549e5fb1f8",
   "metadata": {},
   "outputs": [],
   "source": [
    "session = cc.database.create_session()\n",
    "expt = '01deg_jra55v140_iaf'"
   ]
  },
  {
   "cell_type": "code",
   "execution_count": 5,
   "id": "676e2b30-7449-40e4-8292-6718fee021fd",
   "metadata": {
    "tags": [],
    "toc-hr-collapsed": true
   },
   "outputs": [
    {
     "data": {
      "text/html": [
       "<div>\n",
       "    <div style=\"width: 24px; height: 24px; background-color: #e1e1e1; border: 3px solid #9D9D9D; border-radius: 5px; position: absolute;\"> </div>\n",
       "    <div style=\"margin-left: 48px;\">\n",
       "        <h3 style=\"margin-bottom: 0px;\">Client</h3>\n",
       "        <p style=\"color: #9D9D9D; margin-bottom: 0px;\">Client-ba8f3354-7a2a-11ef-9f45-000007d0fe80</p>\n",
       "        <table style=\"width: 100%; text-align: left;\">\n",
       "\n",
       "        <tr>\n",
       "        \n",
       "            <td style=\"text-align: left;\"><strong>Connection method:</strong> Cluster object</td>\n",
       "            <td style=\"text-align: left;\"><strong>Cluster type:</strong> distributed.LocalCluster</td>\n",
       "        \n",
       "        </tr>\n",
       "\n",
       "        \n",
       "            <tr>\n",
       "                <td style=\"text-align: left;\">\n",
       "                    <strong>Dashboard: </strong> <a href=\"/proxy/8787/status\" target=\"_blank\">/proxy/8787/status</a>\n",
       "                </td>\n",
       "                <td style=\"text-align: left;\"></td>\n",
       "            </tr>\n",
       "        \n",
       "\n",
       "        </table>\n",
       "\n",
       "        \n",
       "            <details>\n",
       "            <summary style=\"margin-bottom: 20px;\"><h3 style=\"display: inline;\">Cluster Info</h3></summary>\n",
       "            <div class=\"jp-RenderedHTMLCommon jp-RenderedHTML jp-mod-trusted jp-OutputArea-output\">\n",
       "    <div style=\"width: 24px; height: 24px; background-color: #e1e1e1; border: 3px solid #9D9D9D; border-radius: 5px; position: absolute;\">\n",
       "    </div>\n",
       "    <div style=\"margin-left: 48px;\">\n",
       "        <h3 style=\"margin-bottom: 0px; margin-top: 0px;\">LocalCluster</h3>\n",
       "        <p style=\"color: #9D9D9D; margin-bottom: 0px;\">bc026cc8</p>\n",
       "        <table style=\"width: 100%; text-align: left;\">\n",
       "            <tr>\n",
       "                <td style=\"text-align: left;\">\n",
       "                    <strong>Dashboard:</strong> <a href=\"/proxy/8787/status\" target=\"_blank\">/proxy/8787/status</a>\n",
       "                </td>\n",
       "                <td style=\"text-align: left;\">\n",
       "                    <strong>Workers:</strong> 2\n",
       "                </td>\n",
       "            </tr>\n",
       "            <tr>\n",
       "                <td style=\"text-align: left;\">\n",
       "                    <strong>Total threads:</strong> 2\n",
       "                </td>\n",
       "                <td style=\"text-align: left;\">\n",
       "                    <strong>Total memory:</strong> 9.00 GiB\n",
       "                </td>\n",
       "            </tr>\n",
       "            \n",
       "            <tr>\n",
       "    <td style=\"text-align: left;\"><strong>Status:</strong> running</td>\n",
       "    <td style=\"text-align: left;\"><strong>Using processes:</strong> True</td>\n",
       "</tr>\n",
       "\n",
       "            \n",
       "        </table>\n",
       "\n",
       "        <details>\n",
       "            <summary style=\"margin-bottom: 20px;\">\n",
       "                <h3 style=\"display: inline;\">Scheduler Info</h3>\n",
       "            </summary>\n",
       "\n",
       "            <div style=\"\">\n",
       "    <div>\n",
       "        <div style=\"width: 24px; height: 24px; background-color: #FFF7E5; border: 3px solid #FF6132; border-radius: 5px; position: absolute;\"> </div>\n",
       "        <div style=\"margin-left: 48px;\">\n",
       "            <h3 style=\"margin-bottom: 0px;\">Scheduler</h3>\n",
       "            <p style=\"color: #9D9D9D; margin-bottom: 0px;\">Scheduler-bb6bd9e5-432b-4fb0-9e41-bbc902764ab7</p>\n",
       "            <table style=\"width: 100%; text-align: left;\">\n",
       "                <tr>\n",
       "                    <td style=\"text-align: left;\">\n",
       "                        <strong>Comm:</strong> tcp://127.0.0.1:38625\n",
       "                    </td>\n",
       "                    <td style=\"text-align: left;\">\n",
       "                        <strong>Workers:</strong> 2\n",
       "                    </td>\n",
       "                </tr>\n",
       "                <tr>\n",
       "                    <td style=\"text-align: left;\">\n",
       "                        <strong>Dashboard:</strong> <a href=\"/proxy/8787/status\" target=\"_blank\">/proxy/8787/status</a>\n",
       "                    </td>\n",
       "                    <td style=\"text-align: left;\">\n",
       "                        <strong>Total threads:</strong> 2\n",
       "                    </td>\n",
       "                </tr>\n",
       "                <tr>\n",
       "                    <td style=\"text-align: left;\">\n",
       "                        <strong>Started:</strong> Just now\n",
       "                    </td>\n",
       "                    <td style=\"text-align: left;\">\n",
       "                        <strong>Total memory:</strong> 9.00 GiB\n",
       "                    </td>\n",
       "                </tr>\n",
       "            </table>\n",
       "        </div>\n",
       "    </div>\n",
       "\n",
       "    <details style=\"margin-left: 48px;\">\n",
       "        <summary style=\"margin-bottom: 20px;\">\n",
       "            <h3 style=\"display: inline;\">Workers</h3>\n",
       "        </summary>\n",
       "\n",
       "        \n",
       "        <div style=\"margin-bottom: 20px;\">\n",
       "            <div style=\"width: 24px; height: 24px; background-color: #DBF5FF; border: 3px solid #4CC9FF; border-radius: 5px; position: absolute;\"> </div>\n",
       "            <div style=\"margin-left: 48px;\">\n",
       "            <details>\n",
       "                <summary>\n",
       "                    <h4 style=\"margin-bottom: 0px; display: inline;\">Worker: 0</h4>\n",
       "                </summary>\n",
       "                <table style=\"width: 100%; text-align: left;\">\n",
       "                    <tr>\n",
       "                        <td style=\"text-align: left;\">\n",
       "                            <strong>Comm: </strong> tcp://127.0.0.1:45821\n",
       "                        </td>\n",
       "                        <td style=\"text-align: left;\">\n",
       "                            <strong>Total threads: </strong> 1\n",
       "                        </td>\n",
       "                    </tr>\n",
       "                    <tr>\n",
       "                        <td style=\"text-align: left;\">\n",
       "                            <strong>Dashboard: </strong> <a href=\"/proxy/40087/status\" target=\"_blank\">/proxy/40087/status</a>\n",
       "                        </td>\n",
       "                        <td style=\"text-align: left;\">\n",
       "                            <strong>Memory: </strong> 4.50 GiB\n",
       "                        </td>\n",
       "                    </tr>\n",
       "                    <tr>\n",
       "                        <td style=\"text-align: left;\">\n",
       "                            <strong>Nanny: </strong> tcp://127.0.0.1:43667\n",
       "                        </td>\n",
       "                        <td style=\"text-align: left;\"></td>\n",
       "                    </tr>\n",
       "                    <tr>\n",
       "                        <td colspan=\"2\" style=\"text-align: left;\">\n",
       "                            <strong>Local directory: </strong> /jobfs/125319081.gadi-pbs/dask-worker-space/worker-sddbfg6q\n",
       "                        </td>\n",
       "                    </tr>\n",
       "\n",
       "                    \n",
       "\n",
       "                    \n",
       "\n",
       "                </table>\n",
       "            </details>\n",
       "            </div>\n",
       "        </div>\n",
       "        \n",
       "        <div style=\"margin-bottom: 20px;\">\n",
       "            <div style=\"width: 24px; height: 24px; background-color: #DBF5FF; border: 3px solid #4CC9FF; border-radius: 5px; position: absolute;\"> </div>\n",
       "            <div style=\"margin-left: 48px;\">\n",
       "            <details>\n",
       "                <summary>\n",
       "                    <h4 style=\"margin-bottom: 0px; display: inline;\">Worker: 1</h4>\n",
       "                </summary>\n",
       "                <table style=\"width: 100%; text-align: left;\">\n",
       "                    <tr>\n",
       "                        <td style=\"text-align: left;\">\n",
       "                            <strong>Comm: </strong> tcp://127.0.0.1:46465\n",
       "                        </td>\n",
       "                        <td style=\"text-align: left;\">\n",
       "                            <strong>Total threads: </strong> 1\n",
       "                        </td>\n",
       "                    </tr>\n",
       "                    <tr>\n",
       "                        <td style=\"text-align: left;\">\n",
       "                            <strong>Dashboard: </strong> <a href=\"/proxy/38371/status\" target=\"_blank\">/proxy/38371/status</a>\n",
       "                        </td>\n",
       "                        <td style=\"text-align: left;\">\n",
       "                            <strong>Memory: </strong> 4.50 GiB\n",
       "                        </td>\n",
       "                    </tr>\n",
       "                    <tr>\n",
       "                        <td style=\"text-align: left;\">\n",
       "                            <strong>Nanny: </strong> tcp://127.0.0.1:32799\n",
       "                        </td>\n",
       "                        <td style=\"text-align: left;\"></td>\n",
       "                    </tr>\n",
       "                    <tr>\n",
       "                        <td colspan=\"2\" style=\"text-align: left;\">\n",
       "                            <strong>Local directory: </strong> /jobfs/125319081.gadi-pbs/dask-worker-space/worker-_3phk4_3\n",
       "                        </td>\n",
       "                    </tr>\n",
       "\n",
       "                    \n",
       "\n",
       "                    \n",
       "\n",
       "                </table>\n",
       "            </details>\n",
       "            </div>\n",
       "        </div>\n",
       "        \n",
       "\n",
       "    </details>\n",
       "</div>\n",
       "\n",
       "        </details>\n",
       "    </div>\n",
       "</div>\n",
       "            </details>\n",
       "        \n",
       "\n",
       "    </div>\n",
       "</div>"
      ],
      "text/plain": [
       "<Client: 'tcp://127.0.0.1:38625' processes=2 threads=2, memory=9.00 GiB>"
      ]
     },
     "execution_count": 5,
     "metadata": {},
     "output_type": "execute_result"
    }
   ],
   "source": [
    "client = Client()\n",
    "client"
   ]
  },
  {
   "cell_type": "code",
   "execution_count": 6,
   "id": "509cc474-c7f0-490c-95fb-bcf7ec223671",
   "metadata": {},
   "outputs": [],
   "source": [
    "# data output frequency\n",
    "freq = '1 daily'\n",
    "\n",
    "# time limits of dataset\n",
    "start, end = '1997-04-01', '1997-04-30'\n",
    "\n",
    "# location limits of dataset\n",
    "lon_lim = slice(-225.2, -210.8) #230\n",
    "lat_lim = slice(-53.7, -46.3)\n",
    "\n",
    "monthly_period = slice('1997-04-01', '1997-04-30')\n",
    "flex_period = slice('1997-04-10', '1997-04-25')"
   ]
  },
  {
   "cell_type": "markdown",
   "id": "519550a3-ec20-4041-ad5e-158c6db2d7a8",
   "metadata": {},
   "source": [
    "### Load and select coordinates"
   ]
  },
  {
   "cell_type": "code",
   "execution_count": 7,
   "id": "4c869f82-0b75-46db-a187-076369f39522",
   "metadata": {},
   "outputs": [],
   "source": [
    "# load coordinates\n",
    "dxt = cc.querying.getvar(expt=expt, variable='dxt', session=session, frequency='static', n=1)\n",
    "dyt = cc.querying.getvar(expt=expt, variable='dyt', session=session, frequency='static', n=1)\n",
    "# dzt = cc.querying.getvar(expt=expt, variable='dzt', session=session, frequency='1 monthly', n=1)\n",
    "\n",
    "dxu = cc.querying.getvar(expt=expt, variable='dxu', session=session, frequency='static', n=1)\n",
    "dyu = cc.querying.getvar(expt=expt, variable='dyu', session=session, frequency='static', n=1)\n",
    "\n",
    "area_t = cc.querying.getvar(expt=expt, variable='area_t', session=session, frequency='static', n=1)\n",
    "area_u = cc.querying.getvar(expt=expt, variable='area_u', session=session, frequency='static', n=1)"
   ]
  },
  {
   "cell_type": "code",
   "execution_count": 8,
   "id": "93b53e7e-7bc9-415c-afe1-a3a304f706da",
   "metadata": {},
   "outputs": [],
   "source": [
    "dxt_lim = dxt.sel(xt_ocean=lon_lim, yt_ocean=lat_lim)\n",
    "dyt_lim = dyt.sel(xt_ocean=lon_lim, yt_ocean=lat_lim)\n",
    "# dzt_lim = dzt.sel(xt_ocean=lon_lim, yt_ocean=lat_lim)\n",
    "\n",
    "dxu_lim = dxu.sel(xu_ocean=lon_lim, yu_ocean=lat_lim)\n",
    "dyu_lim = dyu.sel(xu_ocean=lon_lim, yu_ocean=lat_lim)\n",
    "\n",
    "areat_lim = area_t.sel(xt_ocean=lon_lim, yt_ocean=lat_lim)\n",
    "areau_lim = area_u.sel(xu_ocean=lon_lim, yu_ocean=lat_lim)\n"
   ]
  },
  {
   "cell_type": "markdown",
   "id": "6d0b6e28-ea34-4c2f-af07-6caa0ae8c33c",
   "metadata": {},
   "source": [
    "### Load and select variables"
   ]
  },
  {
   "cell_type": "code",
   "execution_count": 9,
   "id": "1a5fd5dc-406a-4fae-8b4f-462353587768",
   "metadata": {},
   "outputs": [],
   "source": [
    "# load variables \n",
    "sl = cc.querying.getvar(expt=expt, variable='sea_level', session=session, frequency=freq, start_time=start, end_time=end)\n",
    "u = cc.querying.getvar(expt=expt, variable='u', session=session, frequency=freq, start_time=start, end_time=end)\n",
    "v = cc.querying.getvar(expt=expt, variable='v', session=session, frequency=freq, start_time=start, end_time=end)\n",
    "# wt = cc.querying.getvar(expt=expt, variable='wt', session=session, frequency=freq, start_time=start, end_time=end)\n",
    "\n",
    "\n",
    "# select spatial area\n",
    "sl_lim = sl.sel(xt_ocean=lon_lim, yt_ocean=lat_lim)\n",
    "u_lim = u.sel(xu_ocean=lon_lim, yu_ocean=lat_lim)\n",
    "v_lim = v.sel(xu_ocean=lon_lim, yu_ocean=lat_lim)\n",
    "# wt_lim = wt.sel(xt_ocean=lon_lim, yt_ocean=lat_lim)\n"
   ]
  },
  {
   "cell_type": "markdown",
   "id": "39a068ea-e8f0-4fce-ad60-2468bab42875",
   "metadata": {},
   "source": [
    "## Define Grid"
   ]
  },
  {
   "cell_type": "markdown",
   "id": "13635e3e-8dfa-4e8b-8d06-989363421da4",
   "metadata": {},
   "source": [
    "### Calculate finite differences with package `xgcm`\n",
    "The way `xgcm` works is that we first create a `grid` object that has all the information regarding our staggered grid. For our case, `grid` needs to know the location of the `xt_ocean`, `xu_ocean` points (and same for y) and their relative orientation to one another, i.e., that `xu_ocean` is shifted to the right of `xt_ocean` by $\\frac{1}{2}$ grid-cell."
   ]
  },
  {
   "cell_type": "code",
   "execution_count": 10,
   "id": "786e2eeb-31c8-4233-8492-e506b8e2282b",
   "metadata": {},
   "outputs": [
    {
     "data": {
      "text/plain": [
       "<xgcm.Grid>\n",
       "Y Axis (not periodic, boundary='extend'):\n",
       "  * center   yt_ocean --> outer\n",
       "  * outer    yu_ocean --> center\n",
       "X Axis (not periodic, boundary='extend'):\n",
       "  * center   xt_ocean --> right\n",
       "  * right    xu_ocean --> center"
      ]
     },
     "execution_count": 10,
     "metadata": {},
     "output_type": "execute_result"
    }
   ],
   "source": [
    "# define coordinates\n",
    "coords = {'xt_ocean': None, 'yt_ocean': None, 'xu_ocean': 0.5, 'yu_ocean': 0.5}\n",
    "distances=('dxt', 'dyt', 'dxu', 'dyu')\n",
    "areas=('area_u', 'area_t')\n",
    "dims=('X', 'Y')\n",
    "\n",
    "coordinates = xr.merge([dxt_lim, dyt_lim, dxu_lim, dyu_lim, areat_lim, areau_lim])\n",
    "\n",
    "vel = xr.merge([coordinates, sl_lim.sel(time=monthly_period), u_lim.sel(time=monthly_period), v_lim.sel(time=monthly_period)])\n",
    "\n",
    "grid = define_grid(vel, dims, coords, distances, areas, periodic=False)\n",
    "grid"
   ]
  },
  {
   "cell_type": "markdown",
   "id": "26f4b8d3-f79d-49b1-aa3a-d65430f089a3",
   "metadata": {},
   "source": [
    "## Gradient wind, geostrophic and ageostrophic velocities"
   ]
  },
  {
   "cell_type": "code",
   "execution_count": 11,
   "id": "14098756-a646-45d2-9911-f1dfb871d13f",
   "metadata": {},
   "outputs": [
    {
     "name": "stdout",
     "output_type": "stream",
     "text": [
      "TypeError Invalid value for attr 'time_bounds': <xarray.DataArray 'time_bounds' (time: 181, nv: 2)>\n",
      "dask.array<concatenate, shape=(181, 2), dtype=timedelta64[ns], chunksize=(1, 2), chunktype=numpy.ndarray>\n",
      "Coordinates:\n",
      "  * time     (time) datetime64[ns] 1997-01-01T12:00:00 ... 1997-06-30T12:00:00\n",
      "  * nv       (nv) float64 1.0 2.0\n",
      "Attributes:\n",
      "    long_name:  time axis boundaries\n",
      "    calendar:   GREGORIAN. For serialization to netCDF files, its value must be of one of the following types: str, Number, ndarray, number, list, tuple\n"
     ]
    }
   ],
   "source": [
    "# Calculate flow speed at the surface\n",
    "sea_level = sl_lim.sel(time=monthly_period)\n",
    "# u = u_lim.sel(time=flex_period)\n",
    "# v = v_lim.sel(time=flex_period)\n",
    "# V = np.sqrt(u**2 + v**2)\n",
    "# V.name, u.name, v.name = 'Vtot', 'utot', 'vtot'\n",
    "\n",
    "# Calculate gradient wind and geostrophic velocities from sea level\n",
    "UTM54 = 'EPSG:32754'\n",
    "gw = gradient_wind_from_ssh(sea_level, transform=UTM54, \n",
    "                            dimensions=('time', 'yt_ocean', 'xt_ocean'))\n",
    "\n",
    "# Smoothing (!!!!)\n",
    "gw_smooth = gradient_wind_from_ssh(sea_level, transform=UTM54, \n",
    "                                   dimensions=('time', 'yt_ocean', 'xt_ocean'), \n",
    "                                   smooth={'boxcar': 3})\n",
    "\n",
    "# save gradient wind dataset\n",
    "gw = xr.merge([sea_level.to_dataset(), gw_smooth])\n",
    "file_name = os.path.join(outdir, 'gw-vel.nc')\n",
    "if not os.path.exists(file_name):\n",
    "    to_netcdf(gw, file_name)"
   ]
  }
 ],
 "metadata": {
  "kernelspec": {
   "display_name": "Python [conda env:analysis3-22.01]",
   "language": "python",
   "name": "conda-env-analysis3-22.01-py"
  },
  "language_info": {
   "codemirror_mode": {
    "name": "ipython",
    "version": 3
   },
   "file_extension": ".py",
   "mimetype": "text/x-python",
   "name": "python",
   "nbconvert_exporter": "python",
   "pygments_lexer": "ipython3",
   "version": "3.9.12"
  },
  "toc-autonumbering": false,
  "toc-showcode": false,
  "toc-showmarkdowntxt": false
 },
 "nbformat": 4,
 "nbformat_minor": 5
}
