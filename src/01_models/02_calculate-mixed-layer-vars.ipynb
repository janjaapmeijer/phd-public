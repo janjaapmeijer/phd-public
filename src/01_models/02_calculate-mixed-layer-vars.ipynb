{
 "cells": [
  {
   "cell_type": "code",
   "execution_count": 24,
   "metadata": {},
   "outputs": [],
   "source": [
    "%run ../../_setup.py\n",
    "\n",
    "from netCDF4 import Dataset\n",
    "from xarray import open_dataset\n",
    "from shutil import copyfile\n",
    "from OceanPy.netcdf import createNetCDF\n",
    "\n",
    "import numpy as np\n",
    "from scipy.interpolate import interp1d\n",
    "\n",
    "# http://mixedlayer.ucsd.edu/ and https://github.com/garrettdreyfus/python-holteandtalley\n",
    "from holteandtalley import HolteAndTalley\n",
    "from OceanPy.stability import mixed_layer_depth\n",
    "\n",
    "import matplotlib.pyplot as plt"
   ]
  },
  {
   "cell_type": "code",
   "execution_count": 25,
   "metadata": {},
   "outputs": [],
   "source": [
    "# load ctd and gsw data\n",
    "input_file_ctd = os.path.join(datadir, 'ss9802', 'processed', 'ctd', 'ss9802_ctd_gsw.nc')\n",
    "ctd = Dataset(input_file_ctd, 'r')\n",
    "\n",
    "# load adcp data\n",
    "input_file_adcp = os.path.join(datadir, 'ss9802', 'processed', 'adcp', 'ss9802_adcp_ctd.nc')\n",
    "adcp = Dataset(input_file_adcp, 'r')"
   ]
  },
  {
   "cell_type": "code",
   "execution_count": 26,
   "metadata": {},
   "outputs": [],
   "source": [
    "# output files\n",
    "output_file_adcp_mld = os.path.join(datadir, 'ss9802', 'processed', 'adcp', 'ss9802_adcp_ctd_mld.nc')\n"
   ]
  },
  {
   "cell_type": "code",
   "execution_count": 27,
   "metadata": {},
   "outputs": [],
   "source": [
    "# find indices for pressure levels in CTD prodiles\n",
    "pressure_levels = {}\n",
    "for ip, p in enumerate(ctd['p'][:]):\n",
    "    pressure_levels[p] = ip\n",
    "\n",
    "# transect stations\n",
    "transects = {1: list(reversed(range(2, 10))), 2: list(range(10, 18)), 3: list(reversed(range(18, 27))),\n",
    "             4: list(range(26, 34)), 5: list(reversed(range(36, 46))), 6: list(range(46, 57)),\n",
    "             7: list(reversed(range(56, 65))), 8: list(reversed(range(68, 76))), 9: list(range(76, 84)),\n",
    "             10: list(reversed(range(84, 91))), 11: list([93, 92] + list(range(94, 101)))}"
   ]
  },
  {
   "cell_type": "markdown",
   "metadata": {},
   "source": [
    "## calculate mixed layer depth according to Holte and Talley, 2009"
   ]
  },
  {
   "cell_type": "code",
   "execution_count": 28,
   "metadata": {},
   "outputs": [
    {
     "name": "stdout",
     "output_type": "stream",
     "text": [
      "average mixed layer pressure: 94.11881188118812\n"
     ]
    }
   ],
   "source": [
    "nst = ctd.dimensions['profile'].size\n",
    "\n",
    "pressure = ctd['p'][:]\n",
    "mld, pmld, imld = np.ma.masked_all(nst), np.ma.masked_all(nst), []\n",
    "# pmld_sigma0 = pmld.copy()\n",
    "for istat in range(nst):\n",
    "    CT = ctd['CT'][istat,:]\n",
    "    SA = ctd['SA'][istat,:]\n",
    "    sigma0 = ctd['sigma0'][istat,:]\n",
    "\n",
    "    mask = np.ma.masked_invalid(CT).mask | np.ma.masked_invalid(SA).mask | np.ma.masked_invalid(sigma0).mask\n",
    "\n",
    "    h = HolteAndTalley(pressure[~mask], CT[~mask], SA[~mask], sigma0[~mask])\n",
    "    mld[istat] = h.tempMLD\n",
    "    pmld[istat] = round(h.tempMLD / 2) * 2\n",
    "#     pmld_sigma0[istat] = round(h.densityMLD / 2) * 2\n",
    "\n",
    "    imld.append(pressure_levels[pmld[istat]])\n",
    "\n",
    "print('average mixed layer pressure: %s' %np.mean(pressure[imld]))\n"
   ]
  },
  {
   "cell_type": "markdown",
   "metadata": {},
   "source": [
    "## calculate mixed layer depth with OceanPy based on de Boyer Montegut et al. 2004"
   ]
  },
  {
   "cell_type": "code",
   "execution_count": 29,
   "metadata": {},
   "outputs": [],
   "source": [
    "# smooth = True\n",
    "# imld_old = []\n",
    "# for istat in range(nst):\n",
    "    \n",
    "#     # read variables\n",
    "#     sig0 = ctd['sigma0'][istat,]\n",
    "#     pt = ctd['pt'][istat,]\n",
    "#     z = ctd['z'][istat,]\n",
    "\n",
    "#     # determine index of mixed layer depth \n",
    "#     imld_tdd, ml_dep = mixed_layer_depth(z, sig0=sig0, pt=pt, smooth=smooth)[0:2]\n",
    "#     imld_old.append(imld_tdd)\n",
    "\n",
    "# print('average mixed layer pressure: %s' %np.mean(pressure[imld_old]))"
   ]
  },
  {
   "cell_type": "markdown",
   "metadata": {},
   "source": [
    "## plot mixed layer depth based on temperature for each transect"
   ]
  },
  {
   "cell_type": "code",
   "execution_count": 30,
   "metadata": {},
   "outputs": [],
   "source": [
    "# keys = list(transects.keys())\n",
    "# keys.insert(4, 4)\n",
    "\n",
    "# fig, axes = plt.subplots(nrows=3, ncols=4, figsize=(18, 18), sharey=True, sharex=True, constrained_layout=True)\n",
    "# axes[0,0].invert_yaxis()\n",
    "# for ax, transect in zip(axes.flat, reversed(keys)):\n",
    "#     stations = transects[transect]\n",
    "    \n",
    "#     ax.set_ylim([0, 300])\n",
    "#     ax.invert_yaxis()\n",
    "    \n",
    "#     for station in stations:\n",
    "#         ax.plot(ctd['CT'][station, :], pressure, 'r-')\n",
    "#         ax.scatter(ctd['CT'][station, pressure_levels[pmld[station]]], \n",
    "#                       pressure[pressure_levels[pmld[station]]], facecolors='r')\n",
    "\n",
    "# #     ax_CT.set_xlabel(ctd['CT'].long_name)\n",
    "\n"
   ]
  },
  {
   "cell_type": "code",
   "execution_count": 31,
   "metadata": {},
   "outputs": [],
   "source": [
    "# fig, axes = plt.subplots(nrows=3, ncols=4, figsize=(18, 18), sharey=True, sharex=True, constrained_layout=True)\n",
    "# axes[0,0].invert_yaxis()\n",
    "# for ax, transect in zip(axes.flat, reversed(keys)):\n",
    "#     stations = transects[transect]\n",
    "    \n",
    "#     ax.set_ylim([0, 200])\n",
    "#     ax.invert_yaxis()\n",
    "#     ax.set_xlim([26.4, 26.9])\n",
    "    \n",
    "#     for station in stations:\n",
    "#         ax.plot(ctd['sigma0'][station, :], pressure, 'b-')\n",
    "#         ax.scatter(ctd['sigma0'][station, pressure_levels[pmld[station]]], \n",
    "#                           pressure[pressure_levels[pmld[station]]], facecolors='b')\n",
    "#         ax.scatter(ctd['sigma0'][station, pressure_levels[pmld_sigma0[station]]],\n",
    "#                    pressure[pressure_levels[pmld_sigma0[station]]], facecolors='r')\n"
   ]
  },
  {
   "cell_type": "markdown",
   "metadata": {},
   "source": [
    "## calculate direction for ADCP velocity vectors"
   ]
  },
  {
   "cell_type": "code",
   "execution_count": 32,
   "metadata": {},
   "outputs": [],
   "source": [
    "# calculate orientation angle of ADCP vectors\n",
    "xpos = adcp['u_ctd'][:].data < 0\n",
    "ypos = adcp['v_ctd'][:].data < 0\n",
    "\n",
    "direction = np.arctan(adcp['v_ctd'][:] / adcp['u_ctd'][:])\n",
    "direction[xpos] = np.arctan(adcp['v_ctd'][:][xpos] / adcp['u_ctd'][:][xpos]) + np.pi\n",
    "direction[xpos & ypos] = np.arctan(adcp['v_ctd'][:][xpos & ypos] / adcp['u_ctd'][:][xpos & ypos]) - np.pi\n"
   ]
  },
  {
   "cell_type": "markdown",
   "metadata": {},
   "source": [
    "## interpolate adcp velocities to same pressure coordinate system as CTD"
   ]
  },
  {
   "cell_type": "code",
   "execution_count": 33,
   "metadata": {},
   "outputs": [],
   "source": [
    "# construct adcp pressure levels with same interval as CTD\n",
    "pctd_adcp = np.linspace(2, 352, int((352 - 2) / 2 + 1))\n"
   ]
  },
  {
   "cell_type": "code",
   "execution_count": 34,
   "metadata": {
    "scrolled": false
   },
   "outputs": [],
   "source": [
    "group = 'MLD'\n",
    "\n",
    "dimensions = {\n",
    "    'profile': ctd['station'].size,\n",
    "    'pressure': pctd_adcp.size,\n",
    "}\n",
    "\n",
    "# nst, npf = adcp.dimensions['profile_ctd'].size, pctd_adcp.size\n",
    "variables = {\n",
    "    'p_ctd': ('sea_water_pressure', 'f8', ('pressure',)),\n",
    "    'u_ctd': ('eastward_sea_water_velocity', 'f8', ('profile', 'pressure',)), \n",
    "    'v_ctd': ('northward_sea_water_velocity', 'f8', ('profile', 'pressure',)), \n",
    "    'dir_ctd': ('sea_water_velocity_to_direction', 'f8', ('profile', 'pressure',))\n",
    "}  \n"
   ]
  },
  {
   "cell_type": "code",
   "execution_count": 35,
   "metadata": {},
   "outputs": [],
   "source": [
    "new_variables = {}\n",
    "for var in variables:\n",
    "    if var == 'p_ctd':\n",
    "        new_variables['/%s/%s' %(group, var)] = variables[var] + (np.ma.masked_invalid(pctd_adcp),)\n",
    "    else:\n",
    "        data = np.ma.masked_all((dimensions['profile'], dimensions['pressure']))\n",
    "        for ist in range(dimensions['profile']):\n",
    "            if var == 'dir_ctd':\n",
    "                values = direction[ist, :]\n",
    "            else:\n",
    "                values = adcp[var][ist, :]\n",
    "            mask = adcp['p_ctd'][ist, :].mask | values.mask\n",
    "            try:\n",
    "                f = interp1d(adcp['p_ctd'][ist, ~mask], values[~mask], bounds_error=False)\n",
    "                data[ist,] = f(pctd_adcp)\n",
    "            except IndexError:\n",
    "                pass\n",
    "        new_variables['/%s/%s' %(group, var)] = variables[var] + (data,)"
   ]
  },
  {
   "cell_type": "markdown",
   "metadata": {},
   "source": [
    "## average over mixed layer variables"
   ]
  },
  {
   "cell_type": "code",
   "execution_count": 36,
   "metadata": {},
   "outputs": [],
   "source": [
    "# find reference depth\n",
    "ref_dep = 20\n",
    "iref = pressure_levels[ref_dep]\n",
    "\n",
    "# find index of mixed layer pressure at CTD pressure levels\n",
    "ipmld = np.ma.masked_invalid([(np.abs(pctd_adcp - p)).argmin() for p in pmld])\n"
   ]
  },
  {
   "cell_type": "code",
   "execution_count": 37,
   "metadata": {},
   "outputs": [],
   "source": [
    "variables_mld = {\n",
    "    'mld': ('ocean_mixed_layer_thickness_defined_by_temperature', 'f8', ('profile',)),\n",
    "    'p_mld': ('sea_water_pressure', 'f8', ('profile',)),\n",
    "    'idxp_mld': ('ocean_mixed_layer_thickness_defined_by_temperature index', 'f8', ('profile',)),\n",
    "    'u_mld': ('eastward_sea_water_velocity', 'f8', ('profile',)),\n",
    "    'v_mld': ('northward_sea_water_velocity', 'f8', ('profile',)),\n",
    "    'dir_mld': ('sea_water_velocity_to_direction', 'f8', ('profile',))\n",
    "}"
   ]
  },
  {
   "cell_type": "code",
   "execution_count": 38,
   "metadata": {},
   "outputs": [
    {
     "name": "stderr",
     "output_type": "stream",
     "text": [
      "/home/janjaapmeijer/miniconda3/envs/ocean36/lib/python3.6/site-packages/ipykernel_launcher.py:6: RuntimeWarning: Mean of empty slice\n",
      "  \n"
     ]
    }
   ],
   "source": [
    "# calculate mean of velocities/ direction from reference to mixed level pressure\n",
    "for var in ['u', 'v', 'dir']:\n",
    "    data = []\n",
    "    for ist in range(dimensions['profile']):\n",
    "        try:\n",
    "            data.append(np.nanmean(new_variables['/%s/%s' %(group, var + '_ctd')][3][ist, slice(iref, ipmld[ist])]))\n",
    "        except ValueError:\n",
    "            data.append(np.nan)\n",
    "    data = np.ma.masked_invalid(data)\n",
    "    new_variables['/%s/%s' %(group, var + '_mld')] = variables_mld[var + '_mld'] + (data,)\n"
   ]
  },
  {
   "cell_type": "code",
   "execution_count": 39,
   "metadata": {},
   "outputs": [],
   "source": [
    "new_variables['/%s/%s' %(group, 'mld')] = variables_mld['mld'] + (mld,)\n",
    "new_variables['/%s/%s' %(group, 'p_mld')] = variables_mld['p_mld'] + (pmld,)\n",
    "new_variables['/%s/%s' %(group, 'idxp_mld')] = variables_mld['idxp_mld'] + (ipmld,)\n"
   ]
  },
  {
   "cell_type": "markdown",
   "metadata": {},
   "source": [
    "## store in ADCP netCDF"
   ]
  },
  {
   "cell_type": "code",
   "execution_count": 40,
   "metadata": {},
   "outputs": [
    {
     "name": "stdout",
     "output_type": "stream",
     "text": [
      "Output file ss9802_adcp_ctd_mld.nc, copied from input file ss9802_adcp_ctd.nc.\n"
     ]
    }
   ],
   "source": [
    "if os.path.isfile(output_file_adcp_mld):\n",
    "    print('Output file %s already exists.' %os.path.basename(output_file_adcp_mld))\n",
    "else:\n",
    "    copyfile(input_file_adcp, output_file_adcp_mld)\n",
    "    print('Output file %s, copied from input file %s.'\n",
    "          %(os.path.basename(output_file_adcp_mld), os.path.basename(input_file_adcp)))\n",
    "    adcp_mld = createNetCDF(output_file_adcp_mld)\n"
   ]
  },
  {
   "cell_type": "code",
   "execution_count": 41,
   "metadata": {},
   "outputs": [],
   "source": [
    "try:\n",
    "    # create group\n",
    "    dsgroup = adcp_mld.dataset.createGroup(group)\n",
    "\n",
    "    # create dimensions and coordinates\n",
    "    for name, size in dimensions.items():\n",
    "        dsgroup.createDimension(name, size)\n",
    "\n",
    "        if name == 'profile': \n",
    "            values = np.ma.masked_invalid(ctd['station'])\n",
    "            precision = 'i4'\n",
    "        elif name == 'pressure':\n",
    "            values = np.ma.masked_invalid(pctd_adcp)\n",
    "            precision = 'f8'\n",
    "\n",
    "        new_variables['/%s/%s' %(group, name)] = (name, precision, name, values)\n",
    "\n",
    "    # create variables\n",
    "    adcp_mld.create_vars(new_variables)\n",
    "    \n",
    "    adcp_mld.close()\n",
    "    \n",
    "except IndexError:\n",
    "    print('oops')"
   ]
  },
  {
   "cell_type": "markdown",
   "metadata": {},
   "source": [
    "## open MLD variables at CTD locations and plot"
   ]
  },
  {
   "cell_type": "code",
   "execution_count": 42,
   "metadata": {},
   "outputs": [],
   "source": [
    "adcp_ctd = open_dataset(output_file_adcp_mld)\n",
    "adcp_mld = open_dataset(output_file_adcp_mld, group='MLD')\n"
   ]
  },
  {
   "cell_type": "code",
   "execution_count": 48,
   "metadata": {},
   "outputs": [
    {
     "data": {
      "text/plain": [
       "Text(0.5, 0, 'sea_water_conservative_temperature')"
      ]
     },
     "execution_count": 48,
     "metadata": {},
     "output_type": "execute_result"
    },
    {
     "data": {
      "image/png": "[encoded data removed]",
      "text/plain": [
       "<Figure size 864x576 with 2 Axes>"
      ]
     },
     "metadata": {
      "needs_background": "light"
     },
     "output_type": "display_data"
    }
   ],
   "source": [
    "ist = 7\n",
    "\n",
    "fig, ax = plt.subplots(figsize=(12,8))\n",
    "ax.set_ylim([0, 300])\n",
    "ax.invert_yaxis()\n",
    "axCT = ax.twiny()\n",
    "\n",
    "# Make some room at the bottom\n",
    "fig.subplots_adjust(bottom=0.20)\n",
    "\n",
    "# second axis at the bottom\n",
    "axCT.set_frame_on(True)\n",
    "axCT.patch.set_visible(False)\n",
    "axCT.xaxis.set_ticks_position('bottom')\n",
    "axCT.xaxis.set_label_position('bottom')\n",
    "axCT.spines['bottom'].set_position(('outward', 40))\n",
    "\n",
    "# plot velocity profile\n",
    "ax.plot(adcp_mld['u_ctd'][ist, :], adcp_mld['p_ctd'][:], 'g')\n",
    "ax.scatter(adcp_mld['u_mld'][ist], adcp_mld['p_mld'][ist], facecolors='gray')\n",
    "ax.axvline(x=adcp_mld['u_mld'][ist], ymax=adcp_mld['p_mld'][ist], color='gray', linestyle='--')\n",
    "ax.axhline(y=adcp_mld['p_mld'][ist], color='gray', linestyle='--')\n",
    "\n",
    "ax.set_xlabel(adcp_mld['u_ctd'].long_name)\n",
    "\n",
    "# plot temperature profile\n",
    "axCT.plot(ctd['CT'][ist,:], ctd['p'][:], 'r', )\n",
    "axCT.set_xlim([6, 10])\n",
    "axCT.set_xlabel(ctd['CT'].long_name)\n"
   ]
  }
 ],
 "metadata": {
  "kernelspec": {
   "display_name": "Python 3",
   "language": "python",
   "name": "python3"
  },
  "language_info": {
   "codemirror_mode": {
    "name": "ipython",
    "version": 3
   },
   "file_extension": ".py",
   "mimetype": "text/x-python",
   "name": "python",
   "nbconvert_exporter": "python",
   "pygments_lexer": "ipython3",
   "version": "3.6.6"
  }
 },
 "nbformat": 4,
 "nbformat_minor": 2
}
