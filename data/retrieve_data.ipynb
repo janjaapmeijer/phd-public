{
 "cells": [
  {
   "cell_type": "code",
   "execution_count": null,
   "metadata": {},
   "outputs": [],
   "source": [
    "%run ../../_setup.py\n",
    "import cdsapi\n",
    "# from calendar import monthrange\n",
    "\n",
    "# def filename(ds, var, year, month):\n",
    "#     \"\"\"Construct the name of the variable file with year and month\"\"\"\n",
    "#     return '{ds}_{var}_{year:4d}-{month:02d}.nc'.format(ds=ds, var=var, year=year, month=month)\n",
    "\n",
    "def filename(ds, var, year):\n",
    "    \"\"\"Construct the name of the variable file with year and month\"\"\"\n",
    "    return '{ds}_{var}_{year:4d}.grib'.format(ds=ds, var=var, year=year)"
   ]
  },
  {
   "cell_type": "code",
   "execution_count": null,
   "metadata": {},
   "outputs": [],
   "source": [
    "date = '1998-03-01'\n",
    "\n",
    "months = ['%02d' % month for month in range(1, 13)]\n",
    "years = [year for year in range(1993, 2019)]\n",
    "days = ['%02d' % day for day in range(1, 31)]\n",
    "\n",
    "area = [-48, 137, -52.4, 147] # North, West, South, East\n",
    "\n",
    "# filename = os.path.join(datadir, 'external', 'ssh', )\n",
    "\n",
    "c = cdsapi.Client()\n",
    "\n",
    "c.retrieve(\n",
    "    'satellite-sea-level-global',\n",
    "    {\n",
    "        'year': '1998',\n",
    "        'month': '03', #months,\n",
    "        'day': days,\n",
    "        'area': area, # North, West, South, East\n",
    "        'variable': 'adt', #'all',\n",
    "#         'format': 'netcdf'\n",
    "    }#, filename\n",
    ")\n"
   ]
  },
  {
   "cell_type": "code",
   "execution_count": null,
   "metadata": {},
   "outputs": [],
   "source": [
    "years = (1993, 2018)\n",
    "months = ['%02d' % month for month in range(1, 12+1)]\n",
    "days = ['%02d' % day for day in range(1, 31+1)]\n",
    "area = [-48, 137, -52.4, 147] # North, West, South, East\n",
    "\n",
    "dirname = os.path.join(datadir, 'external', 'ssh', 'SEALEVEL_GLO_PHY_L4_REP_OBS')\n",
    "if not os.path.exists(dirname):\n",
    "    os.makedirs(dirname)\n",
    "\n",
    "c = cdsapi.Client()\n",
    "\n",
    "for year in range(1998, 1999+1):\n",
    "#     for month in range(1, 12+1):\n",
    "#         ndays = monthrange(year, month)[1]\n",
    "#         days = ['%02d' % day for day in range(1, ndays+1)]\n",
    "\n",
    "    fname = filename('sl', 'all', year)\n",
    "    file = os.path.join(dirname, fname)\n",
    "    \n",
    "    if not os.path.isfile(file):\n",
    "        try:\n",
    "            print(file)\n",
    "#             urllib.request.urlretrieve(url + fname, file)\n",
    "            c.retrieve('satellite-sea-level-global',\n",
    "                       {\n",
    "                           'variable': 'all',\n",
    "                           'year': str(year),\n",
    "                           'month': '%02d' % 3,\n",
    "                           'day': days,\n",
    "                           'area': area,\n",
    "                           'grid': 0.25/0.25,\n",
    "#                            'format': 'netcdf'\n",
    "                       }, os.path.join(dirname, fname)\n",
    "                      )\n",
    "        except:\n",
    "            print('Warning: Could not download: ' + fname)\n",
    "            if os.path.isfile(file):\n",
    "                os.remove(file)  \n"
   ]
  }
 ],
 "metadata": {
  "kernelspec": {
   "display_name": "Python 3",
   "language": "python",
   "name": "python3"
  },
  "language_info": {
   "codemirror_mode": {
    "name": "ipython",
    "version": 3
   },
   "file_extension": ".py",
   "mimetype": "text/x-python",
   "name": "python",
   "nbconvert_exporter": "python",
   "pygments_lexer": "ipython3",
   "version": "3.6.6"
  }
 },
 "nbformat": 4,
 "nbformat_minor": 2
}
