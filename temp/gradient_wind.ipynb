{
 "cells": [
  {
   "cell_type": "code",
   "execution_count": 1,
   "metadata": {},
   "outputs": [],
   "source": [
    "%run ../../_setup.py\n",
    "import numpy as np\n",
    "import xarray as xr\n",
    "from netCDF4 import Dataset\n",
    "import matplotlib.pyplot as plt\n",
    "import matplotlib.colors as mcolors"
   ]
  },
  {
   "cell_type": "code",
   "execution_count": 2,
   "metadata": {},
   "outputs": [],
   "source": [
    "from skimage import measure\n",
    "import numpy as np\n",
    "\n",
    "def contour_length(xr_ds, contour, var=None, timemean=True, time_sel=slice(None, None), lon_sel=slice(None, None), lat_sel=slice(None, None), transform=None):\n",
    "\n",
    "    field = xr_ds[var] if var is not None else xr_ds.copy()\n",
    "    \n",
    "    # take the time mean field\n",
    "    if timemean and time_sel != slice(None, None):\n",
    "        field = field.sel(time=time_sel).mean(axis=0)\n",
    "    elif timemean:\n",
    "        field = field.mean(axis=0)\n",
    "    elif not timemean:\n",
    "        pass\n",
    "    elif time_sel != slice(None, None):\n",
    "        field = field.sel(time=time_sel)\n",
    "    else:\n",
    "        raise ValueError('Field can have a maximum number of 2 dimension but got %s', field.ndim)\n",
    "\n",
    "    # select spatial area\n",
    "    ctfield = field.copy()\n",
    "    if lon_sel != slice(None, None):\n",
    "        ctfield = ctfield.sel(longitude=lon_sel)\n",
    "    if lat_sel != slice(None, None):\n",
    "        ctfield = ctfield.sel(latitude=lat_sel)\n",
    "\n",
    "    # find longest contour\n",
    "    contours = measure.find_contours(ctfield, contour)\n",
    "    contour = max(contours, key=lambda x: len(x))\n",
    "\n",
    "    lon_ct, lat_ct = contour[:, 1], contour[:, 0]\n",
    "    lon_ct = np.nanmin(ctfield.longitude) + np.unique(np.diff(ctfield.longitude)) * lon_ct\n",
    "    lat_ct = np.nanmin(ctfield.latitude) + np.unique(np.diff(ctfield.latitude)) * lat_ct\n",
    "\n",
    "    # transform polar coordinates to cartesian coordinates\n",
    "    if transform is not None:\n",
    "        WGS84 = pyproj.Proj('+proj=longlat +ellps=WGS84 +datum=WGS84 +no_defs')\n",
    "        x_ct, y_ct = pyproj.transform(WGS84, transform, lon_ct, lat_ct)\n",
    "    else:\n",
    "        x_ct, y_ct = lon_ct.copy(), lat_ct.copy()\n",
    "\n",
    "    #  calculate contour length in meters\n",
    "    dx, dy = np.diff(x_ct), np.diff(y_ct)\n",
    "    cl = np.sum(np.sqrt(dx**2 + dy**2))\n",
    "\n",
    "    return cl, x_ct, y_ct, field\n"
   ]
  },
  {
   "cell_type": "code",
   "execution_count": 3,
   "metadata": {},
   "outputs": [],
   "source": [
    "import pyproj\n",
    "from scipy.interpolate import griddata, UnivariateSpline\n",
    "from gsw import f, grav\n",
    "\n",
    "from OceanPy.projections import haversine, rotatexy\n",
    "\n",
    "def gradient_balance_from_ssh(xr_ds, coord, \n",
    "                              var=('adt', 'ugos', 'vgos'), fcor=1e-4, gravity=9.81, transform=None, time=None):\n",
    "    \n",
    "    # select which timestep\n",
    "    if time is not None:\n",
    "        xr_ds = xr_ds.sel(time=time)\n",
    "    \n",
    "    # take Absolute Dynamic Topography and geostrophic velocities from SSH xarray\n",
    "    adt = xr_ds.adt if hasattr(xr_ds, var[0]) else xr_ds.copy()\n",
    "    ugos = xr_ds.ugos if hasattr(xr_ds, var[1]) else None\n",
    "    vgos = xr_ds.vgos if hasattr(xr_ds, var[2]) else None\n",
    "    \n",
    "    # check if field dimensions are 2-D\n",
    "    if adt.ndim != 2:\n",
    "        raise ValueError('Field can have a maximum number of 2 dimension but got %s', adt.ndim)\n",
    "\n",
    "    # transform polar in cartesian coordinate system\n",
    "    if transform is not None:\n",
    "        WGS84 = pyproj.Proj('+proj=longlat +ellps=WGS84 +datum=WGS84 +no_defs')\n",
    "        lnln, ltlt = np.meshgrid(xr_ds.longitude.data, xr_ds.latitude.data)\n",
    "        xx, yy = pyproj.transform(WGS84, transform, lnln, ltlt)\n",
    "        x, y = pyproj.transform(WGS84, transform, *coord)\n",
    "    else:\n",
    "        xx, yy = np.meshgrid(xr_ds.longitude.data, xr_ds.latitude.data)\n",
    "        x, y = coord\n",
    "    dx, dy = np.unique(np.diff(xr_ds.longitude))[0], np.unique(np.diff(xr_ds.latitude))[0]      \n",
    "    \n",
    "    # calculate geostrophy parameters\n",
    "    if transform is not None:\n",
    "        fcor = f(coord[1])\n",
    "        gravity = grav(coord[1], p=0)\n",
    "    \n",
    "    # interpolate adt to coordinate location\n",
    "    points = np.array((xx.flatten(), yy.flatten())).T\n",
    "    adt_flat = adt.data.flatten()\n",
    "    adt_coord = griddata(points, adt_flat, (x, y))\n",
    "\n",
    "    # calculate geostrophic velocities at coordinate location    \n",
    "    if ugos is None or vgos is None:\n",
    "        adtx = griddata(points, adt_flat, ([x - (dx / 2), x + (dx / 2)], [y, y]))\n",
    "        adty = griddata(points, adt_flat, ([x, x], [y - (dy / 2), y + (dy / 2)]))\n",
    "    \n",
    "        dzetadx = np.diff(adtx) / dx\n",
    "        dzetady = np.diff(adty) / dy\n",
    "        ug = -(gravity / fcor) * dzetady\n",
    "        vg = (gravity / fcor) * dzetadx\n",
    "    else:\n",
    "        ugos_flat = ugos.data.flatten()\n",
    "        vgos_flat = vgos.data.flatten()\n",
    "        ug = griddata(points, ugos_flat, (x, y))\n",
    "        vg = griddata(points, vgos_flat, (x, y))\n",
    "    # if ug is positive, t is positive in x-direction and n in positive y direction\n",
    "    xpos = True if ug > 0 else False\n",
    "    ypos = True if vg > 0 else False\n",
    "    \n",
    "    # find contour points close to interested data point\n",
    "    def strictly_increasing(L):\n",
    "        return all(i0 < i1 for i0, i1 in zip(L, L[1:]))\n",
    "    def strictly_decreasing(L):\n",
    "        return all(i0 > i1 for i0, i1 in zip(L, L[1:]))\n",
    "    \n",
    "    coords_ct = contour_length(xr_ds=adt, contour=adt_coord, time_sel=time, timemean=False,\n",
    "                               lon_sel=slice(coord[0] - 2*dx, coord[0] + 2*dx),\n",
    "                               lat_sel=slice(coord[1] - 2*dy, coord[1] + 2*dy))[1:3]\n",
    "    if not (strictly_increasing(coords_ct[0]) | strictly_decreasing(coords_ct[0])):\n",
    "        # TODO: if transform: distance\n",
    "        idx = np.argsort(np.sqrt((coords_ct[0] - coord[0])**2 + (coords_ct[1] - coord[1])**2))[0:2]\n",
    "        coords_ct = (np.append(coords_ct[0][idx], coord[0]), np.append(coords_ct[1][idx], coord[1]))\n",
    "    \n",
    "    # determine normal/ tangential resolution\n",
    "    x0 = (xr_ds.longitude.min() + xr_ds.longitude.max()) / 2\n",
    "    y0 = (xr_ds.latitude.min() + xr_ds.latitude.max()) / 2\n",
    "    if transform is not None:\n",
    "        x_ct, y_ct = pyproj.transform(WGS84, transform, *coords_ct)\n",
    "        dn = haversine([x0 - dx / 2, x0 + dx / 2], [y0 - dy / 2, y0 + dy / 2])[0][0]\n",
    "    else:\n",
    "        x_ct, y_ct = coords_ct\n",
    "        dn = np.sqrt(dx**2 + dy**2)\n",
    "\n",
    "    # calculate radius of curvature and orientation angle velocity vector\n",
    "    try: \n",
    "        fx = UnivariateSpline(x_ct, y_ct)\n",
    "    except ValueError:\n",
    "        print('x is not increasing')\n",
    "        x_ct, y_ct = [lst for lst in zip(*sorted(zip(x_ct, y_ct), key=lambda pair: pair[0]))]\n",
    "        try:\n",
    "            fx = UnivariateSpline(x_ct, y_ct)\n",
    "            dydx = fx.derivative(1)(x)\n",
    "            d2ydx2 = fx.derivative(2)(x)\n",
    "        except:\n",
    "            dydx = np.gradient(y_ct)[1] / np.gradient(x_ct)[1]\n",
    "            d2ydx2 = dydx / np.gradient(x_ct)[1]\n",
    "    else:\n",
    "        dydx = fx.derivative(1)(x)\n",
    "        d2ydx2 = fx.derivative(2)(x)\n",
    "    \n",
    "    Rcurv = (1 + dydx**2)**(3 / 2) / d2ydx2\n",
    "    orientation = np.arctan(dydx) if xpos else np.arctan(dydx) + np.pi\n",
    "    print('dydx: ', dydx, 'Rcurv:', Rcurv, 'orientation: ', orientation)\n",
    "    \n",
    "    # determine locations of points normal to interested data point\n",
    "    xi = np.array([x - dn / 2, x + dn / 2])\n",
    "    yi = y * np.ones(len(xi))\n",
    "    ti, ni = zip(*rotatexy(x, y, xi, yi, orientation + (np.pi / 2)))\n",
    "    \n",
    "    # interpolate ssh.adt to normal/ tangential points\n",
    "    adti = griddata(points, adt_flat, (ti, ni))\n",
    "\n",
    "    # geostrophic speed\n",
    "    dDdn = np.diff(adti) / dn\n",
    "    Vg = -(gravity / fcor) * dDdn\n",
    "\n",
    "    # gradient speed\n",
    "    hemisphere = 'SH' if fcor < 0 else 'NH'\n",
    "    root = np.sqrt(((fcor**2 * Rcurv**2) / 4) + (fcor * Rcurv * Vg))\n",
    "    print(hemisphere, 'Vg', Vg, 'first term', -(fcor * Rcurv / 2), 'root', root)\n",
    "    print('plus root', -fcor * Rcurv / 2 + root, 'min root', -fcor * Rcurv / 2 - root)\n",
    "    if hemisphere == 'NH':\n",
    "        \n",
    "        if Rcurv > 0 and Vg > 0:\n",
    "            # regular low\n",
    "            V = -(fcor * Rcurv / 2) + root\n",
    "        elif Rcurv < 0 and Vg > 0:\n",
    "            # regular high\n",
    "            V = -(fcor * Rcurv / 2) - root\n",
    "        else:\n",
    "            V = 5\n",
    "    elif hemisphere == 'SH':\n",
    "        \n",
    "        if Rcurv < 0 and Vg > 0:\n",
    "            # regular low\n",
    "            V = -(fcor * Rcurv / 2) + root\n",
    "        elif Rcurv > 0 and Vg > 0:\n",
    "            # regular high\n",
    "            V = -(fcor * Rcurv / 2) - root\n",
    "#         elif Rcurv < 0 and Vg < 0:\n",
    "#             # anomolous high\n",
    "#             V = -(fcor * Rcurv / 2) + root\n",
    "        else:\n",
    "            V = 5\n",
    "\n",
    "    return coords_ct, ti, ni, ug, vg, Vg, V, orientation"
   ]
  },
  {
   "cell_type": "code",
   "execution_count": 4,
   "metadata": {},
   "outputs": [],
   "source": [
    "# load altimetry data\n",
    "input_file = os.path.join(datadir, 'external', 'ssh', 'rep', 'rep_allsat_phy_l4_135_-60_160_-45_1998.nc')\n",
    "ssh = xr.open_dataset(input_file)\n",
    "\n",
    "UTM54 = pyproj.Proj('+proj=utm +zone=54F +south +ellps=WGS84 +datum=WGS84 +units=m +no_defs')\n",
    "WGS84 = pyproj.Proj('+proj=longlat +ellps=WGS84 +datum=WGS84 +no_defs')\n",
    "\n",
    "# select data range\n",
    "west = 137\n",
    "south = -52.4\n",
    "east = 147\n",
    "north = -48\n",
    "\n",
    "# select time\n",
    "timevoy = slice('1998-03-10', '1998-03-28')\n",
    "it = 11\n",
    "\n",
    "ssh = ssh.sel(longitude=slice(west, east), latitude=slice(south, north), time=timevoy)\n",
    "lnln, ltlt = np.meshgrid(ssh.longitude.data, ssh.latitude.data)\n",
    "xx, yy = pyproj.transform(WGS84, UTM54, lnln, ltlt)\n",
    "\n",
    "# load ctd data\n",
    "input_file_ctd = os.path.join(datadir, 'processed', 'ss9802', 'ctd', 'ss9802_ctd_gsw.nc')\n",
    "ctd = Dataset(input_file_ctd)\n",
    "\n",
    "lon_ctd, lat_ctd = ctd['lon'][2:,0], ctd['lat'][2:][:,0]\n"
   ]
  },
  {
   "cell_type": "code",
   "execution_count": 5,
   "metadata": {},
   "outputs": [
    {
     "name": "stdout",
     "output_type": "stream",
     "text": [
      "dydx:  -0.017064048962857493 Rcurv: 2493.8658752978145 orientation:  -0.01706239300551552\n",
      "SH Vg [0.13443471] first term 0.13804156108876725 root [nan]\n",
      "plus root [nan] min root [nan]\n"
     ]
    },
    {
     "name": "stderr",
     "output_type": "stream",
     "text": [
      "/home/janjaapmeijer/miniconda3/envs/ocean36/lib/python3.6/site-packages/ipykernel_launcher.py:121: RuntimeWarning: invalid value encountered in sqrt\n"
     ]
    }
   ],
   "source": [
    "ic = 45 #7 83 88 88:positive R, 83:negative R\n",
    "coords = (lon_ctd[ic], lat_ctd[ic])\n",
    "# coords = (144.1, -48.45)#(146.3, -50.4)#(146, -50.5) \n",
    "\n",
    "coords_ct, ti, ni, ugos, vgos, Vg, V, theta = gradient_balance_from_ssh(ssh, coords, time=ssh.time[it], transform=UTM54)\n",
    "\n",
    "ug = Vg * np.cos(theta)\n",
    "vg = Vg * np.sin(theta)\n",
    "\n",
    "ugr = V * np.cos(theta)\n",
    "vgr = V * np.sin(theta)\n"
   ]
  },
  {
   "cell_type": "code",
   "execution_count": 6,
   "metadata": {
    "scrolled": false
   },
   "outputs": [
    {
     "data": {
      "text/plain": [
       "<IPython.core.display.Javascript object>"
      ]
     },
     "metadata": {},
     "output_type": "display_data"
    },
    {
     "data": {
      "text/html": [
       "<img src=\"data:image/png;base64,iVBORw0KGgoAAAANSUhEUgAAAyAAAAJYCAYAAACadoJwAAAHXElEQVR4nO3BMQEAAADCoPVPbQZ/oAAAAAAAAAAAAAAAAAAAAAAAAAAAAAAAAAAAAAAAAAAAAAAAAAAAAAAAAAAAAAAAAAAAAAAAAAAAAAAAAAAAAAAAAAAAAAAAAAAAAAAAAAAAAAAAAAAAAAAAAAAAAAAAAAAAAAAAAAAAAAAAAAAAAAAAAAAAAAAAAAAAAAAAAAAAAAAAAAAAAAAAAAAAAAAAAAAAAAAAAAAAAAAAAAAAAAAAAAAAAAAAAAAAAAAAAAAAAAAAAAAAAAAAAAAAAAAAAAAAAAAAAAAAAAAAAAAAAAAAAAAAAAAAAAAAAAAAAAAAAAAAAAAAAAAAAAAAAAAAAAAAAAAAAAAAAAAAAAAAAAAAAAAAAAAAAAAAAAAAAAAAAAAAAAAAAAAAAAAAAAAAAAAAAAAAAAAAAAAAAAAAAAAAAAAAAAAAAAAAAAAAAAAAAAAAAAAAAAAAAAAAAAAAAAAAAAAAAAAAAAAAAAAAAAAAAAAAAAAAAAAAAAAAAAAAAAAAAAAAAAAAAAAAAAAAAAAAAAAAAAAAAAAAAAAAAAAAAAAAAAAAAAAAAAAAAAAAAAAAAAAAAAAAAAAAAAAAAAAAAAAAAAAAAAAAAAAAAAAAAAAAAAAAAAAAAAAAAAAAAAAAAAAAAAAAAAAAAAAAAAAAAAAAAAAAAAAAAAAAAAAAAAAAAAAAAAAAAAAAAAAAAAAAAAAAAAAAAAAAAAAAAAAAAAAAAAAAAAAAAAAAAAAAAAAAAAAAAAAAAAAAAAAAAAAAAAAAAAAAAAAAAAAAAAAAAAAAAAAAAAAAAAAAAAAAAAAAAAAAAAAAAAAAAAAAAAAAAAAAAAAAAAAAAAAAAAAAAAAAAAAAAAAAAAAAAAAAAAAAAAAAAAAAAAAAAAAAAAAAAAAAAAAAAAAAAAAAAAAAAAAAAAAAAAAAAAAAAAAAAAAAAAAAAAAAAAAAAAAAAAAAAAAAAAAAAAAAAAAAAAAAAAAAAAAAAAAAAAAAAAAAAAAAAAAAAAAAAAAAAAAAAAAAAAAAAAAAAAAAAAAAAAAAAAAAAAAAAAAAAAAAAAAAAAAAAAAAAAAAAAAAAAAAAAAAAAAAAAAAAAAAAAAAAAAAAAAAAAAAAAAAAAAAAAAAAAAAAAAAAAAAAAAAAAAAAAAAAAAAAAAAAAAAAAAAAAAAAAAAAAAAAAAAAAAAAAAAAAAAAAAAAAAAAAAAAAAAAAAAAAAAAAAAAAAAAAAAAAAAAAAAAAAAAAAAAAAAAAAAAAAAAAAAAAAAAAAAAAAAAAAAAAAAAAAAAAAAAAAAAAAAAAAAAAAAAAAAAAAAAAAAAAAAAAAAAAAAAAAAAAAAAAAAAAAAAAAAAAAAAAAAAAAAAAAAAAAAAAAAAAAAAAAAAAAAAAAAAAAAAAAAAAAAAAAAAAAAAAAAAAAAAAAAAAAAAAAAAAAAAAAAAAAAAAAAAAAAAAAAAAAAAAAAAAAAAAAAAAAAAAAAAAAAAAAAAAAAAAAAAAAAAAAAAAAAAAAAAAAAAAAAAAAAAAAAAAAAAAAAAAAAAAAAAAAAAAAAAAAAAAAAAAAAAAAAAAAAAAAAAAAAAAAAAAAAAAAAAAAAAAAAAAAAAAAAAAAAAAAAAAAAAAAAAAAAAAAAAAAAAAAAAAAAAAAAAAAAAAAAAAAAAAAAAAAAAAAAAAAAAAAAAAAAAAAAAAAAAAAAAAAAAAAAAAAAAAAAAAAAAAAAAAAAAAAAAAAAAAAAAAAAAAAAAAAAAAAAAAAAAAAAAAAAAAAAAAAAAAAAAAAAAAAAAAAAAAAAAAAAAAAAAAAAAAAAAAAAAAAAAAAAAAAAAAAAAAAAAAAAAAAAAAAAAAAAAAAAAAAAAAAAAAAAAAAAAAAAAAAAAAAAAAAAAAAAAAAAAAAAAAAAAAAAAAAAAAAAAAAAAAAAAAAAAAAAAAAAAAAAAAAAAAAAAAAAAAAAAAAAAAAAAAAAAAAAAAAAAAAAAAAAAAAAAAAAAAAAAAAAAAAAAAAAAAAAAAAAAAAAAAAAAAAAAAAAAAAAAAAAAAAAAAAAAAAAAAAAAAAAAAAAAAAAAAAAAAAAAAAAAAAAAAAAAAAAAAAAAAAAAAAAAAAAAAAAAAAAAAAAAAAAAAAAAAAAAAAAAAAAAAAAAAAAAAAAAAAAAAAAAAAAAAAAAAAAAAAAAAAAAAAAAAAAAAAAAAAAAAAAAAAAAAAAAAAAAAAAAAAAAAAAAAAAAAAAAAAAAAAAAAAAAAAAAAAAAAAAAAAAAAAAAAAAAAAAAAAAAAAAAAAAAAAAAAAAAAAAAAAAAAAAAAAAAAAAAAAAAAAAAAAAAAAAAAAAAAAAAAAAAAAAAAAAAAAAAAAAAAAAAAAAAAAAAAAAAAAAAAAAAAAAAAAAAAAAAAAAAAAAAAAAAAAAAAAAAAAAAAAAAAAAAAAAAAAAAAAAAAAAAAAAAAAAAAAAAAAAAAAAAAAAAAAAAAAAAAAAAAAAAAAAAAAAAAAAAAAAAAAAAAA+A1ALAAFujETzAAAAAElFTkSuQmCC\" width=\"800\">"
      ],
      "text/plain": [
       "<IPython.core.display.HTML object>"
      ]
     },
     "metadata": {},
     "output_type": "execute_result"
    }
   ],
   "source": [
    "%matplotlib notebook\n",
    "fig, ax = plt.subplots(figsize=(8, 6))\n",
    "# ax.scatter(*coord)\n",
    "\n",
    "ax.scatter(*pyproj.transform(WGS84, UTM54, lon_ctd, lat_ctd))\n",
    "ax.scatter(*pyproj.transform(WGS84, UTM54, *coords_ct), facecolors='orange')\n",
    "ax.scatter(ti, ni, facecolors='green')\n",
    "ax.scatter(ti[1], ni[1], facecolors='purple')\n",
    "ax.quiver(xx, yy, ssh.ugos.sel(time=ssh.time[it]), ssh.vgos.sel(time=ssh.time[it]), \n",
    "          units='inches', scale=1, width=1e-3*fig.get_size_inches()[0], color='k')\n",
    "ax.quiver(*pyproj.transform(WGS84, UTM54, *coords), ugos, vgos, \n",
    "          units='inches', scale=1, width=2e-3*fig.get_size_inches()[0], color='r')\n",
    "ax.quiver(*pyproj.transform(WGS84, UTM54, *coords), ugr, vgr, \n",
    "          units='inches', scale=1, width=1e-3*fig.get_size_inches()[0], color='b')\n",
    "\n",
    "# ax.contour(lnln, ltlt, ssh.adt.sel(time=ssh.time[it]), [-0.15, 0, 0.15, 0.3, 0.45], colors='k')\n",
    "ax.contour(xx, yy, ssh.adt.sel(time=ssh.time[it]), [-0.15, 0, 0.15, 0.3, 0.45], colors='k')\n",
    "ax.axis('equal')\n",
    "\n",
    "fig.show()"
   ]
  },
  {
   "cell_type": "code",
   "execution_count": 7,
   "metadata": {},
   "outputs": [
    {
     "name": "stdout",
     "output_type": "stream",
     "text": [
      "dydx:  -0.519384387281186 Rcurv: 87417.86823775485 orientation:  -0.4790345880935533\n",
      "SH Vg [0.45274168] first term 5.006055885196099 root [4.53074996]\n",
      "plus root [9.53680585] min root [0.47530592]\n",
      "dydx:  -0.5297106851824211 Rcurv: 117671.62756546526 orientation:  -0.4871326840795119\n",
      "SH Vg [0.43412495] first term 6.7202411436727525 root [6.27110774]\n",
      "plus root [12.99134888] min root [0.4491334]\n",
      "dydx:  -0.4756733035517134 Rcurv: -157628.4968144695 orientation:  -0.4439975483202076\n",
      "SH Vg [0.45499531] first term -8.977973769806406 root [9.42198943]\n",
      "plus root [0.44401566] min root [-18.3999632]\n",
      "dydx:  -0.47048992400573664 Rcurv: 761187.2876209058 orientation:  -0.4397620926217939\n",
      "SH Vg [0.49068747] first term 43.23060714606905 root [42.73710285]\n",
      "plus root [85.96770999] min root [0.4935043]\n",
      "dydx:  -0.39443105439869947 Rcurv: 77804.52641906281 orientation:  -0.37569636216606817\n",
      "SH Vg [0.49538382] first term 4.405938361545914 root [3.87905036]\n",
      "plus root [8.28498872] min root [0.526888]\n",
      "dydx:  -0.41889100916709404 Rcurv: 89607.24018982793 orientation:  -0.3966849196379708\n",
      "SH Vg [0.43546519] first term 5.0598088332900435 root [4.60379455]\n",
      "plus root [9.66360338] min root [0.45601429]\n",
      "dydx:  -0.6371579165274831 Rcurv: 316990.8461344386 orientation:  -0.5672943547355266\n",
      "SH Vg [0.29818092] first term 17.848501984162695 root [17.54778782]\n",
      "plus root [35.39628981] min root [0.30071416]\n",
      "dydx:  -0.6540764527759637 Rcurv: 35295.272197305756 orientation:  -0.579235580927269\n",
      "SH Vg [0.19154724] first term 1.9813918477102326 root [1.7795655]\n",
      "plus root [3.76095735] min root [0.20182634]\n",
      "dydx:  -2.39368151232709 Rcurv: 56257.315096234175 orientation:  -1.175068418391659\n",
      "SH Vg [0.32840828] first term 3.1588437321231875 root [2.81131871]\n",
      "plus root [5.97016244] min root [0.34752503]\n",
      "dydx:  -1.228982616182041 Rcurv: -892611.4797521693 orientation:  -0.88776870825694\n",
      "SH Vg [0.43832052] first term -50.26135272809703 root [50.69777848]\n",
      "plus root [0.43642575] min root [-100.95913121]\n"
     ]
    },
    {
     "name": "stderr",
     "output_type": "stream",
     "text": [
      "/home/janjaapmeijer/miniconda3/envs/ocean36/lib/python3.6/site-packages/scipy/interpolate/fitpack2.py:227: UserWarning: \n",
      "The maximal number of iterations maxit (set to 20 by the program)\n",
      "allowed for finding a smoothing spline with fp=s has been reached: s\n",
      "too small.\n",
      "There is an approximation returned but the corresponding weighted sum\n",
      "of squared residuals does not satisfy the condition abs(fp-s)/s < tol.\n",
      "  warnings.warn(message)\n"
     ]
    },
    {
     "name": "stdout",
     "output_type": "stream",
     "text": [
      "dydx:  -0.788300500707116 Rcurv: 293080.56390880287 orientation:  -0.6675662772630621\n",
      "SH Vg [0.51019992] first term 16.569320370537117 root [16.05101386]\n",
      "plus root [32.62033423] min root [0.51830652]\n",
      "dydx:  -0.6638047841169151 Rcurv: 393381.09774101083 orientation:  -0.5860186823435695\n",
      "SH Vg [0.49229658] first term 22.29179484229342 root [21.7939388]\n",
      "plus root [44.08573365] min root [0.49785604]\n",
      "dydx:  -0.5154885298679536 Rcurv: 234333.49452692337 orientation:  -0.47596151687373156\n",
      "SH Vg [0.48507921] first term 13.30824937935713 root [12.81399201]\n",
      "plus root [26.12224139] min root [0.49425737]\n",
      "dydx:  -0.49874317507728005 Rcurv: -780051.8425818931 orientation:  -0.4626416436728758\n",
      "SH Vg [0.49044826] first term -44.42150827359078 root [44.90927855]\n",
      "plus root [0.48777028] min root [-89.33078682]\n",
      "dydx:  -0.5835071987187784 Rcurv: -120949.31687005729 orientation:  -0.5282041620063428\n",
      "SH Vg [0.49992383] first term -6.9071910868843895 root [7.39022513]\n",
      "plus root [0.48303405] min root [-14.29741622]\n"
     ]
    },
    {
     "name": "stderr",
     "output_type": "stream",
     "text": [
      "/home/janjaapmeijer/miniconda3/envs/ocean36/lib/python3.6/site-packages/scipy/interpolate/fitpack2.py:227: UserWarning: \n",
      "The maximal number of iterations maxit (set to 20 by the program)\n",
      "allowed for finding a smoothing spline with fp=s has been reached: s\n",
      "too small.\n",
      "There is an approximation returned but the corresponding weighted sum\n",
      "of squared residuals does not satisfy the condition abs(fp-s)/s < tol.\n",
      "  warnings.warn(message)\n"
     ]
    },
    {
     "name": "stdout",
     "output_type": "stream",
     "text": [
      "dydx:  -0.6670378774068275 Rcurv: -147092.86713846572 orientation:  -0.5882595515703928\n",
      "SH Vg [0.49531915] first term -8.423818951796253 root [8.90537385]\n",
      "plus root [0.4815549] min root [-17.3291928]\n",
      "dydx:  -0.002768507164053885 Rcurv: -110929.75659475684 orientation:  -0.0027685000908902885\n",
      "SH Vg [0.35600638] first term -6.332621511033254 root [6.67914684]\n",
      "plus root [0.34652533] min root [-13.01176836]\n",
      "dydx:  -0.30323572194899173 Rcurv: -178040.78532361297 orientation:  -0.29442269668957605\n",
      "SH Vg [0.38085334] first term -10.132304311069456 root [10.50625693]\n",
      "plus root [0.37395261] min root [-20.63856124]\n",
      "dydx:  -0.5368771427218695 Rcurv: -115748.8662217505 orientation:  -0.4927122865604881\n",
      "SH Vg [0.39110828] first term -6.570210684663497 root [6.95032345]\n",
      "plus root [0.38011276] min root [-13.52053413]\n",
      "dydx:  -0.5542249981573572 Rcurv: -232528.21052272434 orientation:  -0.5060811834088278\n",
      "SH Vg [0.39181452] first term -13.16488090928087 root [13.55103215]\n",
      "plus root [0.38615124] min root [-26.71591306]\n",
      "dydx:  -0.6211411951275994 Rcurv: -430020.97342007275 orientation:  -0.555819630779739\n",
      "SH Vg [0.41614529] first term -24.285595895205695 root [24.69823558]\n",
      "plus root [0.41263968] min root [-48.98383147]\n",
      "dydx:  -0.9025398017249678 Rcurv: 185654.665916967 orientation:  -0.7342165363902671\n",
      "SH Vg [0.40463704] first term 10.456383853809497 root [10.0435991]\n",
      "plus root [20.49998296] min root [0.41278475]\n",
      "dydx:  -1.2209618079601128 Rcurv: 28966.296833863915 orientation:  -0.8845610898909427\n",
      "SH Vg [0.35192138] first term 1.6267334709099914 root [1.22527434]\n",
      "plus root [2.85200782] min root [0.40145913]\n",
      "dydx:  -1.6752457854979723 Rcurv: -81018.39504890218 orientation:  -1.0326392029890477\n",
      "SH Vg [0.28013351] first term -4.537575954286187 root [4.80955816]\n",
      "plus root [0.27198221] min root [-9.34713412]\n"
     ]
    },
    {
     "name": "stderr",
     "output_type": "stream",
     "text": [
      "/home/janjaapmeijer/miniconda3/envs/ocean36/lib/python3.6/site-packages/scipy/interpolate/fitpack2.py:227: UserWarning: \n",
      "The maximal number of iterations maxit (set to 20 by the program)\n",
      "allowed for finding a smoothing spline with fp=s has been reached: s\n",
      "too small.\n",
      "There is an approximation returned but the corresponding weighted sum\n",
      "of squared residuals does not satisfy the condition abs(fp-s)/s < tol.\n",
      "  warnings.warn(message)\n",
      "/home/janjaapmeijer/miniconda3/envs/ocean36/lib/python3.6/site-packages/scipy/interpolate/fitpack2.py:227: UserWarning: \n",
      "The maximal number of iterations maxit (set to 20 by the program)\n",
      "allowed for finding a smoothing spline with fp=s has been reached: s\n",
      "too small.\n",
      "There is an approximation returned but the corresponding weighted sum\n",
      "of squared residuals does not satisfy the condition abs(fp-s)/s < tol.\n",
      "  warnings.warn(message)\n",
      "/home/janjaapmeijer/miniconda3/envs/ocean36/lib/python3.6/site-packages/scipy/interpolate/fitpack2.py:227: UserWarning: \n",
      "The maximal number of iterations maxit (set to 20 by the program)\n",
      "allowed for finding a smoothing spline with fp=s has been reached: s\n",
      "too small.\n",
      "There is an approximation returned but the corresponding weighted sum\n",
      "of squared residuals does not satisfy the condition abs(fp-s)/s < tol.\n",
      "  warnings.warn(message)\n"
     ]
    },
    {
     "name": "stdout",
     "output_type": "stream",
     "text": [
      "dydx:  -3.8213781376752025 Rcurv: -126324.57167279115 orientation:  -1.3148499585045088\n",
      "SH Vg [0.2236578] first term -7.05140942220838 root [7.27162844]\n",
      "plus root [0.22021902] min root [-14.32303787]\n",
      "dydx:  -2.478490370810601 Rcurv: 152304.0342389088 orientation:  -1.18730094331299\n",
      "SH Vg [0.25082798] first term 8.517583332188087 root [8.26294919]\n",
      "plus root [16.78053252] min root [0.25463414]\n",
      "dydx:  -1.441197490328059 Rcurv: 289246.3416806955 orientation:  -0.9641980494008238\n",
      "SH Vg [0.32574601] first term 16.21721328631764 root [15.88812832]\n",
      "plus root [32.10534161] min root [0.32908496]\n",
      "dydx:  -1.0947215385187379 Rcurv: 140690.93647503492 orientation:  -0.8305865354811923\n",
      "SH Vg [0.36882998] first term 7.906216452312347 root [7.52835701]\n",
      "plus root [15.43457346] min root [0.37785944]\n",
      "dydx:  -1.0363020152271296 Rcurv: 84277.75953784281 orientation:  -0.8032236970805767\n",
      "SH Vg [0.35329307] first term 4.747925698727521 root [4.38040865]\n",
      "plus root [9.12833435] min root [0.36751705]\n",
      "dydx:  -0.8112754596205913 Rcurv: 86592.96859782645 orientation:  -0.6815785071942775\n",
      "SH Vg [0.33786936] first term 4.8900099419225365 root [4.53958458]\n",
      "plus root [9.42959452] min root [0.35042536]\n"
     ]
    },
    {
     "name": "stderr",
     "output_type": "stream",
     "text": [
      "/home/janjaapmeijer/miniconda3/envs/ocean36/lib/python3.6/site-packages/scipy/interpolate/fitpack2.py:227: UserWarning: \n",
      "The maximal number of iterations maxit (set to 20 by the program)\n",
      "allowed for finding a smoothing spline with fp=s has been reached: s\n",
      "too small.\n",
      "There is an approximation returned but the corresponding weighted sum\n",
      "of squared residuals does not satisfy the condition abs(fp-s)/s < tol.\n",
      "  warnings.warn(message)\n",
      "/home/janjaapmeijer/miniconda3/envs/ocean36/lib/python3.6/site-packages/scipy/interpolate/fitpack2.py:227: UserWarning: \n",
      "The maximal number of iterations maxit (set to 20 by the program)\n",
      "allowed for finding a smoothing spline with fp=s has been reached: s\n",
      "too small.\n",
      "There is an approximation returned but the corresponding weighted sum\n",
      "of squared residuals does not satisfy the condition abs(fp-s)/s < tol.\n",
      "  warnings.warn(message)\n"
     ]
    },
    {
     "name": "stdout",
     "output_type": "stream",
     "text": [
      "dydx:  -0.7414624230057036 Rcurv: 92632.69490860726 orientation:  -0.6380146305517024\n",
      "SH Vg [0.29564494] first term 5.243725159309979 root [4.93924002]\n",
      "plus root [10.18296517] min root [0.30448514]\n",
      "dydx:  -0.7406291774087388 Rcurv: 27574.98709024206 orientation:  -0.6374767573867652\n",
      "SH Vg [0.25375748] first term 1.564494375321284 root [1.28593871]\n",
      "plus root [2.85043308] min root [0.27855567]\n",
      "dydx:  -0.6069959046673638 Rcurv: 58233.99990215556 orientation:  -0.5455476749822793\n",
      "SH Vg [0.2100179] first term 3.311547769595556 root [3.09441109]\n",
      "plus root [6.40595886] min root [0.21713668]\n",
      "dydx:  -0.9258031906613283 Rcurv: -33920.3402857061 orientation:  -0.746889488086243\n",
      "SH Vg [0.19148576] first term -1.9200440822595437 root [2.1028294]\n",
      "plus root [0.18278532] min root [-4.02287348]\n",
      "dydx:  -0.31138676459099773 Rcurv: -49644.24339990261 orientation:  -0.3018703540746503\n",
      "SH Vg [0.13088766] first term -2.8047561615947916 root [2.93272451]\n",
      "plus root [0.12796835] min root [-5.73748068]\n",
      "dydx:  -0.6592776316067496 Rcurv: 36916.744893878364 orientation:  -0.582869657655144\n",
      "SH Vg [0.18359265] first term 2.0818767246757828 root [1.88938513]\n",
      "plus root [3.97126185] min root [0.1924916]\n",
      "dydx:  -1.8553449942991145 Rcurv: 116259.52310056104 orientation:  -1.0764505476079191\n",
      "SH Vg [0.26143803] first term 6.543292767521389 root [6.27641212]\n",
      "plus root [12.81970489] min root [0.26688064]\n",
      "dydx:  -2.230128470650756 Rcurv: 140034.7047418013 orientation:  -1.1492698779608788\n",
      "SH Vg [0.34823232] first term 7.8661579705532905 root [7.50985622]\n",
      "plus root [15.37601419] min root [0.35630175]\n",
      "dydx:  -1.9915369337913418 Rcurv: 169483.962459537 orientation:  -1.105450356843298\n",
      "SH Vg [0.3696207] first term 9.50245790109715 root [9.12535456]\n",
      "plus root [18.62781246] min root [0.37710334]\n",
      "dydx:  -2.267222984998717 Rcurv: 142308.7872707403 orientation:  -1.1553948506320744\n",
      "SH Vg [0.34854852] first term 7.9634219372220265 root [7.60689234]\n",
      "plus root [15.57031428] min root [0.3565296]\n",
      "dydx:  -2.462134150132348 Rcurv: 1202684.6284926299 orientation:  -1.1849980249285152\n",
      "SH Vg [0.29839527] first term 67.17165951774491 root [66.87259851]\n",
      "plus root [134.04425802] min root [0.29906101]\n",
      "dydx:  -2.001595418288913 Rcurv: -79568.55748058722 orientation:  -1.1074675979421698\n",
      "SH Vg [0.23742826] first term -4.434856705009921 root [4.66624845]\n",
      "plus root [0.23139174] min root [-9.10110515]\n",
      "dydx:  -2.0070829478689394 Rcurv: -77609.3798041106 orientation:  -1.1085613043149818\n",
      "SH Vg [0.20002313] first term -4.318305090188669 root [4.51389861]\n",
      "plus root [0.19559352] min root [-8.8322037]\n",
      "dydx:  -7.30977351461211 Rcurv: 407608.2867101922 orientation:  -1.4348371538813103\n",
      "SH Vg [0.23512401] first term 22.646943455210756 root [22.41058606]\n",
      "plus root [45.05752951] min root [0.2363574]\n",
      "dydx:  1.8964294398241606 Rcurv: -2123.349713034749 orientation:  1.0855427314607333\n",
      "SH Vg [-0.03269648] first term -0.11739231124767027 root [0.07813017]\n",
      "plus root [-0.03926214] min root [-0.19552248]\n"
     ]
    },
    {
     "name": "stderr",
     "output_type": "stream",
     "text": [
      "/home/janjaapmeijer/miniconda3/envs/ocean36/lib/python3.6/site-packages/scipy/interpolate/fitpack2.py:227: UserWarning: \n",
      "The maximal number of iterations maxit (set to 20 by the program)\n",
      "allowed for finding a smoothing spline with fp=s has been reached: s\n",
      "too small.\n",
      "There is an approximation returned but the corresponding weighted sum\n",
      "of squared residuals does not satisfy the condition abs(fp-s)/s < tol.\n",
      "  warnings.warn(message)\n"
     ]
    },
    {
     "name": "stdout",
     "output_type": "stream",
     "text": [
      "dydx:  -0.017064048962857493 Rcurv: 2493.8658752978145 orientation:  -0.01706239300551552\n",
      "SH Vg [0.13443471] first term 0.13804156108876725 root [nan]\n",
      "plus root [nan] min root [nan]\n",
      "dydx:  -0.6318154141482566 Rcurv: 34062.75732492268 orientation:  -0.5634852820742654\n",
      "SH Vg [0.21889159] first term 1.8878583568226486 root [1.65455025]\n",
      "plus root [3.5424086] min root [0.23330811]\n",
      "dydx:  -0.847996312632118 Rcurv: 60166.079409882266 orientation:  -0.7033296697095252\n",
      "SH Vg [0.28107348] first term 3.3389233647258356 root [3.04490453]\n",
      "plus root [6.3838279] min root [0.29401883]\n",
      "dydx:  -1.7054625372011423 Rcurv: -193688.26669826952 orientation:  -1.040473165545253\n",
      "SH Vg [0.32574661] first term -10.761003290859797 root [11.08196338]\n",
      "plus root [0.32096009] min root [-21.84296667]\n",
      "dydx:  -1.5244388326721423 Rcurv: -840247.8863095442 orientation:  -0.9902293555590695\n"
     ]
    },
    {
     "name": "stderr",
     "output_type": "stream",
     "text": [
      "/home/janjaapmeijer/miniconda3/envs/ocean36/lib/python3.6/site-packages/ipykernel_launcher.py:121: RuntimeWarning: invalid value encountered in sqrt\n"
     ]
    },
    {
     "name": "stdout",
     "output_type": "stream",
     "text": [
      "SH Vg [0.34616505] first term -46.74335028840985 root [47.08824296]\n",
      "plus root [0.34489267] min root [-93.83159325]\n",
      "dydx:  -1.2420671824226897 Rcurv: -94630.49732271522 orientation:  -0.892947634892232\n",
      "SH Vg [0.36855879] first term -5.27066277391788 root [5.62716485]\n",
      "plus root [0.35650208] min root [-10.89782763]\n",
      "dydx:  -1.1749778033272988 Rcurv: -49285.99589236246 orientation:  -0.8656756546937469\n",
      "SH Vg [0.31285805] first term -2.750749822033148 root [3.04759135]\n",
      "plus root [0.29684153] min root [-5.79834117]\n",
      "dydx:  -0.8763869616296547 Rcurv: -40048.96499022363 orientation:  -0.719614995688325\n",
      "SH Vg [0.23299784] first term -2.239749520093008 root [2.46174562]\n",
      "plus root [0.2219961] min root [-4.70149514]\n",
      "dydx:  -1.090732659431773 Rcurv: -118844.87051124139 orientation:  -0.8287684924304298\n",
      "SH Vg [0.1311631] first term -6.661147576898065 root [6.79104415]\n",
      "plus root [0.12989657] min root [-13.45219172]\n",
      "dydx:  -0.8377996326073148 Rcurv: 204569.78520052094 orientation:  -0.6973683418249513\n",
      "SH Vg [0.07910129] first term 11.490091303263934 root [11.41071584]\n",
      "plus root [22.90080715] min root [0.07937546]\n",
      "dydx:  -0.9936081639626405 Rcurv: -51697.390761888964 orientation:  -0.7821920097252136\n",
      "SH Vg [0.13883031] first term -2.894945374404703 root [3.03059748]\n",
      "plus root [0.1356521] min root [-5.92554285]\n",
      "dydx:  -0.46022358955244635 Rcurv: -130913.1906645353 orientation:  -0.43132326578587127\n",
      "SH Vg [0.23201735] first term -7.311689250340888 root [7.54013775]\n",
      "plus root [0.2284485] min root [-14.851827]\n",
      "dydx:  -0.31687464410302313 Rcurv: -96222.56409009061 orientation:  -0.3068653307494379\n",
      "SH Vg [0.32010944] first term -5.357966502592784 root [5.66904545]\n",
      "plus root [0.31107895] min root [-11.02701196]\n",
      "dydx:  -0.20355456451559525 Rcurv: -86729.01454868838 orientation:  -0.20081106231978244\n",
      "SH Vg [0.38386387] first term -4.815171809981037 root [5.18484527]\n",
      "plus root [0.36967346] min root [-10.00001708]\n",
      "dydx:  -0.08926261880416086 Rcurv: -106358.02478842995 orientation:  -0.0890266697656872\n",
      "SH Vg [0.41622031] first term -5.887249320530301 root [6.28971304]\n",
      "plus root [0.40246372] min root [-12.17696236]\n",
      "dydx:  -0.03157093972103166 Rcurv: -187824.7358817483 orientation:  -0.03156045681587809\n",
      "SH Vg [0.41226075] first term -10.36599488889901 root [10.77036841]\n",
      "plus root [0.40437352] min root [-21.1363633]\n",
      "dydx:  -0.01283323402843066 Rcurv: -226870.4349756147 orientation:  -0.012832529588158984\n",
      "SH Vg [0.34580015] first term -12.482527291807507 root [12.8236659]\n",
      "plus root [0.34113861] min root [-25.3061932]\n",
      "dydx:  0.05021438661995006 Rcurv: -113427.65394143427 orientation:  0.050172245422048754\n",
      "SH Vg [0.23310386] first term -6.221829983613234 root [6.45072349]\n",
      "plus root [0.22889351] min root [-12.67255347]\n",
      "dydx:  -0.6378596987418939 Rcurv: -637472.1814216123 orientation:  -0.5677933404404663\n",
      "SH Vg [0.33685944] first term -35.17970088906995 root [35.51496281]\n",
      "plus root [0.33526192] min root [-70.6946637]\n",
      "dydx:  -0.7155598644825114 Rcurv: -60825.04367229289 orientation:  -0.6210926716958439\n",
      "SH Vg [0.36800997] first term -3.3694252374752516 root [3.71927285]\n",
      "plus root [0.34984762] min root [-7.08869809]\n",
      "dydx:  -0.613955033343218 Rcurv: -44536.83663139391 orientation:  -0.5506174136854743\n",
      "SH Vg [0.36192016] first term -2.4754886186342056 root [2.81423211]\n",
      "plus root [0.33874349] min root [-5.28972073]\n",
      "dydx:  -0.812637505016272 Rcurv: -35590.53659457372 orientation:  -0.6823993758519687\n",
      "SH Vg [0.10966038] first term -1.9930823881141588 root [2.09988137]\n",
      "plus root [0.10679898] min root [-4.09296376]\n",
      "dydx:  -0.2708491478585822 Rcurv: -107911.89918213425 orientation:  -0.26450311628185463\n",
      "SH Vg [0.22780265] first term -6.025282774678895 root [6.24893457]\n",
      "plus root [0.2236518] min root [-12.27421735]\n",
      "dydx:  -0.08613517755464194 Rcurv: -130597.53218361492 orientation:  -0.08592310081760142\n",
      "SH Vg [0.36017992] first term -7.269976623981583 root [7.6216507]\n",
      "plus root [0.35167407] min root [-14.89162732]\n",
      "dydx:  -0.028374656806412903 Rcurv: -165514.45391326185 orientation:  -0.028367045470807383\n",
      "SH Vg [0.43906897] first term -9.187042784739955 root [9.61609308]\n",
      "plus root [0.42905029] min root [-18.80313586]\n",
      "dydx:  -0.060893172522612386 Rcurv: -128101.22473508606 orientation:  -0.06081807600169246\n",
      "SH Vg [0.43419593] first term -7.089176126728832 root [7.51083225]\n",
      "plus root [0.42165612] min root [-14.60000837]\n",
      "dydx:  -0.12785241737486425 Rcurv: -163783.20879232525 orientation:  -0.12716253556385865\n",
      "SH Vg [0.36549418] first term -9.036424306906037 root [9.39481162]\n",
      "plus root [0.35838731] min root [-18.43123592]\n",
      "dydx:  -0.2175285066875723 Rcurv: -93723.7386172755 orientation:  -0.21419169073032726\n",
      "SH Vg [0.28903717] first term -5.155436120766266 root [5.43679565]\n",
      "plus root [0.28135953] min root [-10.59223177]\n",
      "dydx:  -0.3144926063496316 Rcurv: -39439.027362784174 orientation:  -0.3046991653551451\n",
      "SH Vg [0.21275505] first term -2.1628412113170037 root [2.36605006]\n",
      "plus root [0.20320884] min root [-4.52889127]\n",
      "dydx:  0.8748824886376376 Rcurv: -1179928.1021680553 orientation:  0.7187634406377258\n",
      "SH Vg [0.1935233] first term -64.7052573425086 root [64.8984921]\n",
      "plus root [0.19323476] min root [-129.60374945]\n",
      "dydx:  0.7106118822246454 Rcurv: 505522.62492308364 orientation:  0.6178125837993685\n",
      "SH Vg [0.31560042] first term 27.807428106186 root [27.49001612]\n",
      "plus root [55.29744422] min root [0.31741199]\n",
      "dydx:  0.5928454946941331 Rcurv: -325505.15095615474 orientation:  0.5351422262559129\n",
      "SH Vg [0.41294748] first term -17.962101521971142 root [18.37040827]\n",
      "plus root [0.40830675] min root [-36.3325098]\n",
      "dydx:  0.5413728692464852 Rcurv: 95826.2660650997 orientation:  0.49619557469964337\n",
      "SH Vg [0.4702351] first term 5.3032782655620165 root [4.81011281]\n",
      "plus root [10.11339107] min root [0.49316546]\n",
      "dydx:  0.3816886732442031 Rcurv: -280603.73262751923 orientation:  0.3646217789664593\n",
      "SH Vg [0.50305748] first term -15.574491694282326 root [16.06967705]\n",
      "plus root [0.49518536] min root [-31.64416875]\n",
      "dydx:  0.22363446556449093 Rcurv: -175220.90956286725 orientation:  0.22001432753973071\n",
      "SH Vg [0.4439284] first term -9.754219053469978 root [10.18848071]\n",
      "plus root [0.43426165] min root [-19.94269976]\n",
      "dydx:  0.06184152404871418 Rcurv: -88637.67724305518 orientation:  0.06176286941194726\n",
      "SH Vg [0.2643634] first term -4.949114293664034 root [5.20677075]\n",
      "plus root [0.25765646] min root [-10.15588505]\n",
      "dydx:  -0.6718112936753023 Rcurv: -35488.24737092869 orientation:  -0.5915558165081558\n",
      "SH Vg [0.09503512] first term -1.9873396914967525 root [2.08020509]\n",
      "plus root [0.09286539] min root [-4.06754478]\n",
      "dydx:  -0.028351033042328028 Rcurv: 322075.1518614683 orientation:  -0.028343440695607958\n",
      "SH Vg [0.05637173] first term 18.065167121977662 root [18.00870716]\n",
      "plus root [36.07387428] min root [0.05645996]\n",
      "dydx:  0.26611117999837164 Rcurv: -66887.61593711992 orientation:  0.26008371217749277\n",
      "SH Vg [0.22798556] first term -3.741601050095194 root [3.96303424]\n",
      "plus root [0.22143319] min root [-7.70463529]\n",
      "dydx:  0.5023683919256123 Rcurv: -164610.19978247324 orientation:  0.46554052700959725\n",
      "SH Vg [0.42153597] first term -9.184617037815203 root [9.59689966]\n",
      "plus root [0.41228262] min root [-18.78151669]\n",
      "dydx:  0.40097845130615906 Rcurv: -434157.13806929695 orientation:  0.38134958492197973\n",
      "SH Vg [0.54615847] first term -24.157466401631105 root [24.69758678]\n",
      "plus root [0.54012038] min root [-48.85505318]\n",
      "dydx:  0.38040795798889593 Rcurv: 11147958.249293836 orientation:  0.3635034436370452\n",
      "SH Vg [0.51180524] first term 618.5881645835981 root [618.07614744]\n",
      "plus root [1236.66431203] min root [0.51201714]\n",
      "dydx:  0.2873350392790963 Rcurv: 352180.73374021763 orientation:  0.2797974491863477\n",
      "SH Vg [0.42973933] first term 19.489635662633315 root [19.0550511]\n",
      "plus root [38.54468676] min root [0.43458456]\n",
      "dydx:  0.13286557624876255 Rcurv: 76943.11243131098 orientation:  0.1320919175095136\n",
      "SH Vg [0.32500232] first term 4.246223809028419 root [3.90772971]\n",
      "plus root [8.15395351] min root [0.3384941]\n",
      "dydx:  0.10298609604474851 Rcurv: 118511.33968807415 orientation:  0.10262430077275608\n",
      "SH Vg [0.36268177] first term 6.564864632375467 root [6.19156961]\n",
      "plus root [12.75643424] min root [0.37329503]\n",
      "dydx:  -0.12959520115922094 Rcurv: 73194.13664728898 orientation:  -0.12887691203464183\n",
      "SH Vg [0.30497999] first term 4.060758172761954 root [3.74337508]\n",
      "plus root [7.80413325] min root [0.31738309]\n",
      "dydx:  -0.36123815332429754 Rcurv: 71234.65559492493 orientation:  -0.3466512467041286\n",
      "SH Vg [0.29066117] first term 3.939547161469619 root [3.6372909]\n",
      "plus root [7.57683806] min root [0.30225626]\n"
     ]
    },
    {
     "name": "stdout",
     "output_type": "stream",
     "text": [
      "dydx:  0.13392588063610744 Rcurv: 145062.88148014902 orientation:  0.13313368417216467\n",
      "SH Vg [0.35232475] first term 8.065770432546591 root [7.70539497]\n",
      "plus root [15.7711654] min root [0.36037546]\n",
      "dydx:  0.3386298906321325 Rcurv: -292900.5709428857 orientation:  0.3265098575972325\n",
      "SH Vg [0.41817917] first term -16.321627744897643 root [16.73458281]\n",
      "plus root [0.41295507] min root [-33.05621056]\n",
      "dydx:  0.5756931763940308 Rcurv: 243226.7811777741 orientation:  0.5223550642269787\n",
      "SH Vg [0.43422614] first term 13.583901400322235 root [13.14250384]\n",
      "plus root [26.72640524] min root [0.44139756]\n",
      "dydx:  0.9152933643876626 Rcurv: -57148.032084338985 orientation:  0.7412005100412381\n",
      "SH Vg [0.34396018] first term -3.198810911928414 root [3.52603438]\n",
      "plus root [0.32722346] min root [-6.72484529]\n",
      "dydx:  0.578746009647255 Rcurv: -298474.62468435377 orientation:  0.5246449482807339\n",
      "SH Vg [0.19292371] first term -16.742022469978206 root [16.93384725]\n",
      "plus root [0.19182478] min root [-33.67586972]\n",
      "dydx:  0.011763123579160317 Rcurv: -13785.686791334429 orientation:  0.011762581065510274\n",
      "SH Vg [0.06924828] first term -0.7749562093543816 root [0.84135955]\n",
      "plus root [0.06640334] min root [-1.61631576]\n",
      "dydx:  -1.5093202507602261 Rcurv: -63256.62555187988 orientation:  -0.9856492016370452\n",
      "SH Vg [0.05538292] first term -3.563588989681274 root [3.61854811]\n",
      "plus root [0.05495912] min root [-7.1821371]\n"
     ]
    },
    {
     "name": "stderr",
     "output_type": "stream",
     "text": [
      "/home/janjaapmeijer/miniconda3/envs/ocean36/lib/python3.6/site-packages/scipy/interpolate/fitpack2.py:227: UserWarning: \n",
      "The maximal number of iterations maxit (set to 20 by the program)\n",
      "allowed for finding a smoothing spline with fp=s has been reached: s\n",
      "too small.\n",
      "There is an approximation returned but the corresponding weighted sum\n",
      "of squared residuals does not satisfy the condition abs(fp-s)/s < tol.\n",
      "  warnings.warn(message)\n",
      "/home/janjaapmeijer/miniconda3/envs/ocean36/lib/python3.6/site-packages/scipy/interpolate/fitpack2.py:227: UserWarning: \n",
      "The maximal number of iterations maxit (set to 20 by the program)\n",
      "allowed for finding a smoothing spline with fp=s has been reached: s\n",
      "too small.\n",
      "There is an approximation returned but the corresponding weighted sum\n",
      "of squared residuals does not satisfy the condition abs(fp-s)/s < tol.\n",
      "  warnings.warn(message)\n"
     ]
    }
   ],
   "source": [
    "coords = (lon_ctd, lat_ctd)\n",
    "Vg = np.empty(len(lon_ctd))\n",
    "V, theta = Vg.copy(), Vg.copy()\n",
    "for ic, coord in enumerate(zip(*coords)):\n",
    "    coords_ct, ti, ni, ugos, vgos, Vg[ic], V[ic], theta[ic] = gradient_balance_from_ssh(ssh, coord, time=ssh.time[it], transform=UTM54)\n",
    "\n",
    "ug = Vg * np.cos(theta)\n",
    "vg = Vg * np.sin(theta)\n",
    "\n",
    "ugr = V * np.cos(theta)\n",
    "vgr = V * np.sin(theta)"
   ]
  },
  {
   "cell_type": "code",
   "execution_count": 8,
   "metadata": {},
   "outputs": [
    {
     "data": {
      "text/plain": [
       "<IPython.core.display.Javascript object>"
      ]
     },
     "metadata": {},
     "output_type": "display_data"
    },
    {
     "data": {
      "text/html": [
       "<img src=\"data:image/png;base64,iVBORw0KGgoAAAANSUhEUgAAAyAAAAJYCAYAAACadoJwAAAHXElEQVR4nO3BMQEAAADCoPVPbQZ/oAAAAAAAAAAAAAAAAAAAAAAAAAAAAAAAAAAAAAAAAAAAAAAAAAAAAAAAAAAAAAAAAAAAAAAAAAAAAAAAAAAAAAAAAAAAAAAAAAAAAAAAAAAAAAAAAAAAAAAAAAAAAAAAAAAAAAAAAAAAAAAAAAAAAAAAAAAAAAAAAAAAAAAAAAAAAAAAAAAAAAAAAAAAAAAAAAAAAAAAAAAAAAAAAAAAAAAAAAAAAAAAAAAAAAAAAAAAAAAAAAAAAAAAAAAAAAAAAAAAAAAAAAAAAAAAAAAAAAAAAAAAAAAAAAAAAAAAAAAAAAAAAAAAAAAAAAAAAAAAAAAAAAAAAAAAAAAAAAAAAAAAAAAAAAAAAAAAAAAAAAAAAAAAAAAAAAAAAAAAAAAAAAAAAAAAAAAAAAAAAAAAAAAAAAAAAAAAAAAAAAAAAAAAAAAAAAAAAAAAAAAAAAAAAAAAAAAAAAAAAAAAAAAAAAAAAAAAAAAAAAAAAAAAAAAAAAAAAAAAAAAAAAAAAAAAAAAAAAAAAAAAAAAAAAAAAAAAAAAAAAAAAAAAAAAAAAAAAAAAAAAAAAAAAAAAAAAAAAAAAAAAAAAAAAAAAAAAAAAAAAAAAAAAAAAAAAAAAAAAAAAAAAAAAAAAAAAAAAAAAAAAAAAAAAAAAAAAAAAAAAAAAAAAAAAAAAAAAAAAAAAAAAAAAAAAAAAAAAAAAAAAAAAAAAAAAAAAAAAAAAAAAAAAAAAAAAAAAAAAAAAAAAAAAAAAAAAAAAAAAAAAAAAAAAAAAAAAAAAAAAAAAAAAAAAAAAAAAAAAAAAAAAAAAAAAAAAAAAAAAAAAAAAAAAAAAAAAAAAAAAAAAAAAAAAAAAAAAAAAAAAAAAAAAAAAAAAAAAAAAAAAAAAAAAAAAAAAAAAAAAAAAAAAAAAAAAAAAAAAAAAAAAAAAAAAAAAAAAAAAAAAAAAAAAAAAAAAAAAAAAAAAAAAAAAAAAAAAAAAAAAAAAAAAAAAAAAAAAAAAAAAAAAAAAAAAAAAAAAAAAAAAAAAAAAAAAAAAAAAAAAAAAAAAAAAAAAAAAAAAAAAAAAAAAAAAAAAAAAAAAAAAAAAAAAAAAAAAAAAAAAAAAAAAAAAAAAAAAAAAAAAAAAAAAAAAAAAAAAAAAAAAAAAAAAAAAAAAAAAAAAAAAAAAAAAAAAAAAAAAAAAAAAAAAAAAAAAAAAAAAAAAAAAAAAAAAAAAAAAAAAAAAAAAAAAAAAAAAAAAAAAAAAAAAAAAAAAAAAAAAAAAAAAAAAAAAAAAAAAAAAAAAAAAAAAAAAAAAAAAAAAAAAAAAAAAAAAAAAAAAAAAAAAAAAAAAAAAAAAAAAAAAAAAAAAAAAAAAAAAAAAAAAAAAAAAAAAAAAAAAAAAAAAAAAAAAAAAAAAAAAAAAAAAAAAAAAAAAAAAAAAAAAAAAAAAAAAAAAAAAAAAAAAAAAAAAAAAAAAAAAAAAAAAAAAAAAAAAAAAAAAAAAAAAAAAAAAAAAAAAAAAAAAAAAAAAAAAAAAAAAAAAAAAAAAAAAAAAAAAAAAAAAAAAAAAAAAAAAAAAAAAAAAAAAAAAAAAAAAAAAAAAAAAAAAAAAAAAAAAAAAAAAAAAAAAAAAAAAAAAAAAAAAAAAAAAAAAAAAAAAAAAAAAAAAAAAAAAAAAAAAAAAAAAAAAAAAAAAAAAAAAAAAAAAAAAAAAAAAAAAAAAAAAAAAAAAAAAAAAAAAAAAAAAAAAAAAAAAAAAAAAAAAAAAAAAAAAAAAAAAAAAAAAAAAAAAAAAAAAAAAAAAAAAAAAAAAAAAAAAAAAAAAAAAAAAAAAAAAAAAAAAAAAAAAAAAAAAAAAAAAAAAAAAAAAAAAAAAAAAAAAAAAAAAAAAAAAAAAAAAAAAAAAAAAAAAAAAAAAAAAAAAAAAAAAAAAAAAAAAAAAAAAAAAAAAAAAAAAAAAAAAAAAAAAAAAAAAAAAAAAAAAAAAAAAAAAAAAAAAAAAAAAAAAAAAAAAAAAAAAAAAAAAAAAAAAAAAAAAAAAAAAAAAAAAAAAAAAAAAAAAAAAAAAAAAAAAAAAAAAAAAAAAAAAAAAAAAAAAAAAAAAAAAAAAAAAAAAAAAAAAAAAAAAAAAAAAAAAAAAAAAAAAAAAAAAAAAAAAAAAAAAAAAAAAAAAAAAAAAAAAAAAAAAAAAAAAAAAAAAAAAAAAAAAAAAAAAAAAAAAAAAAAAAAAAAAAAAAAAAAAAAAAAAAAAAAAAAAAAAAAAAAAAAAAAAAAAAAAAAAAAAAAAAAAAAAAAAAAAAAAAAAAAAAAAAAAAAAAAAAAAAAAAAAAAAAAAAAAAAAAAAAAAAAAAAAAAAAAAAAAAAAAAAAAAAAAAAAAAAAAAAAAAAAAAAAAAAAAAAAAAAAAAAAAAAAAAAAAAAAAAAAAAAAAAAAAAAAAAAAAAAAAAAAAAAAAAAAAAAAAAAAAAAAAAAAAAAAAAAAAAAAAAAAAAAAAAAAAAA+A1ALAAFujETzAAAAAElFTkSuQmCC\" width=\"800\">"
      ],
      "text/plain": [
       "<IPython.core.display.HTML object>"
      ]
     },
     "metadata": {},
     "output_type": "execute_result"
    },
    {
     "data": {
      "text/plain": [
       "<matplotlib.quiver.QuiverKey at 0x7fc7d64c6438>"
      ]
     },
     "execution_count": 8,
     "metadata": {},
     "output_type": "execute_result"
    }
   ],
   "source": [
    "%matplotlib notebook\n",
    "fig, ax = plt.subplots(figsize=(8, 6))\n",
    "\n",
    "ax.contour(ssh.longitude, ssh.latitude, ssh.adt.sel(time=ssh.time[it]), [-0.15, 0, 0.15, 0.3, 0.45], colors='k')\n",
    "quiv = ax.quiver(ssh.longitude, ssh.latitude, ssh.ugos.sel(time=ssh.time[it]), ssh.vgos.sel(time=ssh.time[it]), \n",
    "                 units='inches', scale=1, width=1e-3*fig.get_size_inches()[0], color='k')\n",
    "quiv2 = ax.quiver(*coords, ug, vg, units='inches', scale=1, width=4e-3*fig.get_size_inches()[0], color='r')\n",
    "quiv2 = ax.quiver(*coords, ugr, vgr, units='inches', scale=1, width=2e-3*fig.get_size_inches()[0], color='b')\n",
    "\n",
    "plt.quiverkey(quiv, 0.9, 0.95, 1, '1 m/s', labelpos='E', \n",
    "                   coordinates='figure', fontproperties={'size': 'medium'})\n",
    "plt.quiverkey(quiv2, 0.9, 0.9, 1, '1 m/s', labelpos='E', \n",
    "                   coordinates='figure', fontproperties={'size': 'medium'})"
   ]
  },
  {
   "cell_type": "code",
   "execution_count": 13,
   "metadata": {
    "scrolled": false
   },
   "outputs": [
    {
     "data": {
      "text/plain": [
       "<IPython.core.display.Javascript object>"
      ]
     },
     "metadata": {},
     "output_type": "display_data"
    },
    {
     "data": {
      "text/html": [
       "<img src=\"data:image/png;base64,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\" width=\"640\">"
      ],
      "text/plain": [
       "<IPython.core.display.HTML object>"
      ]
     },
     "metadata": {},
     "output_type": "execute_result"
    }
   ],
   "source": [
    "%matplotlib notebook\n",
    "# define grid\n",
    "nx, ny = 41, 41\n",
    "lx, ly = 2e5, 2e5\n",
    "xi, dx = np.linspace(-lx, lx, nx, retstep=True)\n",
    "yi, dy = np.linspace(-ly, ly, ny, retstep=True)\n",
    "# dx, dy = Lx / (nx - 1), Ly / (ny - 1)\n",
    "xx, yy = np.meshgrid(xi, yi)\n",
    "xc, yc = xi[0] + (nx - 1) * dx / 2, yi[0] + (ny - 1) * dy / 2\n",
    "amp, a, b, = 0.5, 1e-10, 1e-10\n",
    "z = -amp * np.exp(-a*(xx - xc)**2 - b*(yy-yc)**2)\n",
    "\n",
    "fig, ax = plt.subplots()\n",
    "cf = ax.contourf(xx, yy, z)\n",
    "fig.colorbar(cf)\n",
    "ax.axis('equal')\n",
    "fig.tight_layout()\n"
   ]
  },
  {
   "cell_type": "code",
   "execution_count": 14,
   "metadata": {},
   "outputs": [],
   "source": [
    "field = xr.DataArray(z, dims=['latitude', 'longitude'], coords=[yi, xi])"
   ]
  },
  {
   "cell_type": "code",
   "execution_count": 15,
   "metadata": {},
   "outputs": [
    {
     "name": "stdout",
     "output_type": "stream",
     "text": [
      "dydx:  3.823330541052883e-15 Rcurv: -104598.66079334247 orientation:  3.823330541052883e-15\n",
      "SH Vg [0.35968558] first term -5.229933039667124 root [5.57803394]\n",
      "plus root [0.3481009] min root [-10.80796698]\n",
      "x is not increasing\n",
      "dydx:  -20.82050934127055 Rcurv: -104462.97610501651 orientation:  1.6187890103460656\n",
      "SH Vg [-0.35927143] first term -5.223148805250826 root [4.8505904]\n",
      "plus root [-0.37255841] min root [-10.0737392]\n",
      "dydx:  -0.995618087197423 Rcurv: -241208.36755467986 orientation:  -0.783202399694764\n",
      "SH Vg [0.1871296] first term -12.060418377733994 root [12.24611833]\n",
      "plus root [0.18569995] min root [-24.3065367]\n",
      "x is not increasing\n",
      "dydx:  0.995618087197423 Rcurv: 241208.36755467986 orientation:  3.9247950532845572\n",
      "SH Vg [0.1871296] first term 12.060418377733994 root [11.87181405]\n",
      "plus root [23.93223243] min root [0.18860433]\n",
      "x is not increasing\n",
      "dydx:  -0.9956180857052356 Rcurv: 241208.38955040302 orientation:  2.3583902546443993\n",
      "SH Vg [0.1871296] first term 12.060419477520151 root [11.87181515]\n",
      "plus root [23.93223463] min root [0.18860433]\n",
      "dydx:  0.9956180857052356 Rcurv: -241208.38955040302 orientation:  0.7832023989453938\n",
      "SH Vg [0.1871296] first term -12.060419477520151 root [12.24611943]\n",
      "plus root [0.18569995] min root [-24.3065389]\n"
     ]
    }
   ],
   "source": [
    "loc = 100000\n",
    "fcor = -1e-4\n",
    "# ----------------\n",
    "\n",
    "# coords = (loc, loc)\n",
    "# coords_ct, ti, ni, ugos, vgos, Vg, V, theta = gradient_balance_from_ssh(field, coords)\n",
    "\n",
    "# ----------------\n",
    "coords = ([0, loc, loc, loc, -loc, -loc], [loc, 0, loc, -loc, -loc, loc])\n",
    "# coords = ([loc], [loc])\n",
    "Vg = np.empty(len(coords[0]))\n",
    "V, theta = Vg.copy(), Vg.copy()\n",
    "for ic, coord in enumerate(zip(*coords)):\n",
    "    coords_ct, ti, ni, ugos, vgos, Vg[ic], V[ic], theta[ic] = gradient_balance_from_ssh(field, coord, fcor=fcor)\n",
    "\n",
    "# ----------------\n",
    "\n",
    "ug = Vg * np.cos(theta)\n",
    "vg = Vg * np.sin(theta)\n",
    "\n",
    "ugr = V * np.cos(theta)\n",
    "vgr = V * np.sin(theta)"
   ]
  },
  {
   "cell_type": "code",
   "execution_count": 16,
   "metadata": {},
   "outputs": [
    {
     "data": {
      "text/plain": [
       "<IPython.core.display.Javascript object>"
      ]
     },
     "metadata": {},
     "output_type": "display_data"
    },
    {
     "data": {
      "text/html": [
       "<img src=\"data:image/png;base64,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\" width=\"800\">"
      ],
      "text/plain": [
       "<IPython.core.display.HTML object>"
      ]
     },
     "metadata": {},
     "output_type": "execute_result"
    }
   ],
   "source": [
    "fig, ax = plt.subplots(figsize=(8, 6))\n",
    "ct = ax.contour(field.longitude, field.latitude, field)\n",
    "ax.clabel(ct)\n",
    "ax.scatter(*coords)\n",
    "ax.scatter(*zip(coords_ct), facecolors='orange')\n",
    "ax.scatter(ti, ni, facecolors='green')\n",
    "ax.scatter(ti[1], ni[1], facecolors='purple')\n",
    "plt.quiver(*coords, ug, vg, units='inches', scale=1, width=4e-3*fig.get_size_inches()[0], color='r')\n",
    "plt.quiver(*coords, ugr, vg, units='inches', scale=1, width=2e-3*fig.get_size_inches()[0], color='b')\n",
    "\n",
    "ax.axis('equal')\n",
    "fig.tight_layout()\n"
   ]
  },
  {
   "cell_type": "code",
   "execution_count": null,
   "metadata": {},
   "outputs": [],
   "source": []
  }
 ],
 "metadata": {
  "kernelspec": {
   "display_name": "Python 3",
   "language": "python",
   "name": "python3"
  },
  "language_info": {
   "codemirror_mode": {
    "name": "ipython",
    "version": 3
   },
   "file_extension": ".py",
   "mimetype": "text/x-python",
   "name": "python",
   "nbconvert_exporter": "python",
   "pygments_lexer": "ipython3",
   "version": "3.6.7"
  }
 },
 "nbformat": 4,
 "nbformat_minor": 2
}
