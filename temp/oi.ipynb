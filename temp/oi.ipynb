{
 "cells": [
  {
   "cell_type": "markdown",
   "metadata": {},
   "source": [
    "# Optimal Interpolation (OI) / Gauss-Markov smoothing"
   ]
  },
  {
   "cell_type": "markdown",
   "metadata": {},
   "source": [
    "## Optimal Interpolation equation\n",
    "$\\renewcommand{\\vec}[1]{\\mathbf{#1}}$\n",
    "[](http://twister.caps.ou.edu/OBAN2016/OI_partI.pdf)\n",
    "[](http://twister.caps.ou.edu/OBAN2016/OI_partII.pdf)\n",
    "[](http://twister.caps.ou.edu/OBAN2016/METR5303_Lecture14.pdf)\n",
    "[](Kalman filter)\n",
    "[](https://team.inria.fr/moise/files/2012/03/Nodet_Intro_DataAssimilation.pdf)\n",
    "[](http://scipy-cookbook.readthedocs.io/items/KalmanFiltering.html)\n",
    "[](https://stackoverflow.com/questions/13901997/kalman-2d-filter-in-python)\n",
    "$$ \\vec{x}^a = \\vec{x}^b + \\vec{W} \\left[\\vec{y}^o - H(\\vec{x}^b)\\right] = \\vec{x}^b + \\vec{W}\\vec{d} $$\n",
    "\n",
    "$\\vec{x}^a$ - optimum analysis of a field of model variables, ie. $\\vec{x}^a  = (T, S, u, v) $  \n",
    "$\\vec{x}^b$ - background field available at grid points  \n",
    "$\\vec{y}^0$ - set of observations available at irregularly spaced point with radius $\\vec{r}_i$ from grid point  \n",
    "$H$ - forward observational operator, converts background field into \"observed first guesses\"  \n",
    "$\\vec{d} $ - \"innovation\" or \"observational increments\" vector, defined as difference between the observation and the background mapped to the observational point via forward operator $H$\n",
    "\n",
    "$\\vec{x}^a$,\n",
    "$\\vec{x}^b$ - vectors of length $n$, the number of grid points times the number of model variables  \n",
    "$\\vec{y}^0$,\n",
    "$\\vec{d}$ - vectors of length $p$, the number of observations\n",
    "\n",
    "### Weight matrix\n",
    "\n",
    "$$ \\vec{W} = \\vec{B}\\vec{H}^T\\left(\\vec{R} + \\vec{H}\\vec{B}\\vec{H}^T\\right)^{-1} $$\n",
    "\n",
    "$\\vec{W}$ - weight matrix with shape ($n\\times p$)  \n",
    "$\\vec{H}$ - linear operator matrix with shape ($p\\times n$)  \n",
    "$\\vec{A}$ - analysis error covariance matrix with shape ($ n\\times n$)  \n",
    "$\\vec{B}$ - background error covariance matrix with shape ($ n\\times n$)  \n",
    "$\\vec{R}$ - observation error covariance matrix with shape ($ p\\times p$)\n",
    "\n",
    "\n",
    "\n",
    "### Error covariance matrices\n",
    "\n",
    "analysis error and background error as vectors of length $n$\n",
    "\n",
    "$$ \\vec{\\varepsilon}^a(x, y) = \\vec{x}^a(x,y) - \\vec{x}^t(x,y) $$\n",
    "$$ \\vec{\\varepsilon}^b(x, y) = \\vec{x}^b(x,y) - \\vec{x}^t(x,y) $$\n",
    "\n",
    "observational errors as vector of length $p$\n",
    "\n",
    "$$ \\vec{\\varepsilon}^o_i = \\vec{y}^o(\\vec{r}_i) - \\vec{y}^t(\\vec{r_i}) $$\n",
    "\n",
    "error covariance matrices for the analysis, background and observations\n",
    "\n",
    "$$ \\vec{A} = E\\{\\vec{\\varepsilon}^a(\\vec{\\varepsilon}^a)^T\\} $$\n",
    "$$ \\vec{B} = E\\{\\vec{\\varepsilon}^b(\\vec{\\varepsilon}^b)^T\\} $$\n",
    "$$ \\vec{R} = E\\{\\vec{\\varepsilon}^o(\\vec{\\varepsilon}^o)^T\\} $$\n",
    "\n",
    "analysis covariance matrix\n",
    "\n",
    "$$ \\vec{A} = (\\vec{I} - \\vec{W}\\vec{H})\\vec{B}$$\n",
    "\n",
    "$\\vec{I}$ - identity matrix with shape ($ n\\times n$)\n",
    "\n",
    "\n",
    "### Linear observation operator\n",
    "\n",
    "$$ \\vec{H} $$"
   ]
  },
  {
   "cell_type": "markdown",
   "metadata": {},
   "source": [
    "### For grid point $g$ influenced by $p$ observations\n",
    "\n",
    "$$ x_g^a = x_g^b + \\sum_{j=1}^{p}w_{gj}\\delta y_j $$\n",
    "\n",
    "$$ \\delta y_j = y_o - y_b = y_o - H(x_b) $$\n",
    "\n",
    "$$ b_{gk} = \\sum_{j=1}^{p}w_{gj}(b_{jk} + r_{jk}) \\quad \\text{for} \\quad k = 1,2, ..., p $$\n",
    "\n",
    "$ b, r $ - background and observation error covariances, respectively  \n",
    "$ b_{jk} $ - between observations  \n",
    "$ b_{gk} $ - between grid point and observations\n",
    "\n",
    "let b be modeled by $ b(r) = e^{-dr^2} $\n"
   ]
  },
  {
   "cell_type": "code",
   "execution_count": 10,
   "metadata": {},
   "outputs": [
    {
     "name": "stdout",
     "output_type": "stream",
     "text": [
      "[[ 1.  0.  0.]\n",
      " [ 0.  1.  0.]\n",
      " [ 0.  0.  1.]\n",
      " [ 0.  0.  0.]]\n"
     ]
    }
   ],
   "source": [
    "def oi(obs, gridsize=(100, 50)):\n",
    "    '''\n",
    "    :param x: analysis: x = (lon, lat, T, S, u, v)\n",
    "    :param B: background error covariance matrix\n",
    "    :param z:\n",
    "    :param order:\n",
    "    :param gridsize:\n",
    "    :return:\n",
    "    '''\n",
    "#     grid_points = grid_points.flatten()\n",
    "    \n",
    "    n = len(grid_points) * len(vars)\n",
    "    p = len(obs)\n",
    "    nns = (n, n)\n",
    "    nps = (n, p)\n",
    "    pns = (p, n)\n",
    "    pps = (p, p)\n",
    "    \n",
    "    \n",
    "    \n",
    "    # initialise background error covariance matrix\n",
    "    B = np.matrix() # nns\n",
    "    \n",
    "    varb = np.var(obs)\n",
    "    B = np.matrix(np.eye(nns))\n",
    "    \n",
    "    \n",
    "    # initialise observation error covariance matrix\n",
    "    R = \n",
    "    \n",
    "    # linear operator matrix\n",
    "    H = \n",
    "    \n",
    "    # analysis covariance matrix\n",
    "    A =\n",
    "    \n",
    "    \n",
    "    \n",
    "    d = np.matrix(obs) - H * x\n",
    "    \n",
    "    S = R + H * B * H.T\n",
    "    W = B * H.T * S.I\n",
    "    \n",
    "    x = x + W * d\n",
    "    \n",
    "    I = np.matrix(np.eye(??.shape))\n",
    "    \n",
    "\n",
    "    \n",
    "    # initialise analysis, background and observational error covariance matrices\n",
    "    A = \n",
    "    B = \n",
    "    R = \n",
    "    \n",
    "\n",
    "\n",
    "np.matrix(np.eye(4))\n",
    "print(np.eye(4,3))"
   ]
  },
  {
   "cell_type": "code",
   "execution_count": 37,
   "metadata": {},
   "outputs": [],
   "source": [
    "import matplotlib.pyplot as plt\n",
    "from OceanPy.polynomials import polyfit1d, polyfit2d\n",
    "import numpy as np"
   ]
  },
  {
   "cell_type": "code",
   "execution_count": 50,
   "metadata": {},
   "outputs": [
    {
     "data": {
      "text/plain": [
       "<matplotlib.colorbar.Colorbar at 0x7efd5d056588>"
      ]
     },
     "execution_count": 50,
     "metadata": {},
     "output_type": "execute_result"
    },
    {
     "data": {
      "image/png": "[encoded data removed]",
      "text/plain": [
       "<matplotlib.figure.Figure at 0x7efd5db1fc18>"
      ]
     },
     "metadata": {},
     "output_type": "display_data"
    }
   ],
   "source": [
    "xg, yg = 0, 0\n",
    "\n",
    "lon = np.array([1, 0, -0.7071])\n",
    "lat = np.array([0, 1, -0.7071])\n",
    "\n",
    "T = np.array([5, 2, 8])\n",
    "\n",
    "n = 1 #len(grid_points) * len(vars)\n",
    "p = len(T) #len(obs)\n",
    "nns = (n, n)\n",
    "nps = (n, p)\n",
    "pns = (p, n)\n",
    "pps = (p, p)\n",
    "\n",
    "# observation vector\n",
    "yo = np.matrix(T)\n",
    "\n",
    "# linear operator matrix\n",
    "H = np.matrix(np.zeros(pns))\n",
    "[np.sqrt(abs()**2 + abs()**2) for i]\n",
    "\n",
    "# background error covariance matrix\n",
    "# B = np.matrix(np.zeros(nns))\n",
    "\n",
    "\n",
    "# observation error covariance matrix\n",
    "# R = \n",
    "\n",
    "# # initialise background error covariance matrix\n",
    "# varb = np.var(obs)\n",
    "# B = np.matrix(np.eye(nns))\n",
    "\n",
    "# H=np.matrix\n",
    "\n",
    "\n",
    "# print()\n",
    "\n",
    "\n",
    "\n",
    "xm, ym, zm, Am = polyfit2d(lon, lat, T, order=1, gridsize=(3, 3))\n",
    "xmp, ymp, zmp, Amp = polyfit2d(lon, lat, T, order=1, point=(xg, yg))\n",
    "\n",
    "\n",
    "\n",
    "\n",
    "plt.pcolor(xm, ym, zm)\n",
    "cmap = cm.get_cmap('jet')\n",
    "scat = plt.scatter(lon, lat, c=T, s=100)\n",
    "plt.scatter(xg, yg, facecolors='w', s=100)\n",
    "plt.axis('equal')\n",
    "plt.colorbar(scat)\n",
    "\n"
   ]
  },
  {
   "cell_type": "code",
   "execution_count": 47,
   "metadata": {},
   "outputs": [
    {
     "data": {
      "text/plain": [
       "(matrix([[ 0.],\n",
       "         [ 0.],\n",
       "         [ 0.]]), (1, 3), 4.8180142490265911, 5.3639715019468133, 5.0)"
      ]
     },
     "execution_count": 47,
     "metadata": {},
     "output_type": "execute_result"
    }
   ],
   "source": [
    "H, yo.shape, zm[1,1], zmp, np.mean(T)"
   ]
  },
  {
   "cell_type": "code",
   "execution_count": 54,
   "metadata": {},
   "outputs": [
    {
     "data": {
      "text/plain": [
       "(array([ 5.3639715, -3.3639715, -0.3639715]),\n",
       " array([ 5.3639715, -3.3639715, -0.3639715]))"
      ]
     },
     "execution_count": 54,
     "metadata": {},
     "output_type": "execute_result"
    }
   ],
   "source": [
    "Am, Amp"
   ]
  },
  {
   "cell_type": "code",
   "execution_count": 21,
   "metadata": {},
   "outputs": [
    {
     "name": "stdout",
     "output_type": "stream",
     "text": [
      "(0.040000000000000001, 0.059999999999999998, 24.600000000000001)\n",
      "(-0.044999999999999998, -0.029999999999999999, 26.399999999999999)\n",
      "(0.044999999999999998, -0.070000000000000007, 25.199999999999999)\n",
      "(-0.074999999999999997, 0.050000000000000003, 25.899999999999999)\n",
      "[]\n"
     ]
    }
   ],
   "source": [
    "# observations and locations\n",
    "X = np.array([40e-3, -45e-3, 45e-3, -75e-3])\n",
    "Y = np.array([60e-3, -30e-3, -70e-3, 50e-3])\n",
    "temp = np.array([24.6, 26.4, 25.2, 25.9])\n",
    "\n",
    "# grid point\n",
    "xi, yi = 0, 0\n",
    "\n",
    "obs = zip(X, Y, temp)\n",
    "for o in obs:\n",
    "    print(o)\n",
    "print(list(obs))\n"
   ]
  },
  {
   "cell_type": "code",
   "execution_count": 4,
   "metadata": {},
   "outputs": [
    {
     "data": {
      "text/plain": [
       "<matplotlib.colorbar.Colorbar at 0x7fc079e0e550>"
      ]
     },
     "execution_count": 4,
     "metadata": {},
     "output_type": "execute_result"
    },
    {
     "data": {
      "image/png": "[encoded data removed]",
      "text/plain": [
       "<matplotlib.figure.Figure at 0x7fc07d601f60>"
      ]
     },
     "metadata": {},
     "output_type": "display_data"
    }
   ],
   "source": [
    "# plot observations\n",
    "scat = plt.scatter(X, Y, c=temp, s=100)\n",
    "# plot grid point\n",
    "plt.scatter(xi, yi,facecolors='none', s=100)\n",
    "plt.axis('equal')\n",
    "plt.xlim([-0.1, 0.1])\n",
    "plt.ylim([-0.1, 0.1])\n",
    "plt.colorbar(scat)\n"
   ]
  }
 ],
 "metadata": {
  "kernelspec": {
   "display_name": "Python 3",
   "language": "python",
   "name": "python3"
  },
  "language_info": {
   "codemirror_mode": {
    "name": "ipython",
    "version": 3
   },
   "file_extension": ".py",
   "mimetype": "text/x-python",
   "name": "python",
   "nbconvert_exporter": "python",
   "pygments_lexer": "ipython3",
   "version": "3.5.4"
  }
 },
 "nbformat": 4,
 "nbformat_minor": 2
}
